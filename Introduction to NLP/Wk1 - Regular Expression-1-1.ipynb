{
 "cells": [
  {
   "cell_type": "code",
   "execution_count": null,
   "metadata": {
    "colab": {
     "autoexec": {
      "startup": false,
      "wait_interval": 0
     }
    },
    "colab_type": "code",
    "id": "gxD_3fs1tX_E"
   },
   "outputs": [],
   "source": [
    "import re\n",
    "import pandas as pd"
   ]
  },
  {
   "cell_type": "code",
   "execution_count": null,
   "metadata": {
    "colab": {
     "autoexec": {
      "startup": false,
      "wait_interval": 0
     }
    },
    "colab_type": "code",
    "id": "8iK3d-cLBipr"
   },
   "outputs": [],
   "source": [
    "def match(pattern, true_cases, false_cases):\n",
    "  return match_dataframe(pattern, get_dataframe(true_cases, false_cases))\n",
    "\n",
    "def match_dataframe(pattern, data):\n",
    "  data['Predicted'] = data['Value'].apply(lambda x: re.match(pattern, x) is not None)\n",
    "  data['Correct'] = data.apply(lambda row: \"✅\" if row['Label'] == row['Predicted'] else \"❌\", axis=1)\n",
    "  print(\"Accuracy: \", data[data.Correct == \"✅\"].count()[\"Value\"] / data.count()[\"Value\"])\n",
    "  return data\n",
    "  \n",
    "def get_dataframe(true_cases, false_cases):\n",
    "  data1 = pd.DataFrame({'Value' : true_cases})\n",
    "  data1['Label'] = True\n",
    "  data2 = pd.DataFrame({'Value' : false_cases})\n",
    "  data2['Label'] = False\n",
    "  return pd.concat([data1, data2]).reset_index()"
   ]
  },
  {
   "cell_type": "code",
   "execution_count": null,
   "metadata": {},
   "outputs": [],
   "source": [
    "# phone numbers\n",
    "true_cases = [\n",
    "  \"555-222-3311\",\n",
    "  \"(555)222-3311\",\n",
    "  \"1-555-222-3311\"\n",
    "]\n",
    "\n",
    "false_cases = [\n",
    "  \"55-222-3311\",\n",
    "  \"555-222-33311\",\n",
    "  \"5555-222-3311\",\n",
    "  \"5-222-3311\",\n",
    "  \"(55)(52)(22)(33)(11)\",\n",
    "  \"5552-2233-11\"\n",
    "]\n",
    "\n",
    "match(pattern, true_cases, false_cases)"
   ]
  },
  {
   "cell_type": "code",
   "execution_count": null,
   "metadata": {},
   "outputs": [],
   "source": [
    "# Time\n",
    "true_cases = [\n",
    "  \"6:10\",\n",
    "  \"11:37\",\n",
    "  \"6:00AM\",\n",
    "  \"9:43 AM\",\n",
    "  \"10:45 PM\",\n",
    "  \"5:55 p.m.\",\n",
    "  \"4:30 a.m.\"\n",
    "]\n",
    "\n",
    "false_cases = [\n",
    "  \"6.10\",\n",
    "  \"0:0\",\n",
    "  \"13:1\",\n",
    "  \"6:123\",\n",
    "  \"25:12 AM\"\n",
    "]\n",
    "\n",
    "pattern = r'\\d+:\\d+'\n",
    "\n",
    "match(pattern, true_cases, false_cases)"
   ]
  },
  {
   "cell_type": "code",
   "execution_count": null,
   "metadata": {},
   "outputs": [],
   "source": [
    "# Dates\n",
    "true_cases = [\n",
    "  \"01FEB17\",\n",
    "  \"3MAR2017\",\n",
    "  \"September 24\",\n",
    "  \"05-Mar-2015\",\n",
    "  \"19 Feb 2015\",\n",
    "  \"01-02-2014\"\n",
    "]\n",
    "\n",
    "false_cases = [\n",
    "  \"43MAR17\",\n",
    "  \"3AUG123\", \n",
    "  \"43-45-2015\",\n",
    "  \"02ABCD17\",\n",
    "  \"ABCD 31\"\n",
    "]\n",
    "\n",
    "match(pattern, true_cases, false_cases)"
   ]
  },
  {
   "cell_type": "code",
   "execution_count": null,
   "metadata": {},
   "outputs": [],
   "source": [
    "# address\n",
    "true_cases = [\n",
    "  \"123 Binham st, Irvine CA 92617\",\n",
    "  \"123 Binham Street, Irvine CA 92617\",\n",
    "  \"123 North Binham Street, Irvine CA 92617\",\n",
    "  \"123 North Binham Street, Irvine California 92617\",\n",
    "  \"123 Binham st, Apt 2, Irvine CA 92617-3435\"\n",
    "]\n",
    "false_cases = [\n",
    "  \"123 Binham st, Irvine CA 92617-343\",\n",
    "  \"123 Binham st, Irvine CA 9267\",\n",
    "  \"123 Binham st, Irvine\"\n",
    "]\n",
    "\n",
    "match(pattern, true_cases, false_cases)"
   ]
  }
 ],
 "metadata": {
  "colab": {
   "collapsed_sections": [],
   "default_view": {},
   "name": "Wk1 - Regular Expression.ipynb",
   "provenance": [],
   "version": "0.3.2",
   "views": {}
  },
  "kernelspec": {
   "display_name": "Python 3 (ipykernel)",
   "language": "python",
   "name": "python3"
  },
  "language_info": {
   "codemirror_mode": {
    "name": "ipython",
    "version": 3
   },
   "file_extension": ".py",
   "mimetype": "text/x-python",
   "name": "python",
   "nbconvert_exporter": "python",
   "pygments_lexer": "ipython3",
   "version": "3.8.9"
  }
 },
 "nbformat": 4,
 "nbformat_minor": 1
}
