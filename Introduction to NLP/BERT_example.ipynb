{
  "nbformat": 4,
  "nbformat_minor": 0,
  "metadata": {
    "colab": {
      "provenance": []
    },
    "kernelspec": {
      "name": "python3",
      "display_name": "Python 3"
    },
    "language_info": {
      "name": "python"
    }
  },
  "cells": [
    {
      "cell_type": "code",
      "execution_count": null,
      "metadata": {
        "colab": {
          "base_uri": "https://localhost:8080/"
        },
        "id": "cuklUCwIh8FR",
        "outputId": "d37abce0-25b1-4c41-ced1-6420ef8fd8a5"
      },
      "outputs": [
        {
          "output_type": "stream",
          "name": "stdout",
          "text": [
            "Looking in indexes: https://pypi.org/simple, https://us-python.pkg.dev/colab-wheels/public/simple/\n",
            "Requirement already satisfied: transformers in /usr/local/lib/python3.7/dist-packages (4.19.2)\n",
            "Requirement already satisfied: packaging>=20.0 in /usr/local/lib/python3.7/dist-packages (from transformers) (21.3)\n",
            "Requirement already satisfied: regex!=2019.12.17 in /usr/local/lib/python3.7/dist-packages (from transformers) (2019.12.20)\n",
            "Requirement already satisfied: requests in /usr/local/lib/python3.7/dist-packages (from transformers) (2.23.0)\n",
            "Requirement already satisfied: numpy>=1.17 in /usr/local/lib/python3.7/dist-packages (from transformers) (1.21.6)\n",
            "Requirement already satisfied: huggingface-hub<1.0,>=0.1.0 in /usr/local/lib/python3.7/dist-packages (from transformers) (0.7.0)\n",
            "Requirement already satisfied: filelock in /usr/local/lib/python3.7/dist-packages (from transformers) (3.7.0)\n",
            "Requirement already satisfied: tokenizers!=0.11.3,<0.13,>=0.11.1 in /usr/local/lib/python3.7/dist-packages (from transformers) (0.12.1)\n",
            "Requirement already satisfied: importlib-metadata in /usr/local/lib/python3.7/dist-packages (from transformers) (4.11.3)\n",
            "Requirement already satisfied: tqdm>=4.27 in /usr/local/lib/python3.7/dist-packages (from transformers) (4.64.0)\n",
            "Requirement already satisfied: pyyaml>=5.1 in /usr/local/lib/python3.7/dist-packages (from transformers) (6.0)\n",
            "Requirement already satisfied: typing-extensions>=3.7.4.3 in /usr/local/lib/python3.7/dist-packages (from huggingface-hub<1.0,>=0.1.0->transformers) (4.2.0)\n",
            "Requirement already satisfied: pyparsing!=3.0.5,>=2.0.2 in /usr/local/lib/python3.7/dist-packages (from packaging>=20.0->transformers) (3.0.9)\n",
            "Requirement already satisfied: zipp>=0.5 in /usr/local/lib/python3.7/dist-packages (from importlib-metadata->transformers) (3.8.0)\n",
            "Requirement already satisfied: idna<3,>=2.5 in /usr/local/lib/python3.7/dist-packages (from requests->transformers) (2.10)\n",
            "Requirement already satisfied: certifi>=2017.4.17 in /usr/local/lib/python3.7/dist-packages (from requests->transformers) (2022.5.18.1)\n",
            "Requirement already satisfied: urllib3!=1.25.0,!=1.25.1,<1.26,>=1.21.1 in /usr/local/lib/python3.7/dist-packages (from requests->transformers) (1.24.3)\n",
            "Requirement already satisfied: chardet<4,>=3.0.2 in /usr/local/lib/python3.7/dist-packages (from requests->transformers) (3.0.4)\n"
          ]
        }
      ],
      "source": [
        "!pip install transformers"
      ]
    },
    {
      "cell_type": "code",
      "source": [
        "from transformers import pipeline\n",
        "unmasker = pipeline('fill-mask', model='bert-base-uncased')\n",
        "unmasker(\"Artificial Intelligence [MASK] take over the world.\")"
      ],
      "metadata": {
        "colab": {
          "base_uri": "https://localhost:8080/"
        },
        "id": "01VPFsOtiDDJ",
        "outputId": "da487c7e-30a1-45c7-f4d2-75096faaf76f"
      },
      "execution_count": null,
      "outputs": [
        {
          "output_type": "stream",
          "name": "stderr",
          "text": [
            "Some weights of the model checkpoint at bert-base-uncased were not used when initializing BertForMaskedLM: ['cls.seq_relationship.weight', 'cls.seq_relationship.bias']\n",
            "- This IS expected if you are initializing BertForMaskedLM from the checkpoint of a model trained on another task or with another architecture (e.g. initializing a BertForSequenceClassification model from a BertForPreTraining model).\n",
            "- This IS NOT expected if you are initializing BertForMaskedLM from the checkpoint of a model that you expect to be exactly identical (initializing a BertForSequenceClassification model from a BertForSequenceClassification model).\n"
          ]
        },
        {
          "output_type": "execute_result",
          "data": {
            "text/plain": [
              "[{'score': 0.3182411789894104,\n",
              "  'sequence': 'artificial intelligence can take over the world.',\n",
              "  'token': 2064,\n",
              "  'token_str': 'can'},\n",
              " {'score': 0.18299679458141327,\n",
              "  'sequence': 'artificial intelligence will take over the world.',\n",
              "  'token': 2097,\n",
              "  'token_str': 'will'},\n",
              " {'score': 0.05600147321820259,\n",
              "  'sequence': 'artificial intelligence to take over the world.',\n",
              "  'token': 2000,\n",
              "  'token_str': 'to'},\n",
              " {'score': 0.04519503191113472,\n",
              "  'sequence': 'artificial intelligences take over the world.',\n",
              "  'token': 2015,\n",
              "  'token_str': '##s'},\n",
              " {'score': 0.045153118669986725,\n",
              "  'sequence': 'artificial intelligence would take over the world.',\n",
              "  'token': 2052,\n",
              "  'token_str': 'would'}]"
            ]
          },
          "metadata": {},
          "execution_count": 7
        }
      ]
    },
    {
      "cell_type": "code",
      "source": [
        "unmasker(\"Crap, I am running late and my car ran out of [MASK].\")"
      ],
      "metadata": {
        "colab": {
          "base_uri": "https://localhost:8080/"
        },
        "id": "StfH_NP-icD9",
        "outputId": "6afd626d-9bec-49e0-bc17-de91636f238c"
      },
      "execution_count": null,
      "outputs": [
        {
          "output_type": "execute_result",
          "data": {
            "text/plain": [
              "[{'score': 0.640190064907074,\n",
              "  'sequence': 'crap, i am running late and my car ran out of gas.',\n",
              "  'token': 3806,\n",
              "  'token_str': 'gas'},\n",
              " {'score': 0.2741914391517639,\n",
              "  'sequence': 'crap, i am running late and my car ran out of fuel.',\n",
              "  'token': 4762,\n",
              "  'token_str': 'fuel'},\n",
              " {'score': 0.010520177893340588,\n",
              "  'sequence': 'crap, i am running late and my car ran out of power.',\n",
              "  'token': 2373,\n",
              "  'token_str': 'power'},\n",
              " {'score': 0.008160418830811977,\n",
              "  'sequence': 'crap, i am running late and my car ran out of time.',\n",
              "  'token': 2051,\n",
              "  'token_str': 'time'},\n",
              " {'score': 0.004907386377453804,\n",
              "  'sequence': 'crap, i am running late and my car ran out of control.',\n",
              "  'token': 2491,\n",
              "  'token_str': 'control'}]"
            ]
          },
          "metadata": {},
          "execution_count": 8
        }
      ]
    },
    {
      "cell_type": "code",
      "source": [
        "unmasker(\"The man worked as a [MASK].\")"
      ],
      "metadata": {
        "colab": {
          "base_uri": "https://localhost:8080/"
        },
        "id": "PiTewpd2iIRv",
        "outputId": "145569c8-9856-4bde-9910-1a4b526be4df"
      },
      "execution_count": null,
      "outputs": [
        {
          "output_type": "execute_result",
          "data": {
            "text/plain": [
              "[{'score': 0.09747546911239624,\n",
              "  'sequence': 'the man worked as a carpenter.',\n",
              "  'token': 10533,\n",
              "  'token_str': 'carpenter'},\n",
              " {'score': 0.052383411675691605,\n",
              "  'sequence': 'the man worked as a waiter.',\n",
              "  'token': 15610,\n",
              "  'token_str': 'waiter'},\n",
              " {'score': 0.04962698742747307,\n",
              "  'sequence': 'the man worked as a barber.',\n",
              "  'token': 13362,\n",
              "  'token_str': 'barber'},\n",
              " {'score': 0.037886083126068115,\n",
              "  'sequence': 'the man worked as a mechanic.',\n",
              "  'token': 15893,\n",
              "  'token_str': 'mechanic'},\n",
              " {'score': 0.037680838257074356,\n",
              "  'sequence': 'the man worked as a salesman.',\n",
              "  'token': 18968,\n",
              "  'token_str': 'salesman'}]"
            ]
          },
          "metadata": {},
          "execution_count": 9
        }
      ]
    },
    {
      "cell_type": "code",
      "source": [
        "unmasker(\"The woman worked as a [MASK].\")"
      ],
      "metadata": {
        "colab": {
          "base_uri": "https://localhost:8080/"
        },
        "id": "12qhd2r8iVOy",
        "outputId": "98e71fdb-6d6a-41fb-c0d3-879bd60c2de4"
      },
      "execution_count": null,
      "outputs": [
        {
          "output_type": "execute_result",
          "data": {
            "text/plain": [
              "[{'score': 0.21981535851955414,\n",
              "  'sequence': 'the woman worked as a nurse.',\n",
              "  'token': 6821,\n",
              "  'token_str': 'nurse'},\n",
              " {'score': 0.1597413569688797,\n",
              "  'sequence': 'the woman worked as a waitress.',\n",
              "  'token': 13877,\n",
              "  'token_str': 'waitress'},\n",
              " {'score': 0.11547300964593887,\n",
              "  'sequence': 'the woman worked as a maid.',\n",
              "  'token': 10850,\n",
              "  'token_str': 'maid'},\n",
              " {'score': 0.03796879202127457,\n",
              "  'sequence': 'the woman worked as a prostitute.',\n",
              "  'token': 19215,\n",
              "  'token_str': 'prostitute'},\n",
              " {'score': 0.030423851683735847,\n",
              "  'sequence': 'the woman worked as a cook.',\n",
              "  'token': 5660,\n",
              "  'token_str': 'cook'}]"
            ]
          },
          "metadata": {},
          "execution_count": 10
        }
      ]
    },
    {
      "cell_type": "code",
      "source": [
        "unmasker(\"the dog ran across the [MASK] and fell in a puddle of water.\")"
      ],
      "metadata": {
        "colab": {
          "base_uri": "https://localhost:8080/"
        },
        "id": "b86gLuF9OVtd",
        "outputId": "653bf150-3b68-43b6-b787-7fe3d438e994"
      },
      "execution_count": null,
      "outputs": [
        {
          "output_type": "execute_result",
          "data": {
            "text/plain": [
              "[{'score': 0.1536359041929245,\n",
              "  'sequence': 'the dog ran across the yard and fell in a puddle of water.',\n",
              "  'token': 4220,\n",
              "  'token_str': 'yard'},\n",
              " {'score': 0.11877419054508209,\n",
              "  'sequence': 'the dog ran across the lawn and fell in a puddle of water.',\n",
              "  'token': 10168,\n",
              "  'token_str': 'lawn'},\n",
              " {'score': 0.09164652973413467,\n",
              "  'sequence': 'the dog ran across the room and fell in a puddle of water.',\n",
              "  'token': 2282,\n",
              "  'token_str': 'room'},\n",
              " {'score': 0.06634729355573654,\n",
              "  'sequence': 'the dog ran across the street and fell in a puddle of water.',\n",
              "  'token': 2395,\n",
              "  'token_str': 'street'},\n",
              " {'score': 0.06602821499109268,\n",
              "  'sequence': 'the dog ran across the floor and fell in a puddle of water.',\n",
              "  'token': 2723,\n",
              "  'token_str': 'floor'}]"
            ]
          },
          "metadata": {},
          "execution_count": 13
        }
      ]
    }
  ]
}