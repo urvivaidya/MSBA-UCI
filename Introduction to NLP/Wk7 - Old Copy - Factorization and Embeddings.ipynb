{
 "cells": [
  {
   "cell_type": "markdown",
   "metadata": {
    "colab_type": "text",
    "id": "wmpodQkfokCX"
   },
   "source": [
    "Make sure you installed ***gensim***, ***sklearn***, ***matplotlib*** and ***numpy*** if you use your local machine"
   ]
  },
  {
   "cell_type": "code",
   "execution_count": 2,
   "metadata": {
    "colab": {
     "autoexec": {
      "startup": false,
      "wait_interval": 0
     }
    },
    "colab_type": "code",
    "id": "gxD_3fs1tX_E"
   },
   "outputs": [],
   "source": [
    "# !pip install gensim"
   ]
  },
  {
   "cell_type": "code",
   "execution_count": 3,
   "metadata": {
    "colab": {
     "autoexec": {
      "startup": false,
      "wait_interval": 0
     }
    },
    "colab_type": "code",
    "id": "nfE84jXOYVfp"
   },
   "outputs": [
    {
     "name": "stderr",
     "output_type": "stream",
     "text": [
      "/var/folders/lt/pk2vrft51kb9mjtt4ws02p8h0000gn/T/ipykernel_8744/498435771.py:15: FutureWarning: Passing a negative integer is deprecated in version 1.0 and will not be supported in future version. Instead, use None to not limit the column width.\n",
      "  pd.set_option('display.max_colwidth', -1)\n"
     ]
    }
   ],
   "source": [
    "%matplotlib inline\n",
    "import matplotlib.pyplot as plt\n",
    "import numpy as np\n",
    "import sklearn\n",
    "from sklearn import datasets\n",
    "from sklearn.feature_extraction.text import CountVectorizer\n",
    "from sklearn.feature_extraction.text import TfidfVectorizer\n",
    "from sklearn.decomposition import TruncatedSVD\n",
    "from sklearn.neighbors import NearestNeighbors, KNeighborsClassifier\n",
    "import pandas as pd\n",
    "import matplotlib.cm as cm\n",
    "from sklearn.manifold import TSNE, Isomap, LocallyLinearEmbedding, MDS, SpectralEmbedding\n",
    "from sklearn.preprocessing import *\n",
    "from sklearn.metrics import accuracy_score\n",
    "pd.set_option('display.max_colwidth', -1)"
   ]
  },
  {
   "cell_type": "code",
   "execution_count": 41,
   "metadata": {
    "colab": {
     "autoexec": {
      "startup": false,
      "wait_interval": 0
     }
    },
    "colab_type": "code",
    "id": "CPSdjUHDoSnf"
   },
   "outputs": [
    {
     "name": "stdout",
     "output_type": "stream",
     "text": [
      "train data size: 2929\n",
      "test data size: 1949\n"
     ]
    }
   ],
   "source": [
    "categories = ['soc.religion.christian', 'sci.space', 'rec.sport.hockey', 'comp.os.ms-windows.misc', 'talk.politics.guns']\n",
    "# categories = ['alt.atheism', 'soc.religion.christian']\n",
    "# categories = ['comp.sys.ibm.pc.hardware', 'comp.sys.mac.hardware']\n",
    "# categories = ['rec.sport.baseball', 'rec.sport.hockey']\n",
    "# 'alt.atheism','comp.graphics','comp.os.ms-windows.misc','comp.sys.ibm.pc.hardware',\n",
    "# 'comp.sys.mac.hardware','comp.windows.x', 'misc.forsale', 'rec.autos',  \n",
    "# 'rec.motorcycles',  'rec.sport.baseball', 'rec.sport.hockey', 'sci.crypt',\n",
    "# 'sci.electronics', 'sci.med', 'sci.space', 'soc.religion.christian', 'talk.politics.guns',\n",
    "# 'talk.politics.mideast', 'talk.politics.misc', 'talk.religion.misc'\n",
    "# categories = ['comp.os.ms-windows.misc', 'talk.politics.guns', 'rec.sport.hockey']\n",
    "\n",
    "train = sklearn.datasets.fetch_20newsgroups(subset='train', categories=categories, remove=('headers', 'footers', 'quotes'),)\n",
    "test = sklearn.datasets.fetch_20newsgroups(subset='test', categories=categories, remove=('headers', 'footers', 'quotes'),)\n",
    "print('train data size:', len(train.data))\n",
    "print('test data size:', len(test.data))"
   ]
  },
  {
   "cell_type": "code",
   "execution_count": 42,
   "metadata": {
    "colab": {
     "autoexec": {
      "startup": false,
      "wait_interval": 0
     }
    },
    "colab_type": "code",
    "id": "vTs09ciiVlUU"
   },
   "outputs": [],
   "source": [
    "features = CountVectorizer()\n",
    "train.vecs = features.fit_transform(train.data)\n",
    "test.vecs = features.transform(test.data)"
   ]
  },
  {
   "cell_type": "code",
   "execution_count": 43,
   "metadata": {
    "colab": {
     "autoexec": {
      "startup": false,
      "wait_interval": 0
     }
    },
    "colab_type": "code",
    "id": "s-EP-wxcVpqJ"
   },
   "outputs": [],
   "source": [
    "num_neighs = 10\n",
    "metric = 'cosine'\n",
    "nbrs_vecs = NearestNeighbors(n_neighbors=num_neighs, algorithm='brute', metric=metric).fit(train.vecs)"
   ]
  },
  {
   "cell_type": "code",
   "execution_count": 44,
   "metadata": {},
   "outputs": [
    {
     "data": {
      "text/plain": [
       "61744"
      ]
     },
     "execution_count": 44,
     "metadata": {},
     "output_type": "execute_result"
    }
   ],
   "source": [
    "len(features.get_feature_names_out())"
   ]
  },
  {
   "cell_type": "code",
   "execution_count": 45,
   "metadata": {
    "colab": {
     "autoexec": {
      "startup": false,
      "wait_interval": 0
     }
    },
    "colab_type": "code",
    "id": "uKPhWMTuWZiM"
   },
   "outputs": [
    {
     "data": {
      "text/html": [
       "<div>\n",
       "<style scoped>\n",
       "    .dataframe tbody tr th:only-of-type {\n",
       "        vertical-align: middle;\n",
       "    }\n",
       "\n",
       "    .dataframe tbody tr th {\n",
       "        vertical-align: top;\n",
       "    }\n",
       "\n",
       "    .dataframe thead th {\n",
       "        text-align: right;\n",
       "    }\n",
       "</style>\n",
       "<table border=\"1\" class=\"dataframe\">\n",
       "  <thead>\n",
       "    <tr style=\"text-align: right;\">\n",
       "      <th></th>\n",
       "      <th>category</th>\n",
       "      <th>email</th>\n",
       "    </tr>\n",
       "  </thead>\n",
       "  <tbody>\n",
       "    <tr>\n",
       "      <th>0</th>\n",
       "      <td>talk.politics.guns</td>\n",
       "      <td>\\nI tend to agree, but I would like a better explanation of why the FBI stopped  \\nthe firetrucks at the gate.  I saw this in realtime.  It concerns me that the  \\nFBI \"appeared\" to not be too interested in stopping the fire after it started,  \\nand actually started flying hueys around the compound, which had to add in some  \\nsmall part to the winds driving the fire.\\n\\nJim\\n--\\njmd@handheld.com</td>\n",
       "    </tr>\n",
       "  </tbody>\n",
       "</table>\n",
       "</div>"
      ],
      "text/plain": [
       "             category  \\\n",
       "0  talk.politics.guns   \n",
       "\n",
       "                                                                                                                                                                                                                                                                                                                                                                                                             email  \n",
       "0  \\nI tend to agree, but I would like a better explanation of why the FBI stopped  \\nthe firetrucks at the gate.  I saw this in realtime.  It concerns me that the  \\nFBI \"appeared\" to not be too interested in stopping the fire after it started,  \\nand actually started flying hueys around the compound, which had to add in some  \\nsmall part to the winds driving the fire.\\n\\nJim\\n--\\njmd@handheld.com  "
      ]
     },
     "execution_count": 45,
     "metadata": {},
     "output_type": "execute_result"
    }
   ],
   "source": [
    "idx = 120\n",
    "inst = test.data[idx]\n",
    "test.target_names[test.target[idx]]\n",
    "pd.DataFrame.from_dict({'category':[test.target_names[test.target[idx]]], 'email':[inst]})"
   ]
  },
  {
   "cell_type": "code",
   "execution_count": 46,
   "metadata": {
    "colab": {
     "autoexec": {
      "startup": false,
      "wait_interval": 0
     }
    },
    "colab_type": "code",
    "id": "veGWjjEoWfuy"
   },
   "outputs": [
    {
     "data": {
      "text/plain": [
       "(array([5., 0., 0., 0., 0., 2., 0., 0., 0., 3.]),\n",
       " array([0. , 0.2, 0.4, 0.6, 0.8, 1. , 1.2, 1.4, 1.6, 1.8, 2. ]),\n",
       " <BarContainer object of 10 artists>)"
      ]
     },
     "execution_count": 46,
     "metadata": {},
     "output_type": "execute_result"
    },
    {
     "data": {
      "image/png": "[encoded data removed]",
      "text/plain": [
       "<Figure size 640x480 with 1 Axes>"
      ]
     },
     "metadata": {},
     "output_type": "display_data"
    }
   ],
   "source": [
    "distances, indices = nbrs_vecs.kneighbors(test.vecs[idx])\n",
    "plt.hist([train.target_names[nidx] for nidx in train.target[indices][0]])"
   ]
  },
  {
   "cell_type": "code",
   "execution_count": 47,
   "metadata": {
    "colab": {
     "autoexec": {
      "startup": false,
      "wait_interval": 0
     }
    },
    "colab_type": "code",
    "id": "3mPV_kkwVwNM"
   },
   "outputs": [
    {
     "name": "stdout",
     "output_type": "stream",
     "text": [
      "vec 0.4289379168804515\n"
     ]
    }
   ],
   "source": [
    "nbrs_vecs_classifier = KNeighborsClassifier(num_neighs).fit(train.vecs, train.target)\n",
    "print('vec', accuracy_score(test.target, nbrs_vecs_classifier.predict(test.vecs)))"
   ]
  },
  {
   "cell_type": "markdown",
   "metadata": {
    "colab_type": "text",
    "id": "b6AqoLGV13cX"
   },
   "source": [
    "# Latent Semantic Analysis (LSA)"
   ]
  },
  {
   "cell_type": "code",
   "execution_count": 36,
   "metadata": {
    "colab": {
     "autoexec": {
      "startup": false,
      "wait_interval": 0
     }
    },
    "colab_type": "code",
    "id": "7wvYrFHt2ygm"
   },
   "outputs": [],
   "source": [
    "def do_plot(X_fit, labels=train.target):\n",
    "  dimension = X_fit.shape[1]\n",
    "  label_types = list(set(labels))\n",
    "  num_labels = len(list(set(labels)))\n",
    "  colors = cm.brg(np.linspace(0, 1, num_labels))\n",
    "  if num_labels == X_fit.shape[0]:\n",
    "    label_types = sorted(label_types, key=lambda k: np.where(labels==k))\n",
    "    colors = cm.seismic(np.linspace(0, 1, num_labels))\n",
    "  if dimension == 2:\n",
    "    for lab, col in zip(label_types, colors):\n",
    "      plt.scatter(X_fit[labels==lab, 0],\n",
    "                  X_fit[labels==lab, 1],\n",
    "                  label=lab,\n",
    "                  c=col, alpha=0.5)\n",
    "  else:\n",
    "    raise Exception('Unknown dimension: %d' % dimension)\n",
    "  plt.legend(loc='best')\n",
    "  plt.show()"
   ]
  },
  {
   "cell_type": "code",
   "execution_count": 39,
   "metadata": {
    "colab": {
     "autoexec": {
      "startup": false,
      "wait_interval": 0
     }
    },
    "colab_type": "code",
    "id": "_x284Jos20Er"
   },
   "outputs": [
    {
     "name": "stderr",
     "output_type": "stream",
     "text": [
      "*c* argument looks like a single numeric RGB or RGBA sequence, which should be avoided as value-mapping will have precedence in case its length matches with *x* & *y*.  Please use the *color* keyword-argument or provide a 2D array with a single row if you intend to specify the same RGB or RGBA value for all points.\n",
      "*c* argument looks like a single numeric RGB or RGBA sequence, which should be avoided as value-mapping will have precedence in case its length matches with *x* & *y*.  Please use the *color* keyword-argument or provide a 2D array with a single row if you intend to specify the same RGB or RGBA value for all points.\n",
      "*c* argument looks like a single numeric RGB or RGBA sequence, which should be avoided as value-mapping will have precedence in case its length matches with *x* & *y*.  Please use the *color* keyword-argument or provide a 2D array with a single row if you intend to specify the same RGB or RGBA value for all points.\n",
      "*c* argument looks like a single numeric RGB or RGBA sequence, which should be avoided as value-mapping will have precedence in case its length matches with *x* & *y*.  Please use the *color* keyword-argument or provide a 2D array with a single row if you intend to specify the same RGB or RGBA value for all points.\n",
      "*c* argument looks like a single numeric RGB or RGBA sequence, which should be avoided as value-mapping will have precedence in case its length matches with *x* & *y*.  Please use the *color* keyword-argument or provide a 2D array with a single row if you intend to specify the same RGB or RGBA value for all points.\n"
     ]
    },
    {
     "data": {
      "image/png": "[encoded data removed]",
      "text/plain": [
       "<Figure size 640x480 with 1 Axes>"
      ]
     },
     "metadata": {},
     "output_type": "display_data"
    }
   ],
   "source": [
    "factors = TruncatedSVD(2).fit_transform(train.vecs.toarray())\n",
    "do_plot(factors)"
   ]
  },
  {
   "cell_type": "code",
   "execution_count": 27,
   "metadata": {
    "colab": {
     "autoexec": {
      "startup": false,
      "wait_interval": 0
     }
    },
    "colab_type": "code",
    "id": "q8i7SjHgWHu_"
   },
   "outputs": [
    {
     "data": {
      "text/plain": [
       "((1737, 50), (1157, 50))"
      ]
     },
     "execution_count": 27,
     "metadata": {},
     "output_type": "execute_result"
    }
   ],
   "source": [
    "svd = TruncatedSVD(50)\n",
    "train.svd = svd.fit_transform(train.vecs.toarray())\n",
    "test.svd = svd.transform(test.vecs.toarray())\n",
    "train.svd.shape, test.svd.shape"
   ]
  },
  {
   "cell_type": "code",
   "execution_count": null,
   "metadata": {
    "colab": {
     "autoexec": {
      "startup": false,
      "wait_interval": 0
     }
    },
    "colab_type": "code",
    "id": "L74TEaOLU70M"
   },
   "outputs": [],
   "source": [
    "num_neighs = 10\n",
    "metric = 'cosine'\n",
    "nbrs_svd = NearestNeighbors(n_neighbors=num_neighs, algorithm='brute', metric=metric).fit(train.svd)"
   ]
  },
  {
   "cell_type": "code",
   "execution_count": null,
   "metadata": {
    "colab": {
     "autoexec": {
      "startup": false,
      "wait_interval": 0
     }
    },
    "colab_type": "code",
    "id": "vfKDFEcqVGaP"
   },
   "outputs": [],
   "source": [
    "distances, indices = nbrs_svd.kneighbors(test.svd[idx].reshape(1, -1))\n",
    "plt.hist([train.target_names[nidx] for nidx in train.target[indices][0]])"
   ]
  },
  {
   "cell_type": "code",
   "execution_count": null,
   "metadata": {
    "colab": {
     "autoexec": {
      "startup": false,
      "wait_interval": 0
     }
    },
    "colab_type": "code",
    "id": "GDirK2VVVKt0"
   },
   "outputs": [],
   "source": [
    "nbrs_svd_classifier = KNeighborsClassifier(num_neighs).fit(train.svd, train.target)\n",
    "print('svd', accuracy_score(test.target, nbrs_svd_classifier.predict(test.svd)))"
   ]
  },
  {
   "cell_type": "markdown",
   "metadata": {
    "colab_type": "text",
    "id": "iIlVp_5d4KY3"
   },
   "source": [
    "# Word Embeddings word2vec"
   ]
  },
  {
   "cell_type": "markdown",
   "metadata": {},
   "source": [
    "## Dry run on predefined corpus"
   ]
  },
  {
   "cell_type": "code",
   "execution_count": null,
   "metadata": {},
   "outputs": [],
   "source": [
    "import gensim.utils\n",
    "import gensim.downloader as api"
   ]
  },
  {
   "cell_type": "code",
   "execution_count": null,
   "metadata": {},
   "outputs": [],
   "source": [
    "corpus = api.load('text8')\n",
    "from gensim.models.word2vec import Word2Vec\n",
    "model = Word2Vec(corpus)"
   ]
  },
  {
   "cell_type": "code",
   "execution_count": null,
   "metadata": {},
   "outputs": [],
   "source": [
    "model.most_similar(['tree'])"
   ]
  },
  {
   "cell_type": "code",
   "execution_count": null,
   "metadata": {},
   "outputs": [],
   "source": [
    "model.wv.most_similar(['london'])"
   ]
  },
  {
   "cell_type": "code",
   "execution_count": null,
   "metadata": {},
   "outputs": [],
   "source": [
    "model.wv.most_similar_cosmul(positive=['kabul', 'britain'], negative=['london'], topn=1)"
   ]
  },
  {
   "cell_type": "code",
   "execution_count": null,
   "metadata": {},
   "outputs": [],
   "source": [
    "model.most_similar_cosmul(positive=['woman', 'king'], negative=['man'], topn=5)"
   ]
  },
  {
   "cell_type": "code",
   "execution_count": null,
   "metadata": {},
   "outputs": [],
   "source": [
    "del model"
   ]
  },
  {
   "cell_type": "markdown",
   "metadata": {},
   "source": [
    "## Training on newsgroup data"
   ]
  },
  {
   "cell_type": "code",
   "execution_count": null,
   "metadata": {
    "colab": {
     "autoexec": {
      "startup": false,
      "wait_interval": 0
     }
    },
    "colab_type": "code",
    "id": "jqdruGi34M3x"
   },
   "outputs": [],
   "source": [
    "train.toks = []\n",
    "for s in train.data:\n",
    "  train.toks.append(gensim.utils.simple_preprocess(s))\n",
    "test.toks = []\n",
    "for s in test.data:\n",
    "  test.toks.append(gensim.utils.simple_preprocess(s))"
   ]
  },
  {
   "cell_type": "code",
   "execution_count": null,
   "metadata": {
    "colab": {
     "autoexec": {
      "startup": false,
      "wait_interval": 0
     }
    },
    "colab_type": "code",
    "id": "nf57K9ueDOBK"
   },
   "outputs": [],
   "source": [
    "from gensim.models.word2vec import Word2Vec\n",
    "model = Word2Vec(train.toks, size=100, window=5, min_count=5, workers=4)\n",
    "word_vectors = model.wv\n",
    "del model"
   ]
  },
  {
   "cell_type": "code",
   "execution_count": null,
   "metadata": {
    "colab": {
     "autoexec": {
      "startup": false,
      "wait_interval": 0
     }
    },
    "colab_type": "code",
    "id": "HvMiGBNqEJzx"
   },
   "outputs": [],
   "source": [
    "word_vectors.most_similar_cosmul(['puck']) #"
   ]
  },
  {
   "cell_type": "code",
   "execution_count": null,
   "metadata": {
    "colab": {
     "autoexec": {
      "startup": false,
      "wait_interval": 0
     }
    },
    "colab_type": "code",
    "id": "Rv7yGtv0HGp2"
   },
   "outputs": [],
   "source": [
    "words = np.array(['god', 'jesus', 'christ', 'faith', 'bible', 'hockey', 'league', 'draft', 'pick', 'kings'])\n",
    "factors = TruncatedSVD(2).fit_transform(word_vectors[words])\n",
    "# do_plot(, words)\n",
    "factors.shape"
   ]
  },
  {
   "cell_type": "code",
   "execution_count": null,
   "metadata": {
    "colab": {
     "autoexec": {
      "startup": false,
      "wait_interval": 0
     }
    },
    "colab_type": "code",
    "id": "fzFs-7PzHyfY"
   },
   "outputs": [],
   "source": [
    "do_plot(factors, words)"
   ]
  },
  {
   "cell_type": "code",
   "execution_count": null,
   "metadata": {
    "colab": {
     "autoexec": {
      "startup": false,
      "wait_interval": 0
     }
    },
    "colab_type": "code",
    "id": "Upy_kMixY4bn"
   },
   "outputs": [],
   "source": [
    "train.w2v = np.zeros((len(train.data), word_vectors['good'].shape[0]))\n",
    "idx = 0\n",
    "for s in train.toks:\n",
    "  ws = []\n",
    "  for w in s:\n",
    "    if w in word_vectors:\n",
    "      ws.append(w)\n",
    "  if len(ws) is not 0:\n",
    "    train.w2v[idx] = np.mean(word_vectors[ws], axis=0)\n",
    "  idx += 1\n",
    "test.w2v = np.zeros((len(test.data), word_vectors['good'].shape[0]))\n",
    "idx = 0\n",
    "for s in test.toks:\n",
    "  ws = []\n",
    "  for w in s:\n",
    "    if w in word_vectors:\n",
    "      ws.append(w)\n",
    "  if len(ws) is not 0:\n",
    "    test.w2v[idx] = np.mean(word_vectors[ws], axis=0)\n",
    "  idx += 1"
   ]
  },
  {
   "cell_type": "markdown",
   "metadata": {
    "colab_type": "text",
    "id": "NhjS7WQ0X4xE"
   },
   "source": [
    "# Nearest Neighbors"
   ]
  },
  {
   "cell_type": "code",
   "execution_count": null,
   "metadata": {
    "colab": {
     "autoexec": {
      "startup": false,
      "wait_interval": 0
     }
    },
    "colab_type": "code",
    "id": "e89n_HPLX7nm"
   },
   "outputs": [],
   "source": [
    "# with factors first\n",
    "num_neighs = 10\n",
    "metric = 'cosine'\n",
    "nbrs_vecs = NearestNeighbors(n_neighbors=num_neighs, algorithm='brute', metric=metric).fit(train.vecs)\n",
    "nbrs_svd = NearestNeighbors(n_neighbors=num_neighs, algorithm='brute', metric=metric).fit(train.svd)\n",
    "nbrs_w2v = NearestNeighbors(n_neighbors=num_neighs, algorithm='brute', metric=metric).fit(train.w2v)"
   ]
  },
  {
   "cell_type": "code",
   "execution_count": null,
   "metadata": {
    "colab": {
     "autoexec": {
      "startup": false,
      "wait_interval": 0
     }
    },
    "colab_type": "code",
    "id": "c6r8Pw4Mbe1i"
   },
   "outputs": [],
   "source": [
    "idx = 120\n",
    "inst = test.data[idx]\n",
    "test.target_names[test.target[idx]]\n",
    "pd.DataFrame.from_dict({'category':[test.target_names[test.target[idx]]], 'email':[inst]})"
   ]
  },
  {
   "cell_type": "code",
   "execution_count": null,
   "metadata": {
    "colab": {
     "autoexec": {
      "startup": false,
      "wait_interval": 0
     }
    },
    "colab_type": "code",
    "id": "wCr9e4atboG5"
   },
   "outputs": [],
   "source": [
    "distances, indices = nbrs_vecs.kneighbors(test.vecs[idx])\n",
    "plt.hist([train.target_names[nidx] for nidx in train.target[indices][0]])"
   ]
  },
  {
   "cell_type": "code",
   "execution_count": null,
   "metadata": {
    "colab": {
     "autoexec": {
      "startup": false,
      "wait_interval": 0
     }
    },
    "colab_type": "code",
    "id": "GRgatnEIeEsE"
   },
   "outputs": [],
   "source": [
    "distances, indices = nbrs_svd.kneighbors(test.svd[idx].reshape(1, -1))\n",
    "plt.hist([train.target_names[nidx] for nidx in train.target[indices][0]])"
   ]
  },
  {
   "cell_type": "code",
   "execution_count": null,
   "metadata": {
    "colab": {
     "autoexec": {
      "startup": false,
      "wait_interval": 0
     }
    },
    "colab_type": "code",
    "id": "ZAiY2IxBeVln"
   },
   "outputs": [],
   "source": [
    "distances, indices = nbrs_w2v.kneighbors(test.w2v[idx].reshape(1, -1))\n",
    "plt.hist([train.target_names[nidx] for nidx in train.target[indices][0]])"
   ]
  },
  {
   "cell_type": "code",
   "execution_count": null,
   "metadata": {
    "colab": {
     "autoexec": {
      "startup": false,
      "wait_interval": 0
     }
    },
    "colab_type": "code",
    "id": "ujRtHpn0eoSs"
   },
   "outputs": [],
   "source": [
    "nbrs_vecs_classifier = KNeighborsClassifier(num_neighs).fit(train.vecs, train.target)\n",
    "nbrs_svd_classifier = KNeighborsClassifier(num_neighs).fit(train.svd, train.target)\n",
    "nbrs_w2v_classifier = KNeighborsClassifier(num_neighs).fit(train.w2v, train.target)"
   ]
  },
  {
   "cell_type": "code",
   "execution_count": null,
   "metadata": {
    "colab": {
     "autoexec": {
      "startup": false,
      "wait_interval": 0
     }
    },
    "colab_type": "code",
    "id": "jJ9vugobfXAk"
   },
   "outputs": [],
   "source": [
    "print('vecs', accuracy_score(test.target, nbrs_vecs_classifier.predict(test.vecs)))\n",
    "print('svd', accuracy_score(test.target, nbrs_svd_classifier.predict(test.svd)))\n",
    "print('w2v', accuracy_score(test.target, nbrs_w2v_classifier.predict(test.w2v)))"
   ]
  },
  {
   "cell_type": "code",
   "execution_count": null,
   "metadata": {},
   "outputs": [],
   "source": []
  }
 ],
 "metadata": {
  "colab": {
   "collapsed_sections": [],
   "default_view": {},
   "name": "Wk7 - Factorization.ipynb",
   "provenance": [
    {
     "file_id": "1JZR8Fg6h7iAGlFTjs0rx71Z6PY7cF5U5",
     "timestamp": 1523949572660
    },
    {
     "file_id": "1FRbIPYnrjZlou3Uhbk6tuyWzLRuOjqr2",
     "timestamp": 1522958614389
    }
   ],
   "version": "0.3.2",
   "views": {}
  },
  "kernelspec": {
   "display_name": "Python 3 (ipykernel)",
   "language": "python",
   "name": "python3"
  },
  "language_info": {
   "codemirror_mode": {
    "name": "ipython",
    "version": 3
   },
   "file_extension": ".py",
   "mimetype": "text/x-python",
   "name": "python",
   "nbconvert_exporter": "python",
   "pygments_lexer": "ipython3",
   "version": "3.11.1"
  }
 },
 "nbformat": 4,
 "nbformat_minor": 1
}
