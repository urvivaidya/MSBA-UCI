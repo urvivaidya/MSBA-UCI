{
  "cells": [
    {
      "cell_type": "markdown",
      "metadata": {
        "id": "wmpodQkfokCX"
      },
      "source": [
        "Make sure you installed ***sklearn***, ***matplotlib*** and ***numpy*** if you use your local machine"
      ]
    },
    {
      "cell_type": "code",
      "execution_count": null,
      "metadata": {
        "colab": {
          "base_uri": "https://localhost:8080/"
        },
        "id": "uf0cckcTobTR",
        "outputId": "8b729564-54d7-4893-d9a7-f55385b7d77b"
      },
      "outputs": [
        {
          "output_type": "stream",
          "name": "stdout",
          "text": [
            "Requirement already satisfied: scikit-learn-extra in /usr/local/lib/python3.7/dist-packages (0.2.0)\n",
            "Requirement already satisfied: scipy>=0.19.1 in /usr/local/lib/python3.7/dist-packages (from scikit-learn-extra) (1.4.1)\n",
            "Requirement already satisfied: scikit-learn>=0.23.0 in /usr/local/lib/python3.7/dist-packages (from scikit-learn-extra) (1.0.2)\n",
            "Requirement already satisfied: numpy>=1.13.3 in /usr/local/lib/python3.7/dist-packages (from scikit-learn-extra) (1.21.6)\n",
            "Requirement already satisfied: threadpoolctl>=2.0.0 in /usr/local/lib/python3.7/dist-packages (from scikit-learn>=0.23.0->scikit-learn-extra) (3.1.0)\n",
            "Requirement already satisfied: joblib>=0.11 in /usr/local/lib/python3.7/dist-packages (from scikit-learn>=0.23.0->scikit-learn-extra) (1.1.0)\n",
            "Requirement already satisfied: scipy in /usr/local/lib/python3.7/dist-packages (1.4.1)\n",
            "Requirement already satisfied: numpy>=1.13.3 in /usr/local/lib/python3.7/dist-packages (from scipy) (1.21.6)\n"
          ]
        }
      ],
      "source": [
        "!pip install scikit-learn-extra\n",
        "!pip install scipy"
      ]
    },
    {
      "cell_type": "code",
      "execution_count": null,
      "metadata": {
        "id": "gxD_3fs1tX_E"
      },
      "outputs": [],
      "source": [
        "import random\n",
        "import matplotlib.pyplot as plt\n",
        "import numpy as np\n",
        "import sklearn\n",
        "import sklearn_extra\n",
        "import scipy\n",
        "from sklearn import datasets\n",
        "from sklearn.feature_extraction.text import CountVectorizer\n",
        "from sklearn.feature_extraction.text import TfidfVectorizer\n",
        "import sklearn.cluster\n",
        "from sklearn.neighbors import NearestNeighbors\n",
        "from sklearn.cluster import MiniBatchKMeans\n",
        "from sklearn.cluster import KMeans\n",
        "from sklearn.cluster import DBSCAN\n",
        "from sklearn_extra.cluster import KMedoids\n",
        "from scipy.cluster.hierarchy import dendrogram\n"
      ]
    },
    {
      "cell_type": "code",
      "execution_count": null,
      "metadata": {
        "colab": {
          "base_uri": "https://localhost:8080/"
        },
        "id": "CPSdjUHDoSnf",
        "outputId": "762de066-1c34-4cb9-8bc4-e78741024456"
      },
      "outputs": [
        {
          "output_type": "stream",
          "name": "stdout",
          "text": [
            "train data size: 2964\n",
            "test data size: 1972\n"
          ]
        }
      ],
      "source": [
        "categories = ['soc.religion.christian', 'sci.space', 'rec.sport.hockey', 'comp.sys.mac.hardware', 'sci.med']\n",
        "# categories = ['alt.atheism', 'soc.religion.christian']\n",
        "# categories = ['comp.sys.ibm.pc.hardware', 'comp.sys.mac.hardware']\n",
        "# categories = ['rec.sport.baseball', 'rec.sport.hockey']\n",
        "# 'alt.atheism','comp.graphics','comp.os.ms-windows.misc','comp.sys.ibm.pc.hardware',\n",
        "# 'comp.sys.mac.hardware','comp.windows.x', 'misc.forsale', 'rec.autos',  \n",
        "# 'rec.motorcycles',  'rec.sport.baseball', 'rec.sport.hockey', 'sci.crypt',\n",
        "# 'sci.electronics', 'sci.med', 'sci.space', 'soc.religion.christian', 'talk.politics.guns',\n",
        "# 'talk.politics.mideast', 'talk.politics.misc', 'talk.religion.misc'\n",
        "train = sklearn.datasets.fetch_20newsgroups(subset='train', categories=categories, remove=('headers', 'footers', 'quotes'),)\n",
        "test = sklearn.datasets.fetch_20newsgroups(subset='test', categories=categories, remove=('headers', 'footers', 'quotes'),)\n",
        "print('train data size:', len(train.data))\n",
        "print('test data size:', len(test.data))"
      ]
    },
    {
      "cell_type": "markdown",
      "metadata": {
        "id": "m4aj6jwc7SOW"
      },
      "source": [
        "# Nearest Neighbors"
      ]
    },
    {
      "cell_type": "code",
      "execution_count": null,
      "metadata": {
        "colab": {
          "base_uri": "https://localhost:8080/"
        },
        "id": "Sx8tF4giobTU",
        "outputId": "47623238-ffbc-4a1a-9760-79e78be90660"
      },
      "outputs": [
        {
          "output_type": "stream",
          "name": "stdout",
          "text": [
            "I believe it goes or will go:\n",
            "680060\n",
            "powerPC\n",
            "Pentium\n",
            "680040\n",
            "486\n",
            "680030\n",
            "386\n",
            "680020\n",
            "286=680000\n",
            "\n",
            "In a resent article in one of the macMags I think a 50mHz 030 accelerator was\n",
            " slightly slower than a 25mHz 040 accel. But, this is using a system designed\n",
            " for the 030. So, It stands to reason that a system designed for an 040 ie\n",
            " quadra) would do better. So overall I'd figure 040 = 030 * 2.5 or so.\n",
            "    Along the same lines the new POwerPC stuff is supposed to run the system\n",
            " at the level of a fast quadra, but system 8 or whatever will allow 3 times the\n",
            " speed of a 040 in the powerPC based systems. and wait for the 680060. I think\n",
            " it laps the pentium.\n",
            "\n",
            "pro-life pro-women\n",
            "\n",
            "\n"
          ]
        }
      ],
      "source": [
        "idx = 200\n",
        "inst = train.data[idx]\n",
        "print(train.data[idx])"
      ]
    },
    {
      "cell_type": "code",
      "execution_count": null,
      "metadata": {
        "colab": {
          "base_uri": "https://localhost:8080/",
          "height": 232
        },
        "id": "IM8ksrFD7WF_",
        "outputId": "637a5e7e-a7fc-4f6a-e21f-e225cc41da56"
      },
      "outputs": [
        {
          "output_type": "stream",
          "name": "stderr",
          "text": [
            "/usr/local/lib/python3.7/dist-packages/ipykernel_launcher.py:2: FutureWarning: Passing a negative integer is deprecated in version 1.0 and will not be supported in future version. Instead, use None to not limit the column width.\n",
            "  \n"
          ]
        },
        {
          "output_type": "execute_result",
          "data": {
            "text/plain": [
              "                category  \\\n",
              "0  comp.sys.mac.hardware   \n",
              "\n",
              "                                                                                                                                                                                                                                                                                                                                                                                                                                                                                                                                                                                                                                                                                                                       email  \n",
              "0  I believe it goes or will go:\\n680060\\npowerPC\\nPentium\\n680040\\n486\\n680030\\n386\\n680020\\n286=680000\\n\\nIn a resent article in one of the macMags I think a 50mHz 030 accelerator was\\n slightly slower than a 25mHz 040 accel. But, this is using a system designed\\n for the 030. So, It stands to reason that a system designed for an 040 ie\\n quadra) would do better. So overall I'd figure 040 = 030 * 2.5 or so.\\n    Along the same lines the new POwerPC stuff is supposed to run the system\\n at the level of a fast quadra, but system 8 or whatever will allow 3 times the\\n speed of a 040 in the powerPC based systems. and wait for the 680060. I think\\n it laps the pentium.\\n\\npro-life pro-women\\n\\n  "
            ],
            "text/html": [
              "\n",
              "  <div id=\"df-e9dcc708-4b32-4fd2-bb7e-3a691bf55e0a\">\n",
              "    <div class=\"colab-df-container\">\n",
              "      <div>\n",
              "<style scoped>\n",
              "    .dataframe tbody tr th:only-of-type {\n",
              "        vertical-align: middle;\n",
              "    }\n",
              "\n",
              "    .dataframe tbody tr th {\n",
              "        vertical-align: top;\n",
              "    }\n",
              "\n",
              "    .dataframe thead th {\n",
              "        text-align: right;\n",
              "    }\n",
              "</style>\n",
              "<table border=\"1\" class=\"dataframe\">\n",
              "  <thead>\n",
              "    <tr style=\"text-align: right;\">\n",
              "      <th></th>\n",
              "      <th>category</th>\n",
              "      <th>email</th>\n",
              "    </tr>\n",
              "  </thead>\n",
              "  <tbody>\n",
              "    <tr>\n",
              "      <th>0</th>\n",
              "      <td>comp.sys.mac.hardware</td>\n",
              "      <td>I believe it goes or will go:\\n680060\\npowerPC\\nPentium\\n680040\\n486\\n680030\\n386\\n680020\\n286=680000\\n\\nIn a resent article in one of the macMags I think a 50mHz 030 accelerator was\\n slightly slower than a 25mHz 040 accel. But, this is using a system designed\\n for the 030. So, It stands to reason that a system designed for an 040 ie\\n quadra) would do better. So overall I'd figure 040 = 030 * 2.5 or so.\\n    Along the same lines the new POwerPC stuff is supposed to run the system\\n at the level of a fast quadra, but system 8 or whatever will allow 3 times the\\n speed of a 040 in the powerPC based systems. and wait for the 680060. I think\\n it laps the pentium.\\n\\npro-life pro-women\\n\\n</td>\n",
              "    </tr>\n",
              "  </tbody>\n",
              "</table>\n",
              "</div>\n",
              "      <button class=\"colab-df-convert\" onclick=\"convertToInteractive('df-e9dcc708-4b32-4fd2-bb7e-3a691bf55e0a')\"\n",
              "              title=\"Convert this dataframe to an interactive table.\"\n",
              "              style=\"display:none;\">\n",
              "        \n",
              "  <svg xmlns=\"http://www.w3.org/2000/svg\" height=\"24px\"viewBox=\"0 0 24 24\"\n",
              "       width=\"24px\">\n",
              "    <path d=\"M0 0h24v24H0V0z\" fill=\"none\"/>\n",
              "    <path d=\"M18.56 5.44l.94 2.06.94-2.06 2.06-.94-2.06-.94-.94-2.06-.94 2.06-2.06.94zm-11 1L8.5 8.5l.94-2.06 2.06-.94-2.06-.94L8.5 2.5l-.94 2.06-2.06.94zm10 10l.94 2.06.94-2.06 2.06-.94-2.06-.94-.94-2.06-.94 2.06-2.06.94z\"/><path d=\"M17.41 7.96l-1.37-1.37c-.4-.4-.92-.59-1.43-.59-.52 0-1.04.2-1.43.59L10.3 9.45l-7.72 7.72c-.78.78-.78 2.05 0 2.83L4 21.41c.39.39.9.59 1.41.59.51 0 1.02-.2 1.41-.59l7.78-7.78 2.81-2.81c.8-.78.8-2.07 0-2.86zM5.41 20L4 18.59l7.72-7.72 1.47 1.35L5.41 20z\"/>\n",
              "  </svg>\n",
              "      </button>\n",
              "      \n",
              "  <style>\n",
              "    .colab-df-container {\n",
              "      display:flex;\n",
              "      flex-wrap:wrap;\n",
              "      gap: 12px;\n",
              "    }\n",
              "\n",
              "    .colab-df-convert {\n",
              "      background-color: #E8F0FE;\n",
              "      border: none;\n",
              "      border-radius: 50%;\n",
              "      cursor: pointer;\n",
              "      display: none;\n",
              "      fill: #1967D2;\n",
              "      height: 32px;\n",
              "      padding: 0 0 0 0;\n",
              "      width: 32px;\n",
              "    }\n",
              "\n",
              "    .colab-df-convert:hover {\n",
              "      background-color: #E2EBFA;\n",
              "      box-shadow: 0px 1px 2px rgba(60, 64, 67, 0.3), 0px 1px 3px 1px rgba(60, 64, 67, 0.15);\n",
              "      fill: #174EA6;\n",
              "    }\n",
              "\n",
              "    [theme=dark] .colab-df-convert {\n",
              "      background-color: #3B4455;\n",
              "      fill: #D2E3FC;\n",
              "    }\n",
              "\n",
              "    [theme=dark] .colab-df-convert:hover {\n",
              "      background-color: #434B5C;\n",
              "      box-shadow: 0px 1px 3px 1px rgba(0, 0, 0, 0.15);\n",
              "      filter: drop-shadow(0px 1px 2px rgba(0, 0, 0, 0.3));\n",
              "      fill: #FFFFFF;\n",
              "    }\n",
              "  </style>\n",
              "\n",
              "      <script>\n",
              "        const buttonEl =\n",
              "          document.querySelector('#df-e9dcc708-4b32-4fd2-bb7e-3a691bf55e0a button.colab-df-convert');\n",
              "        buttonEl.style.display =\n",
              "          google.colab.kernel.accessAllowed ? 'block' : 'none';\n",
              "\n",
              "        async function convertToInteractive(key) {\n",
              "          const element = document.querySelector('#df-e9dcc708-4b32-4fd2-bb7e-3a691bf55e0a');\n",
              "          const dataTable =\n",
              "            await google.colab.kernel.invokeFunction('convertToInteractive',\n",
              "                                                     [key], {});\n",
              "          if (!dataTable) return;\n",
              "\n",
              "          const docLinkHtml = 'Like what you see? Visit the ' +\n",
              "            '<a target=\"_blank\" href=https://colab.research.google.com/notebooks/data_table.ipynb>data table notebook</a>'\n",
              "            + ' to learn more about interactive tables.';\n",
              "          element.innerHTML = '';\n",
              "          dataTable['output_type'] = 'display_data';\n",
              "          await google.colab.output.renderOutput(dataTable, element);\n",
              "          const docLink = document.createElement('div');\n",
              "          docLink.innerHTML = docLinkHtml;\n",
              "          element.appendChild(docLink);\n",
              "        }\n",
              "      </script>\n",
              "    </div>\n",
              "  </div>\n",
              "  "
            ]
          },
          "metadata": {},
          "execution_count": 67
        }
      ],
      "source": [
        "import pandas as pd\n",
        "pd.set_option('display.max_colwidth', -1)\n",
        "\n",
        "idx = 200\n",
        "inst = train.data[idx]\n",
        "train.target_names[train.target[idx]]\n",
        "pd.DataFrame.from_dict({'category':[train.target_names[train.target[idx]]], 'email':[inst]})"
      ]
    },
    {
      "cell_type": "code",
      "execution_count": null,
      "metadata": {
        "colab": {
          "base_uri": "https://localhost:8080/",
          "height": 1000
        },
        "id": "jn5c5bqV8CH_",
        "outputId": "0a13fb95-6204-42b8-c312-3c9b401e4072"
      },
      "outputs": [
        {
          "output_type": "execute_result",
          "data": {
            "text/plain": [
              "                category  \\\n",
              "0  comp.sys.mac.hardware   \n",
              "1  comp.sys.mac.hardware   \n",
              "2  comp.sys.mac.hardware   \n",
              "3  comp.sys.mac.hardware   \n",
              "4  comp.sys.mac.hardware   \n",
              "5  comp.sys.mac.hardware   \n",
              "6  comp.sys.mac.hardware   \n",
              "7  comp.sys.mac.hardware   \n",
              "8  comp.sys.mac.hardware   \n",
              "9  comp.sys.mac.hardware   \n",
              "\n",
              "                                                                                                                                                                                                                                                                                                                                                                                                                                                                                                                                                                                                                                                                                                                                                                                                                                                                                                                                                                                                                                                                                                                                                                                                                                                                                                                                                                                                                                                                                                                                                                                                                                                                                                                                                                                                                                                                                                                                                                                                                                                                                                                                                                                                                                                                                                                                                                                                                                                          email  \n",
              "0  dhk@ubbpc.uucp (Dave Kitabjian) writes ...\\n\\n040 486 030 386 020 286\\n\\n\\n060 fastest, then Pentium, with the first versions of the PowerPC\\nsomewhere in the vicinity.\\n\\n\\nNo.  Computer speed is only partly dependent of processor/clock speed.\\nMemory system speed play a large role as does video system speed and\\nI/O speed.  As processor clock rates go up, the speed of the memory\\nsystem becomes the greatest factor in the overall system speed.  If\\nyou have a 50MHz processor, it can be reading another word from memory\\nevery 20ns.  Sure, you can put all 20ns memory in your computer, but\\nit will cost 10 times as much as the slower 80ns SIMMs.\\n\\nAnd roughly, the 68040 is twice as fast at a given clock\\nspeed as is the 68030.\\n                                                                                                                                                                                                                                                                                                                                                                                                                                                                                                                                                                                                                                                                                                                                                                                                                                                                                                                                                                                                                                                                                                                                                                                                                                                                                                                                                                                                                                                                                                                                                                                                                                                                                             \n",
              "1  I'm thinking about upgrading my 030 50MHz to the 040 33version.  Has anyone\\nhad any experience with the accelerator, and if so - what do you think?\\nAny problems, what are the speedometer results?, is it much faster than\\nthe 50MHz?  Basically, I'd appreciate hearing all about this product.  Please\\nrespond via email, and I'll summarize if there's a big response.  thanks\\nin advance, Andrew\\n                                                                                                                                                                                                                                                                                                                                                                                                                                                                                                                                                                                                                                                                                                                                                                                                                                                                                                                                                                                                                                                                                                                                                                                                                                                                                                                                                                                                                                                                                                                                                                                                                                                                                                                                                                                                                                                                                                                                                                                                                                                  \n",
              "2  \\nRadius speculated, publicly, that they could provide a PowerPC-based\\nRocket for existing Macs. It would have the plus of RocketShare and\\nthe minus of NuBus accelerators - no true boot off the accelerator,\\nNuBus bottleneck to video and other I/O.\\n\\nApple, it seems, will not compete with third parties here -- except\\nperhaps for not-yet-available Macs like Cyclone, where a PowerPC\\nslot might be advertised. Look for Daystar and such to make PowerPC\\naccelerators.\\n\\nOne potential problem with any accelerator, though, is that it will\\nneed a ROM companion and Apple has licensed only Radius, with\\nRocketshare, to use any of its proprietary code.\\n\\nApple is, between the lines, trying to let us know that PowerPC Macs\\nwill have simplified logic boards due to the magical nature of RISC\\nand that these boards should be much cheaper to build than those in\\nexisting 68040 Macs. Perhaps, then, we'll see groundbreaking\\nprices in Mac-logic board upgrades, much the same way we've seen\\nmuch cheaper high-performance CPUs this year.\\n\\nFirst generation PowerPCs, 98601s, will also hopefully have socketed\\nCPUs so that they'll be chip upgradeable to 98604s a year later.\\nThis should be possible in much the same way that 486s can be pulled\\nfor clock doublers. If there is too much technical   baggage (which\\nI doubt since the external busses are the same size/width) to do\\nthis, perhaps we can have CPU daughterboard, a la Powerbook, as\\nstandard to facilitate better CPU upgrades. This is an area where\\nApple has fallen far behing the Intel-based world. Perhaps catchup\\nis in order.\\n\\nBy the way, last week's PC week had an excellent story on PowerPC,\\nPentium, MIPS R4000, DEC Alpha (the big four on the microprocessor\\nfront for the forseeable future). Worth reading for technojunkies.\\nAlso, the latest PC has a cover story on Pentium. Read it, and all\\nthe other stories about how Intel is unstoppable and preeminent\\nright now.\\n\\nOnce anyone is this secure, they are due to fall. Intel's market\\nposition will never again be as dominant as it is today (especially\\nif AMD gets the go ahead to sell its 486s this week as it appears it\\nmight). The competition from all fronts is gearing up for an awesome\\nbattle. Apple users should be excited that PowerPC, while not\\nguaranteed dominance, is a guaranteed winner, even if its one of\\nseveral.  \n",
              "3  \\n\\n\\tI think this kind of comparison is pretty useless in general.  The\\nprocessor is only good when a good computer is designed around it adn the\\ncomputer is used in its designed purpose.  Comparing processor speed is\\npretty dumb because all you have to do is just increase the clock speed\\nto increase speed among other things.\\n\\n\\tI mean how can you say a 040 is faster than a 486 without \\ngiving is operational conditions?  Can you say the same when \\nyou are running a program that uses a lot of transidental functions.\\nKnowing that 040 does not have transidental functions building in to \\nits FPU and 486 does, can you say that 040 is still faster?\\n\\n\\tAnyway, I hope people do not decided upon wether a computers\\nis good or not solely on its processor.  Or how fast a processor is\\nbased on its name, because one can alway do a certain things to a\\nprocessor to speed it up.  \\n\\n\\tBut if we restrict our arguements to, for example, pure\\nprocessor architectural issues.  Or how one processor will work\\nwell and another will not based on its design, then we can get\\nsomewhere with our discussions.  \\n\\n- Chung Yang                                                                                                                                                                                                                                                                                                                                                                                                                                                                                                                                                                                                                                                                                                                                                                                                                                                                                                                                                                                                                                                                                                                                                                                                                                                                                 \n",
              "4  So, will it be possible to have a NuBus or PDS PowerPC upgrade, or will it \\nrequire a logic board swap? It would be interesting for Apple to come out with\\na NuBus PowerPC that allowed use of the CPU's 680x0, like RocketShare. But I \\nguess that's getting a bit fantastic!\\n\\nI was wondering, since MacWeek reported that developers were 'seeded' with\\nPowerPCs on a NuBus card.\\n\\nAlso, any word on machine arrivals or estimated speed? Last I heard, the \\nestimates were around 3-4 times the speed of a Quadra in native RISC mode. I\\nheard an Apple employee mumble something about the arrival of PowerPC machines\\nat a much earlier date that Q1 94, but I doubt it's true.\\n\\nFinally, is the PowerPC developer's CD 'mini-course' available? I saw it \\nadvertised in the developer's university calendar, and I'd like to know if it's\\nat all *interesting*.\\n\\nSean                                                                                                                                                                                                                                                                                                                                                                                                                                                                                                                                                                                                                                                                                                                                                                                                                                                                                                                                                                                                                                                                                                                                                                                                                                                                                                                                                                                                                                                                                                                                                                 \n",
              "5  \\n    I think this is mostly the fault of the people who write up the\\nliterature and price lists being confused themselves. Since there are\\ntwo possible processor configurations and one of the them doesn't have\\nan FPU it does seem to be an option, even though it really isn't.\\n\\n\\n    Well, then allow me to end your confusion. The C650 ONLY come with\\nan LC040 in the base 4/80 configuration. If you are not getting this\\nconfiguration then you are getting an FPU.\\n\\n\\n    Good question. I have been wondering that since Feb. 10th.\\n\\n \\n    This is possible, but an option is something that you are supposed\\nto be able to request when you want it. What Apple has done is given the\\nbuyer a CHOICE between configurations and not an OPTION.\\n\\n\\n    This is not unclear at all. In fact Apple has included in the ROMs\\nof those machines with LC040s code to recognize the presence of the full\\n040's FPU and use it. Thereby making the upgrade as easy as switching\\nchips. You pop the LC040 out and pop in a full '040.\\n\\n\\n    They did? I think I would double-check this. It has been stated\\ncountless times in this newsgroup by two of the Centris hardware\\ndesigners that the LC040 and the full '040 are pin compatible and that\\nthe C610 can be upgraded to a full '040.                                                                                                                                                                                                                                                                                                                                                                                                                                                                                                                                                                                                                                                                                                                                                                                                                                                                                                                                                                                                                                                                                                                                    \n",
              "6  \\nThe DayStar PowerCache for the SE/30 replaces the CPU with an accelerated\\nCPU plus the powercache.  This leavese the PDS slot open for a video card.\\nCurrenty, DayStar does not have the '040 in this configuration, but it is\\ndue out early next year.  With their upgrade policy, you can get the '030\\naccelerator now, and when the '040 version becomes available, you get\\ncredit\\nfor the one you have.  \\n\\nI am running their 50 MHz version with FPU along with a Radius Precision\\nColor Pivot and I'm very satisfied.\\n\\n-------------------------------------------------------------------------\\n\\nEarl D. Fife          |          Department of Mathematics\\nfife@calvin.edu       |          Calvin College\\n(616)957-6403         |          Grand Rapids, MI 49546                                                                                                                                                                                                                                                                                                                                                                                                                                                                                                                                                                                                                                                                                                                                                                                                                                                                                                                                                                                                                                                                                                                                                                                                                                                                                                                                                                                                                                                                                                                                                                                                                                                                   \n",
              "7  \\n\\n    Don't believe the hype. There is no such thing as a PowerPC slot.                                                                                                                                                                                                                                                                                                                                                                                                                                                                                                                                                                                                                                                                                                                                                                                                                                                                                                                                                                                                                                                                                                                                                                                                                                                                                                                                                                                                                                                                                                                                                                                                                                                                                                                                                                                                                                                                                                                                                                                                                                                                                                                                                                                                                                                                                                                                                                                     \n",
              "8  \\n\\n\\n\\n    Apple has really confused people with this whole thing. I think\\nwe'll be answering this question for about the next year or so. There is\\nno \"option\" to get an FPU on a C650. What you have is a choice of CPUs:\\nthere is the 68LC040 that does not have an integrated FPU like the full\\n'040 and is only present in the base 4/80 model of the C650 (AppleUSA).\\nAnd there is the full '040 which you get when you order anything other\\nthan the base 4/80 configuration. Therefore, since you have ordered one\\nof the 8MB versions with on-board Ethernet models you will not be\\ngetting the LC040. But even if you wanted to have the LC040 you wouldn't\\nbe able to order a C650 with 8MB RAM, on-board Ethernet and an LC040.\\nIt's not an \"option.\"\\n    Also, a note to people out there that have 4/80 C650s and C610s\\nthinking that there is an optional FPU, the '040 class chip cannot\\nrecognize an external FPU, so there is no socket on the motherboard for\\na FPU chip and you cannot go out and purchase an FPU on a PDS card or\\nsomething like that. The only way to get an FPU in these machines is to\\nreplace the LC040 with a full '040. And if you have a C610, you will not\\nneed to worry about a heat sink if you do replace the LC040 with the\\nfull '040, but if you have a 4/80 C650 you do need to have a heat sink.                                                                                                                                                                                                                                                                                                                                                                                                                                                                                                                                                                                                                                                                                                                                                                                                                                                                                                                                                                                                                                                                                       \n",
              "9  \\n\\n\\nIt would also be great for another reason - when not docked, it could serve\\nas an ARA server to the large internal HD, your corporate email, etc.  In\\na pinch, you would also have two machines, instead of 1.5.\\n\\nIf they could couple that thought with RocketShare, and let you use both the\\n'030 on the PB and the '040 on the dock, it would be a mighty powerful dock.\\n\\n--                                                                                                                                                                                                                                                                                                                                                                                                                                                                                                                                                                                                                                                                                                                                                                                                                                                                                                                                                                                                                                                                                                                                                                                                                                                                                                                                                                                                                                                                                                                                                                                                                                                                                                                                                                                                                                                                                                                                                                                                                                                                  "
            ],
            "text/html": [
              "\n",
              "  <div id=\"df-57c46cd6-f087-40bb-b396-b0516c7f874e\">\n",
              "    <div class=\"colab-df-container\">\n",
              "      <div>\n",
              "<style scoped>\n",
              "    .dataframe tbody tr th:only-of-type {\n",
              "        vertical-align: middle;\n",
              "    }\n",
              "\n",
              "    .dataframe tbody tr th {\n",
              "        vertical-align: top;\n",
              "    }\n",
              "\n",
              "    .dataframe thead th {\n",
              "        text-align: right;\n",
              "    }\n",
              "</style>\n",
              "<table border=\"1\" class=\"dataframe\">\n",
              "  <thead>\n",
              "    <tr style=\"text-align: right;\">\n",
              "      <th></th>\n",
              "      <th>category</th>\n",
              "      <th>email</th>\n",
              "    </tr>\n",
              "  </thead>\n",
              "  <tbody>\n",
              "    <tr>\n",
              "      <th>0</th>\n",
              "      <td>comp.sys.mac.hardware</td>\n",
              "      <td>dhk@ubbpc.uucp (Dave Kitabjian) writes ...\\n\\n040 486 030 386 020 286\\n\\n\\n060 fastest, then Pentium, with the first versions of the PowerPC\\nsomewhere in the vicinity.\\n\\n\\nNo.  Computer speed is only partly dependent of processor/clock speed.\\nMemory system speed play a large role as does video system speed and\\nI/O speed.  As processor clock rates go up, the speed of the memory\\nsystem becomes the greatest factor in the overall system speed.  If\\nyou have a 50MHz processor, it can be reading another word from memory\\nevery 20ns.  Sure, you can put all 20ns memory in your computer, but\\nit will cost 10 times as much as the slower 80ns SIMMs.\\n\\nAnd roughly, the 68040 is twice as fast at a given clock\\nspeed as is the 68030.\\n</td>\n",
              "    </tr>\n",
              "    <tr>\n",
              "      <th>1</th>\n",
              "      <td>comp.sys.mac.hardware</td>\n",
              "      <td>I'm thinking about upgrading my 030 50MHz to the 040 33version.  Has anyone\\nhad any experience with the accelerator, and if so - what do you think?\\nAny problems, what are the speedometer results?, is it much faster than\\nthe 50MHz?  Basically, I'd appreciate hearing all about this product.  Please\\nrespond via email, and I'll summarize if there's a big response.  thanks\\nin advance, Andrew\\n</td>\n",
              "    </tr>\n",
              "    <tr>\n",
              "      <th>2</th>\n",
              "      <td>comp.sys.mac.hardware</td>\n",
              "      <td>\\nRadius speculated, publicly, that they could provide a PowerPC-based\\nRocket for existing Macs. It would have the plus of RocketShare and\\nthe minus of NuBus accelerators - no true boot off the accelerator,\\nNuBus bottleneck to video and other I/O.\\n\\nApple, it seems, will not compete with third parties here -- except\\nperhaps for not-yet-available Macs like Cyclone, where a PowerPC\\nslot might be advertised. Look for Daystar and such to make PowerPC\\naccelerators.\\n\\nOne potential problem with any accelerator, though, is that it will\\nneed a ROM companion and Apple has licensed only Radius, with\\nRocketshare, to use any of its proprietary code.\\n\\nApple is, between the lines, trying to let us know that PowerPC Macs\\nwill have simplified logic boards due to the magical nature of RISC\\nand that these boards should be much cheaper to build than those in\\nexisting 68040 Macs. Perhaps, then, we'll see groundbreaking\\nprices in Mac-logic board upgrades, much the same way we've seen\\nmuch cheaper high-performance CPUs this year.\\n\\nFirst generation PowerPCs, 98601s, will also hopefully have socketed\\nCPUs so that they'll be chip upgradeable to 98604s a year later.\\nThis should be possible in much the same way that 486s can be pulled\\nfor clock doublers. If there is too much technical   baggage (which\\nI doubt since the external busses are the same size/width) to do\\nthis, perhaps we can have CPU daughterboard, a la Powerbook, as\\nstandard to facilitate better CPU upgrades. This is an area where\\nApple has fallen far behing the Intel-based world. Perhaps catchup\\nis in order.\\n\\nBy the way, last week's PC week had an excellent story on PowerPC,\\nPentium, MIPS R4000, DEC Alpha (the big four on the microprocessor\\nfront for the forseeable future). Worth reading for technojunkies.\\nAlso, the latest PC has a cover story on Pentium. Read it, and all\\nthe other stories about how Intel is unstoppable and preeminent\\nright now.\\n\\nOnce anyone is this secure, they are due to fall. Intel's market\\nposition will never again be as dominant as it is today (especially\\nif AMD gets the go ahead to sell its 486s this week as it appears it\\nmight). The competition from all fronts is gearing up for an awesome\\nbattle. Apple users should be excited that PowerPC, while not\\nguaranteed dominance, is a guaranteed winner, even if its one of\\nseveral.</td>\n",
              "    </tr>\n",
              "    <tr>\n",
              "      <th>3</th>\n",
              "      <td>comp.sys.mac.hardware</td>\n",
              "      <td>\\n\\n\\tI think this kind of comparison is pretty useless in general.  The\\nprocessor is only good when a good computer is designed around it adn the\\ncomputer is used in its designed purpose.  Comparing processor speed is\\npretty dumb because all you have to do is just increase the clock speed\\nto increase speed among other things.\\n\\n\\tI mean how can you say a 040 is faster than a 486 without \\ngiving is operational conditions?  Can you say the same when \\nyou are running a program that uses a lot of transidental functions.\\nKnowing that 040 does not have transidental functions building in to \\nits FPU and 486 does, can you say that 040 is still faster?\\n\\n\\tAnyway, I hope people do not decided upon wether a computers\\nis good or not solely on its processor.  Or how fast a processor is\\nbased on its name, because one can alway do a certain things to a\\nprocessor to speed it up.  \\n\\n\\tBut if we restrict our arguements to, for example, pure\\nprocessor architectural issues.  Or how one processor will work\\nwell and another will not based on its design, then we can get\\nsomewhere with our discussions.  \\n\\n- Chung Yang</td>\n",
              "    </tr>\n",
              "    <tr>\n",
              "      <th>4</th>\n",
              "      <td>comp.sys.mac.hardware</td>\n",
              "      <td>So, will it be possible to have a NuBus or PDS PowerPC upgrade, or will it \\nrequire a logic board swap? It would be interesting for Apple to come out with\\na NuBus PowerPC that allowed use of the CPU's 680x0, like RocketShare. But I \\nguess that's getting a bit fantastic!\\n\\nI was wondering, since MacWeek reported that developers were 'seeded' with\\nPowerPCs on a NuBus card.\\n\\nAlso, any word on machine arrivals or estimated speed? Last I heard, the \\nestimates were around 3-4 times the speed of a Quadra in native RISC mode. I\\nheard an Apple employee mumble something about the arrival of PowerPC machines\\nat a much earlier date that Q1 94, but I doubt it's true.\\n\\nFinally, is the PowerPC developer's CD 'mini-course' available? I saw it \\nadvertised in the developer's university calendar, and I'd like to know if it's\\nat all *interesting*.\\n\\nSean</td>\n",
              "    </tr>\n",
              "    <tr>\n",
              "      <th>5</th>\n",
              "      <td>comp.sys.mac.hardware</td>\n",
              "      <td>\\n    I think this is mostly the fault of the people who write up the\\nliterature and price lists being confused themselves. Since there are\\ntwo possible processor configurations and one of the them doesn't have\\nan FPU it does seem to be an option, even though it really isn't.\\n\\n\\n    Well, then allow me to end your confusion. The C650 ONLY come with\\nan LC040 in the base 4/80 configuration. If you are not getting this\\nconfiguration then you are getting an FPU.\\n\\n\\n    Good question. I have been wondering that since Feb. 10th.\\n\\n \\n    This is possible, but an option is something that you are supposed\\nto be able to request when you want it. What Apple has done is given the\\nbuyer a CHOICE between configurations and not an OPTION.\\n\\n\\n    This is not unclear at all. In fact Apple has included in the ROMs\\nof those machines with LC040s code to recognize the presence of the full\\n040's FPU and use it. Thereby making the upgrade as easy as switching\\nchips. You pop the LC040 out and pop in a full '040.\\n\\n\\n    They did? I think I would double-check this. It has been stated\\ncountless times in this newsgroup by two of the Centris hardware\\ndesigners that the LC040 and the full '040 are pin compatible and that\\nthe C610 can be upgraded to a full '040.</td>\n",
              "    </tr>\n",
              "    <tr>\n",
              "      <th>6</th>\n",
              "      <td>comp.sys.mac.hardware</td>\n",
              "      <td>\\nThe DayStar PowerCache for the SE/30 replaces the CPU with an accelerated\\nCPU plus the powercache.  This leavese the PDS slot open for a video card.\\nCurrenty, DayStar does not have the '040 in this configuration, but it is\\ndue out early next year.  With their upgrade policy, you can get the '030\\naccelerator now, and when the '040 version becomes available, you get\\ncredit\\nfor the one you have.  \\n\\nI am running their 50 MHz version with FPU along with a Radius Precision\\nColor Pivot and I'm very satisfied.\\n\\n-------------------------------------------------------------------------\\n\\nEarl D. Fife          |          Department of Mathematics\\nfife@calvin.edu       |          Calvin College\\n(616)957-6403         |          Grand Rapids, MI 49546</td>\n",
              "    </tr>\n",
              "    <tr>\n",
              "      <th>7</th>\n",
              "      <td>comp.sys.mac.hardware</td>\n",
              "      <td>\\n\\n    Don't believe the hype. There is no such thing as a PowerPC slot.</td>\n",
              "    </tr>\n",
              "    <tr>\n",
              "      <th>8</th>\n",
              "      <td>comp.sys.mac.hardware</td>\n",
              "      <td>\\n\\n\\n\\n    Apple has really confused people with this whole thing. I think\\nwe'll be answering this question for about the next year or so. There is\\nno \"option\" to get an FPU on a C650. What you have is a choice of CPUs:\\nthere is the 68LC040 that does not have an integrated FPU like the full\\n'040 and is only present in the base 4/80 model of the C650 (AppleUSA).\\nAnd there is the full '040 which you get when you order anything other\\nthan the base 4/80 configuration. Therefore, since you have ordered one\\nof the 8MB versions with on-board Ethernet models you will not be\\ngetting the LC040. But even if you wanted to have the LC040 you wouldn't\\nbe able to order a C650 with 8MB RAM, on-board Ethernet and an LC040.\\nIt's not an \"option.\"\\n    Also, a note to people out there that have 4/80 C650s and C610s\\nthinking that there is an optional FPU, the '040 class chip cannot\\nrecognize an external FPU, so there is no socket on the motherboard for\\na FPU chip and you cannot go out and purchase an FPU on a PDS card or\\nsomething like that. The only way to get an FPU in these machines is to\\nreplace the LC040 with a full '040. And if you have a C610, you will not\\nneed to worry about a heat sink if you do replace the LC040 with the\\nfull '040, but if you have a 4/80 C650 you do need to have a heat sink.</td>\n",
              "    </tr>\n",
              "    <tr>\n",
              "      <th>9</th>\n",
              "      <td>comp.sys.mac.hardware</td>\n",
              "      <td>\\n\\n\\nIt would also be great for another reason - when not docked, it could serve\\nas an ARA server to the large internal HD, your corporate email, etc.  In\\na pinch, you would also have two machines, instead of 1.5.\\n\\nIf they could couple that thought with RocketShare, and let you use both the\\n'030 on the PB and the '040 on the dock, it would be a mighty powerful dock.\\n\\n--</td>\n",
              "    </tr>\n",
              "  </tbody>\n",
              "</table>\n",
              "</div>\n",
              "      <button class=\"colab-df-convert\" onclick=\"convertToInteractive('df-57c46cd6-f087-40bb-b396-b0516c7f874e')\"\n",
              "              title=\"Convert this dataframe to an interactive table.\"\n",
              "              style=\"display:none;\">\n",
              "        \n",
              "  <svg xmlns=\"http://www.w3.org/2000/svg\" height=\"24px\"viewBox=\"0 0 24 24\"\n",
              "       width=\"24px\">\n",
              "    <path d=\"M0 0h24v24H0V0z\" fill=\"none\"/>\n",
              "    <path d=\"M18.56 5.44l.94 2.06.94-2.06 2.06-.94-2.06-.94-.94-2.06-.94 2.06-2.06.94zm-11 1L8.5 8.5l.94-2.06 2.06-.94-2.06-.94L8.5 2.5l-.94 2.06-2.06.94zm10 10l.94 2.06.94-2.06 2.06-.94-2.06-.94-.94-2.06-.94 2.06-2.06.94z\"/><path d=\"M17.41 7.96l-1.37-1.37c-.4-.4-.92-.59-1.43-.59-.52 0-1.04.2-1.43.59L10.3 9.45l-7.72 7.72c-.78.78-.78 2.05 0 2.83L4 21.41c.39.39.9.59 1.41.59.51 0 1.02-.2 1.41-.59l7.78-7.78 2.81-2.81c.8-.78.8-2.07 0-2.86zM5.41 20L4 18.59l7.72-7.72 1.47 1.35L5.41 20z\"/>\n",
              "  </svg>\n",
              "      </button>\n",
              "      \n",
              "  <style>\n",
              "    .colab-df-container {\n",
              "      display:flex;\n",
              "      flex-wrap:wrap;\n",
              "      gap: 12px;\n",
              "    }\n",
              "\n",
              "    .colab-df-convert {\n",
              "      background-color: #E8F0FE;\n",
              "      border: none;\n",
              "      border-radius: 50%;\n",
              "      cursor: pointer;\n",
              "      display: none;\n",
              "      fill: #1967D2;\n",
              "      height: 32px;\n",
              "      padding: 0 0 0 0;\n",
              "      width: 32px;\n",
              "    }\n",
              "\n",
              "    .colab-df-convert:hover {\n",
              "      background-color: #E2EBFA;\n",
              "      box-shadow: 0px 1px 2px rgba(60, 64, 67, 0.3), 0px 1px 3px 1px rgba(60, 64, 67, 0.15);\n",
              "      fill: #174EA6;\n",
              "    }\n",
              "\n",
              "    [theme=dark] .colab-df-convert {\n",
              "      background-color: #3B4455;\n",
              "      fill: #D2E3FC;\n",
              "    }\n",
              "\n",
              "    [theme=dark] .colab-df-convert:hover {\n",
              "      background-color: #434B5C;\n",
              "      box-shadow: 0px 1px 3px 1px rgba(0, 0, 0, 0.15);\n",
              "      filter: drop-shadow(0px 1px 2px rgba(0, 0, 0, 0.3));\n",
              "      fill: #FFFFFF;\n",
              "    }\n",
              "  </style>\n",
              "\n",
              "      <script>\n",
              "        const buttonEl =\n",
              "          document.querySelector('#df-57c46cd6-f087-40bb-b396-b0516c7f874e button.colab-df-convert');\n",
              "        buttonEl.style.display =\n",
              "          google.colab.kernel.accessAllowed ? 'block' : 'none';\n",
              "\n",
              "        async function convertToInteractive(key) {\n",
              "          const element = document.querySelector('#df-57c46cd6-f087-40bb-b396-b0516c7f874e');\n",
              "          const dataTable =\n",
              "            await google.colab.kernel.invokeFunction('convertToInteractive',\n",
              "                                                     [key], {});\n",
              "          if (!dataTable) return;\n",
              "\n",
              "          const docLinkHtml = 'Like what you see? Visit the ' +\n",
              "            '<a target=\"_blank\" href=https://colab.research.google.com/notebooks/data_table.ipynb>data table notebook</a>'\n",
              "            + ' to learn more about interactive tables.';\n",
              "          element.innerHTML = '';\n",
              "          dataTable['output_type'] = 'display_data';\n",
              "          await google.colab.output.renderOutput(dataTable, element);\n",
              "          const docLink = document.createElement('div');\n",
              "          docLink.innerHTML = docLinkHtml;\n",
              "          element.appendChild(docLink);\n",
              "        }\n",
              "      </script>\n",
              "    </div>\n",
              "  </div>\n",
              "  "
            ]
          },
          "metadata": {},
          "execution_count": 69
        },
        {
          "output_type": "display_data",
          "data": {
            "text/plain": [
              "<Figure size 1440x360 with 1 Axes>"
            ],
            "image/png": "[encoded data removed]"
          },
          "metadata": {
            "needs_background": "light"
          }
        }
      ],
      "source": [
        "num_neighs = 10\n",
        "\n",
        "metric = 'cosine' # or 'cosine', 'l1', 'l2'\n",
        "features = TfidfVectorizer(ngram_range=(1,2), stop_words= 'english', lowercase=True) #create TfIDF vectorizer\n",
        "train.vecs = features.fit_transform(train.data) #Convert all train data to TfIDF vector representation\n",
        "nbrs = NearestNeighbors(n_neighbors=num_neighs+1, algorithm='brute', metric=metric).fit(train.vecs)\n",
        "distances, indices = nbrs.kneighbors(train.vecs[idx])\n",
        "# for nidx in indices[indices!=idx]:\n",
        "#   print('-----')\n",
        "#   print(train.target_names[train.target[nidx]])\n",
        "#   print(train.data[nidx])\n",
        "plt.rcParams[\"figure.figsize\"] = (20,5)\n",
        "plt.hist([train.target_names[nidx] for nidx in train.target[indices[indices!=idx]]])\n",
        "pd.DataFrame.from_dict({'category':[train.target_names[nidx] for nidx in train.target[indices[indices!=idx]]], 'email':[train.data[nidx] for nidx in indices[indices!=idx]]})"
      ]
    },
    {
      "cell_type": "code",
      "execution_count": null,
      "metadata": {
        "colab": {
          "base_uri": "https://localhost:8080/"
        },
        "id": "7IBgRdseobTW",
        "outputId": "37a9b972-f972-43f5-8a78-74bfaf4bdf0d"
      },
      "outputs": [
        {
          "output_type": "stream",
          "name": "stdout",
          "text": [
            "[[0.         0.88650979 0.90527354 0.91077546 0.91596077 0.91635415\n",
            "  0.92360247 0.92568617 0.92857766 0.93028488 0.93632466]]\n",
            "[[ 200 2771 1460 1635 1608  398  914 2782  775  349  336]]\n"
          ]
        }
      ],
      "source": [
        "print(distances)\n",
        "print(indices)"
      ]
    },
    {
      "cell_type": "markdown",
      "metadata": {
        "id": "XTxd3Bl97Wdh"
      },
      "source": [
        "# KMeans"
      ]
    },
    {
      "cell_type": "code",
      "source": [
        "#random.seed(a = 200)\n",
        "features = TfidfVectorizer(ngram_range=(1,1), stop_words= 'english', lowercase=True, max_features=2000, max_df=0.9)\n",
        "train.vecs = features.fit_transform(train.data)"
      ],
      "metadata": {
        "id": "5RwZfUkeyfK4"
      },
      "execution_count": null,
      "outputs": []
    },
    {
      "cell_type": "code",
      "execution_count": null,
      "metadata": {
        "colab": {
          "base_uri": "https://localhost:8080/",
          "height": 373
        },
        "id": "_bsKLnDVd4Ec",
        "outputId": "ad3de024-787b-416e-a878-658603113f91"
      },
      "outputs": [
        {
          "output_type": "execute_result",
          "data": {
            "text/plain": [
              "(array([536., 460.,   0., 986.,   0., 184.,  71.,   0., 347., 380.]),\n",
              " array([0. , 0.6, 1.2, 1.8, 2.4, 3. , 3.6, 4.2, 4.8, 5.4, 6. ]),\n",
              " <a list of 10 Patch objects>)"
            ]
          },
          "metadata": {},
          "execution_count": 82
        },
        {
          "output_type": "display_data",
          "data": {
            "text/plain": [
              "<Figure size 1440x360 with 1 Axes>"
            ],
            "image/png": "[encoded data removed]"
          },
          "metadata": {
            "needs_background": "light"
          }
        }
      ],
      "source": [
        "clusterer = KMeans(n_clusters=7, init='k-means++', max_iter=500, n_init=5, algorithm=\"full\")\n",
        "clusts = clusterer.fit_predict(train.vecs)\n",
        "plt.hist(clusts)"
      ]
    },
    {
      "cell_type": "code",
      "execution_count": null,
      "metadata": {
        "id": "bEX73FXjobTX",
        "colab": {
          "base_uri": "https://localhost:8080/"
        },
        "outputId": "50b37970-4f6e-4c8a-8d9f-71e2fd3f1bd6"
      },
      "outputs": [
        {
          "output_type": "execute_result",
          "data": {
            "text/plain": [
              "array([2, 2, 2, 1, 2, 2, 4, 0, 2, 2, 0, 2, 0, 2, 2, 2, 2, 2, 2],\n",
              "      dtype=int32)"
            ]
          },
          "metadata": {},
          "execution_count": 72
        }
      ],
      "source": [
        "clusts[1:20]"
      ]
    },
    {
      "cell_type": "code",
      "execution_count": null,
      "metadata": {
        "id": "UeOWZBXUz6iO"
      },
      "outputs": [],
      "source": [
        "def purity_score(c, y):\n",
        "  '''From: http://www.caner.io/purity-in-python.html'''\n",
        "  A = np.c_[(c,y)]\n",
        "  n_accurate = 0.\n",
        "  for j in np.unique(A[:,0]):\n",
        "    z = A[A[:,0] == j, 1]\n",
        "    x = np.argmax(np.bincount(z))\n",
        "    n_accurate += len(z[z == x])\n",
        "  return n_accurate / A.shape[0]\n",
        "  \n",
        "def cluster_purity(c, y):\n",
        "  numy = len(set(y))\n",
        "  cvals = list(set(c)) #[str(ce) for ce in list(set(c))]\n",
        "  numc = len(cvals)\n",
        "  ind = [str(cval) for cval in cvals] #np.arange(numc)\n",
        "  bottom = np.zeros(numc)\n",
        "  for yidx in range(numy):\n",
        "    counts = np.zeros(numc)\n",
        "    for cidx in range(numc):\n",
        "      num = len(list(filter(lambda p: p[0]==cvals[cidx] and p[1]==yidx, zip(c,y))))\n",
        "      counts[cidx] = num\n",
        "    plt.bar(ind, counts,label=train.target_names[yidx],bottom=bottom)\n",
        "    bottom = bottom + counts\n",
        "  plt.legend()"
      ]
    },
    {
      "cell_type": "code",
      "execution_count": null,
      "metadata": {
        "id": "86_TW3oKobTY",
        "colab": {
          "base_uri": "https://localhost:8080/",
          "height": 338
        },
        "outputId": "510bdde5-9d64-47b8-85b7-ad55a1fbe7dd"
      },
      "outputs": [
        {
          "output_type": "stream",
          "name": "stdout",
          "text": [
            "Purity: 0.659919028340081\n"
          ]
        },
        {
          "output_type": "display_data",
          "data": {
            "text/plain": [
              "<Figure size 1440x360 with 1 Axes>"
            ],
            "image/png": "[encoded data removed]"
          },
          "metadata": {
            "needs_background": "light"
          }
        }
      ],
      "source": [
        "cluster_purity(clusts, train.target)\n",
        "print('Purity:', purity_score(clusts, train.target))"
      ]
    },
    {
      "cell_type": "code",
      "execution_count": null,
      "metadata": {
        "id": "wSvnz-ZPobTY",
        "colab": {
          "base_uri": "https://localhost:8080/",
          "height": 677
        },
        "outputId": "b6ac1af6-92e2-478a-c436-ef2e7f6dd671"
      },
      "outputs": [
        {
          "output_type": "stream",
          "name": "stdout",
          "text": [
            "k= 1 done, purity: 0.20242914979757085\n",
            "k= 2 done, purity: 0.31950067476383265\n",
            "k= 3 done, purity: 0.3825910931174089\n",
            "k= 4 done, purity: 0.4915654520917679\n",
            "k= 5 done, purity: 0.645748987854251\n",
            "k= 6 done, purity: 0.6632928475033738\n",
            "k= 7 done, purity: 0.6818488529014844\n",
            "k= 8 done, purity: 0.699055330634278\n",
            "k= 9 done, purity: 0.6558704453441295\n",
            "k= 10 done, purity: 0.6939946018893387\n",
            "k= 11 done, purity: 0.3967611336032389\n",
            "k= 12 done, purity: 0.4824561403508772\n",
            "k= 13 done, purity: 0.701417004048583\n",
            "k= 14 done, purity: 0.6713900134952766\n",
            "k= 15 done, purity: 0.6865721997300944\n",
            "k= 16 done, purity: 0.6798245614035088\n",
            "k= 17 done, purity: 0.7044534412955465\n",
            "k= 18 done, purity: 0.703778677462888\n",
            "k= 19 done, purity: 0.6815114709851552\n"
          ]
        },
        {
          "output_type": "execute_result",
          "data": {
            "text/plain": [
              "[<matplotlib.lines.Line2D at 0x7fb96ecd8650>]"
            ]
          },
          "metadata": {},
          "execution_count": 84
        },
        {
          "output_type": "display_data",
          "data": {
            "text/plain": [
              "<Figure size 1440x360 with 1 Axes>"
            ],
            "image/png": "[encoded data removed]"
          },
          "metadata": {
            "needs_background": "light"
          }
        }
      ],
      "source": [
        "import nltk\n",
        "\n",
        "purity = []\n",
        "wcss=[]\n",
        "\n",
        "krange = range(1,20)\n",
        "for k in krange:\n",
        "  tclusterer = KMeans(n_clusters=k, init='k-means++', max_iter=500, n_init=5, algorithm=\"full\")\n",
        "  clusts = tclusterer.fit_predict(train.vecs)\n",
        "  purity.append(purity_score(clusts, train.target))\n",
        "  wcss.append(tclusterer.inertia_)\n",
        "  print('k=',k,'done, purity:', purity[k-1])\n",
        "\n",
        "#plt.plot(krange, wcss)\n",
        "plt.plot(krange, purity)"
      ]
    },
    {
      "cell_type": "code",
      "execution_count": null,
      "metadata": {
        "id": "LwJC1MifobTZ",
        "colab": {
          "base_uri": "https://localhost:8080/",
          "height": 338
        },
        "outputId": "e2538fc4-91a3-4e5c-c955-7056eb9fc2df"
      },
      "outputs": [
        {
          "output_type": "execute_result",
          "data": {
            "text/plain": [
              "[<matplotlib.lines.Line2D at 0x7fb978886290>]"
            ]
          },
          "metadata": {},
          "execution_count": 85
        },
        {
          "output_type": "display_data",
          "data": {
            "text/plain": [
              "<Figure size 1440x360 with 1 Axes>"
            ],
            "image/png": "[encoded data removed]"
          },
          "metadata": {
            "needs_background": "light"
          }
        }
      ],
      "source": [
        "plt.plot(krange, wcss)"
      ]
    },
    {
      "cell_type": "code",
      "execution_count": null,
      "metadata": {
        "id": "URYl7X6AobTZ",
        "colab": {
          "base_uri": "https://localhost:8080/",
          "height": 391
        },
        "outputId": "c8f9001b-5b80-430e-eddd-7e4a5f6782db"
      },
      "outputs": [
        {
          "output_type": "execute_result",
          "data": {
            "text/plain": [
              "(array([  44.,  352.,  392.,    0.,  319.,  245.,    0., 1425.,   71.,\n",
              "         116.]),\n",
              " array([0. , 0.7, 1.4, 2.1, 2.8, 3.5, 4.2, 4.9, 5.6, 6.3, 7. ]),\n",
              " <a list of 10 Patch objects>)"
            ]
          },
          "metadata": {},
          "execution_count": 86
        },
        {
          "output_type": "display_data",
          "data": {
            "text/plain": [
              "<Figure size 1440x360 with 1 Axes>"
            ],
            "image/png": "[encoded data removed]"
          },
          "metadata": {
            "needs_background": "light"
          }
        }
      ],
      "source": [
        "#random.seed(a = 200)\n",
        "features = TfidfVectorizer(ngram_range=(1,2), stop_words= 'english', lowercase=True, max_features=2000, max_df=0.9)\n",
        "train.vecs = features.fit_transform(train.data)\n",
        "\n",
        "clusterer = KMeans(n_clusters=8, init='k-means++', max_iter=100, n_init=10)\n",
        "clusts = clusterer.fit_predict(train.vecs)\n",
        "plt.hist(clusts)"
      ]
    },
    {
      "cell_type": "code",
      "execution_count": null,
      "metadata": {
        "id": "HT5Hfe26obTZ",
        "colab": {
          "base_uri": "https://localhost:8080/",
          "height": 338
        },
        "outputId": "d3a9ee64-14f2-497a-c94b-8527d8b88121"
      },
      "outputs": [
        {
          "output_type": "stream",
          "name": "stdout",
          "text": [
            "Purity: 0.6673414304993253\n"
          ]
        },
        {
          "output_type": "display_data",
          "data": {
            "text/plain": [
              "<Figure size 1440x360 with 1 Axes>"
            ],
            "image/png": "[encoded data removed]"
          },
          "metadata": {
            "needs_background": "light"
          }
        }
      ],
      "source": [
        "cluster_purity(clusts, train.target)\n",
        "print('Purity:', purity_score(clusts, train.target))"
      ]
    },
    {
      "cell_type": "code",
      "execution_count": null,
      "metadata": {
        "id": "EdtGDu1robTa"
      },
      "outputs": [],
      "source": [
        "centroids = clusterer.cluster_centers_"
      ]
    },
    {
      "cell_type": "code",
      "execution_count": null,
      "metadata": {
        "id": "_sYcqHYOobTa",
        "colab": {
          "base_uri": "https://localhost:8080/"
        },
        "outputId": "390c56bb-f9fd-4963-9d69-cd4a43b01b09"
      },
      "outputs": [
        {
          "output_type": "execute_result",
          "data": {
            "text/plain": [
              "array([[0., 0., 0., ..., 0., 0., 0.]])"
            ]
          },
          "metadata": {},
          "execution_count": 93
        }
      ],
      "source": [
        "train.vecs[0].toarray()"
      ]
    },
    {
      "cell_type": "code",
      "execution_count": null,
      "metadata": {
        "id": "5kNg_I1aobTa",
        "colab": {
          "base_uri": "https://localhost:8080/"
        },
        "outputId": "07f548a9-9b65-4b16-92d1-e3be6657b430"
      },
      "outputs": [
        {
          "output_type": "stream",
          "name": "stdout",
          "text": [
            "[[0.00000000e+00 2.99737732e-03 0.00000000e+00 ... 0.00000000e+00\n",
            "  2.48920797e-03 0.00000000e+00]\n",
            " [6.83232291e-04 1.94160768e-04 0.00000000e+00 ... 2.49895761e-04\n",
            "  3.12655039e-03 0.00000000e+00]\n",
            " [5.13927883e-03 4.04619346e-03 5.04848693e-05 ... 6.63036399e-03\n",
            "  3.76118499e-03 5.09422917e-03]\n",
            " ...\n",
            " [1.97855290e-03 1.70579788e-03 1.47743491e-04 ... 2.06957877e-03\n",
            "  1.76152514e-03 1.08258717e-03]\n",
            " [0.00000000e+00 4.13563677e-03 0.00000000e+00 ... 0.00000000e+00\n",
            "  1.95135648e-03 0.00000000e+00]\n",
            " [5.98658079e-03 0.00000000e+00 0.00000000e+00 ... 0.00000000e+00\n",
            "  0.00000000e+00 1.50927343e-03]]\n"
          ]
        }
      ],
      "source": [
        "print(centroids)"
      ]
    },
    {
      "cell_type": "code",
      "execution_count": null,
      "metadata": {
        "id": "DHOqSRBpobTa"
      },
      "outputs": [],
      "source": [
        "#pd.DataFrame.from_dict({'category':[train.target_names[train.target[2538]]], 'email':[train.data[2538]]})"
      ]
    },
    {
      "cell_type": "code",
      "execution_count": null,
      "metadata": {
        "id": "ouNUq6ZZobTb"
      },
      "outputs": [],
      "source": [
        "nbrs = NearestNeighbors(n_neighbors=num_neighs+1, algorithm='brute', metric=metric).fit(train.vecs)\n",
        "distance, indices = nbrs.kneighbors(centroids)"
      ]
    },
    {
      "cell_type": "code",
      "execution_count": null,
      "metadata": {
        "id": "TgYLydwvobTb",
        "colab": {
          "base_uri": "https://localhost:8080/"
        },
        "outputId": "06ae46a9-d6ec-4538-e59a-4b93a7878ce2"
      },
      "outputs": [
        {
          "output_type": "execute_result",
          "data": {
            "text/plain": [
              "array([[2698, 2022, 1700, 1247, 1753, 1556, 1884, 1302, 1091,   88, 1851],\n",
              "       [1126, 2746, 1402, 1976, 2568,  719, 1678, 1357, 2250,  304,  998],\n",
              "       [1150,  876, 2608, 1448, 1084, 2393,  644, 2315,  892, 2457,  982],\n",
              "       [2805, 2000,  673, 1999,  822, 1392,  482, 1908,   98,  256, 2243],\n",
              "       [ 335, 2564,  582,  365, 1153,  628, 1380,  356, 2277, 2467, 2872],\n",
              "       [2086,  154,  427, 1685, 1242, 1028, 1071,  934,  917, 2559, 2673],\n",
              "       [1381,   20,  671,  827, 2910, 1107, 1377, 1329, 1548,  720,   14],\n",
              "       [1673, 1392, 2213,  569, 2651,  274,  271, 2270, 1076, 2014,  889]])"
            ]
          },
          "metadata": {},
          "execution_count": 97
        }
      ],
      "source": [
        "indices"
      ]
    },
    {
      "cell_type": "code",
      "execution_count": null,
      "metadata": {
        "id": "my-e5_AZobTb",
        "colab": {
          "base_uri": "https://localhost:8080/"
        },
        "outputId": "1e531767-ad3d-4473-c4ba-aa89f4db2d0d"
      },
      "outputs": [
        {
          "output_type": "stream",
          "name": "stdout",
          "text": [
            "Document closest to Cluster 1:\n",
            " I have come across what I consider to be an excellent tract. It is a\n",
            "bit lengthy for a posting, but I thought I'd share it with all of you\n",
            "anyway. Feel free to pass it along to anyone whom you feel might\n",
            "benefit from what it says. May God richly bless those who read it.\n",
            " \n",
            "=======================================================================\n",
            " \n",
            "                   D O E S  G O D  L O V E  Y O U ?\n",
            " \n",
            " \n",
            "Q. What  kind  of  question  is that?   Anyone who can read sees signs,\n",
            "   tracts, books, and bumper stickers that say, \"God Loves You.\"  Isn't\n",
            "   that true?\n",
            " \n",
            "A. It  is  true that God offers His love to the whole world, as we read\n",
            "   in one of the most quoted verses in the Bible:\n",
            " \n",
            "      For  God  so  loved  the world, that he gave his only begotten\n",
            "      Son, that whosoever believeth in him should  not  perish,  but\n",
            "      have everlasting life.                               John 3:16\n",
            " \n",
            " \n",
            "      The way of the wicked is an abomination unto the LORD:  but he\n",
            "      loveth him that followeth after righteousness.   Proverbs 15:9\n",
            " \n",
            "      For  the LORD knoweth the way of the righteous: but the way of\n",
            "      the ungodly shall perish.                            Psalm 1:6\n",
            " \n",
            " \n",
            "Q. But  I am not wicked.  I am a decent, moral person.  Surely the good\n",
            "   I have done in my life far outweighs whatever bad I have done.   How\n",
            "   can these verses apply to me?\n",
            " \n",
            "A. By  God's  standard  of  righteousness even the most moral person is\n",
            "   looked upon by God as a desperate sinner on his way to  Hell.    The\n",
            "   Bible teaches that no one is good enough in himself to go to Heaven.\n",
            "   On  the  contrary,  we  are all sinners and we are all guilty before\n",
            "   God.\n",
            " \n",
            "      As it is written, There is none righteous, no, not one:  There\n",
            "      is  none  that understandeth, there is none that seeketh after\n",
            "      God.                                            Romans 3:10-11\n",
            " \n",
            "      The  heart  is  deceitful  above  all  things, and desperately\n",
            "      wicked: who can know it?                         Jeremiah 17:9\n",
            " \n",
            " \n",
            "Q. If I am such a wicked person in God's sight, what will God do to me?\n",
            " \n",
            "A. The  Bible  teaches that at the end of the world all the wicked will\n",
            "   come under eternal punishment in a place called Hell.\n",
            " \n",
            "      For  a  fire is kindled in mine anger, and shall burn unto the\n",
            "      lowest hell, and shall consume the earth  with  her  increase,\n",
            "      and set on fire the foundations of the mountains.  I will heap\n",
            "      mischiefs upon them; I will spend mine arrows upon them.  They\n",
            "      shall  be  burnt  with hunger, and devoured with burning heat,\n",
            "      and  with  bitter  destruction:  I will also send the teeth of\n",
            "      beasts upon them, with the poison of serpents of the dust.\n",
            "                                                Deuteronomy 32:22-24\n",
            " \n",
            " \n",
            "Q. Oh,  come  on now!   Hell is not real, is it?  Surely things are not\n",
            "   that bad.\n",
            " \n",
            "A. Indeed,  Hell is very real, and things are that bad for the individ-\n",
            "   ual who does not know the Lord Jesus Christ as Savior.    The  Bible\n",
            "   makes  many  references  to Hell, indicating that it is both eternal\n",
            "   and consists of perpetual suffering.\n",
            " \n",
            "      And  whosoever  was  not found written in the book of life was\n",
            "      cast into the lake of fire.                   Revelation 20:15\n",
            " \n",
            "      So  shall it be at the end of the world: the angels shall come\n",
            "      forth, and sever the wicked from among  the  just,  And  shall\n",
            "      cast them into the furnace of fire: there shall be wailing and\n",
            "      gnashing of teeth.                            Matthew 13:49-50\n",
            " \n",
            "      ...    when  the Lord Jesus shall be revealed from heaven with\n",
            "      his mighty angels, In flaming fire taking  vengeance  on  them\n",
            "      that  know  not  God, and that obey not the gospel of our Lord\n",
            "      Jesus   Christ:    Who  shall  be  punished  with  everlasting\n",
            "      destruction  from the presence of the Lord, and from the glory\n",
            "      of his power;                            2 Thessalonians 1:7-9\n",
            " \n",
            " \n",
            "Q. That is terrible!  Why would God create a Hell?\n",
            " \n",
            "A. Hell  is  terrible,  and  it  exists  because  God created man to be\n",
            "   accountable to God for his actions.  God's perfect  justice  demands\n",
            "   payment for sin.\n",
            " \n",
            "      For the wages of sin is death;                     Romans 6:23\n",
            " \n",
            "      For  we  must  all  appear before the judgment seat of Christ;\n",
            "      that every one may  receive  the  things  done  in  his  body,\n",
            "      according to that he hath done, whether it be good or bad.\n",
            "                                                  2 Corinthians 5:10\n",
            " \n",
            "      But I say unto you, That every idle word that men shall speak,\n",
            "      they shall give account thereof in the day of judgment.\n",
            "                                                       Matthew 12:36\n",
            " \n",
            " \n",
            "Q. Does that mean that at the end of the world everyone will be brought\n",
            "   to life again to be judged and then to be sent to Hell?\n",
            " \n",
            "A. Indeed  it  does;  that  is,  unless  we  can find someone to be our\n",
            "   substitute in bearing the punishment of eternal  damnation  for  our\n",
            "   sins.    That  someone  is  God  Himself, who came to earth as Jesus\n",
            "   Christ to bear the wrath of God for all who believe in Him.\n",
            " \n",
            "      All  we  like sheep have gone astray; we have turned every one\n",
            "      to his own way; and the LORD hath laid on him the iniquity  of\n",
            "      us all.                                            Isaiah 53:6\n",
            " \n",
            "      But  he was wounded for our transgressions, he was bruised for\n",
            "      our iniquities: the chastisement of our peace  was  upon  him;\n",
            "      and with his stripes we are healed.                Isaiah 53:5\n",
            " \n",
            "      For  I  delivered  unto  you  first  of  all that which I also\n",
            "      received, how that Christ died for our sins according  to  the\n",
            "      scriptures; And that he was buried, and that he rose again the\n",
            "      third day according to the scriptures:    1 Corinthians 15:3-4\n",
            " \n",
            "      For  he  hath made him to be sin for us, who knew no sin; that\n",
            "      we might be made the righteousness of God in him.\n",
            "                                                  2 Corinthians 5:21\n",
            " \n",
            " \n",
            "Q. Are  you  saying that if I trust in Christ as my substitute, Who was\n",
            "   already punished for my sins, then I will not have  to  worry  about\n",
            "   Hell anymore?\n",
            " \n",
            "A. Yes, this is so!  If I have believed in Christ as my Savior, then it\n",
            "   is  as  if  I  have already stood before the Judgment Throne of God.\n",
            "   Christ as my substitute has already paid for my sins.\n",
            " \n",
            "      He  that  believeth  on  the Son hath everlasting life: and he\n",
            "      that believeth not the Son shall not see life; but  the  wrath\n",
            "      of God abideth on him.                               John 3:36\n",
            " \n",
            " \n",
            "Q. But  what  does it mean to believe on Him?  If I agree with all that\n",
            "   the Bible says about Christ as Savior, then am I saved from going to\n",
            "   Hell?\n",
            " \n",
            "A. Believing  on  Christ  means  a  whole lot more than agreeing in our\n",
            "   minds with the truths of the Bible.  It means that we hang our whole\n",
            "   lives  on Him.   It means that we entrust every part of our lives to\n",
            "   the  truths  of the Bible.  It means that we turn away from our sins\n",
            "   and serve Christ as our Lord.\n",
            " \n",
            "      No man can serve two masters: for either he will hate the one,\n",
            "      and  love  the  other;  or  else  he will hold to the one, and\n",
            "      despise the other. Ye cannot serve God and mammon.\n",
            "                                                        Matthew 6:24\n",
            " \n",
            "      Repent  ye  therefore, and be converted, that your sins may be\n",
            "      blotted out, when the times of refreshing shall come from  the\n",
            "      presence of the Lord;                                Acts 3:19\n",
            " \n",
            " \n",
            "Q. Are  you  saying  that  there  is no other way to escape Hell except\n",
            "   through Jesus?   What about all the other  religions?    Will  their\n",
            "   followers also go to Hell?\n",
            " \n",
            "A. Yes, indeed.  They cannot escape the fact that God holds us account-\n",
            "   able  for  our  sins.   God demands that we pay for our sins.  Other\n",
            "   religions  cannot  provide  a  substitute  to bear the sins of their\n",
            "   followers.  Christ is the only one who is able to bear our guilt and\n",
            "   save us.\n",
            " \n",
            "      Neither  is  there  salvation  in any other: for there is none\n",
            "      other name under heaven given among men, whereby  we  must  be\n",
            "      saved.                                               Acts 4:12\n",
            " \n",
            " \n",
            "      I  am the way, the truth, and the life: no man cometh unto the\n",
            "      Father, but by me.                                   John 14:6\n",
            " \n",
            "      If  we confess our sins, he is faithful and just to forgive us\n",
            "      our sins, and to cleanse us from all unrighteousness.\n",
            "                                                          1 John 1:9\n",
            " \n",
            " \n",
            "Q. Now I am desperate.  I do not want to go to Hell.  What can I do?\n",
            " \n",
            "A. You  must  remember  that God is the only one who can help you.  You\n",
            "   must throw yourself altogether on the mercies of God.   As  you  see\n",
            "   your hopeless condition as a sinner, cry out to God to save you.\n",
            " \n",
            "      And the publican, standing afar off, would not lift up so much\n",
            "      as  his  eyes  unto heaven, but smote upon his breast, saying,\n",
            "      God be merciful to me a sinner.                     Luke 18:13\n",
            " \n",
            "      ...  Sirs, what must I do to be saved?  And they said, Believe\n",
            "      on the Lord Jesus Christ, and thou shalt be saved, ...\n",
            "                                                       Acts 16:30-31\n",
            " \n",
            " \n",
            "Q. But how can I believe on Christ if I know so little about Him?\n",
            " \n",
            "A. Wonderfully,  God  not  only saves us through the Lord Jesus, but He\n",
            "   also gives us the faith to believe on Him.  You can pray to God that\n",
            "   He will give you faith in Jesus Christ as your Savior.\n",
            " \n",
            "      For  by  grace  are  ye  saved  through faith; and that not of\n",
            "      yourselves: it is the gift of God:               Ephesians 2:8\n",
            " \n",
            "   God works particularly through the Bible to give us that faith.  So,\n",
            "   if  you  really  mean  business  with  God about your salvation, you\n",
            "   should  use  every opportunity to hear and study the Bible, which is\n",
            "   the only Word of God.\n",
            "   In  this  brochure,  all  verses  from the Bible are within indented\n",
            "   paragraphs.  Give heed to them with all your heart.\n",
            " \n",
            "      So  then  faith  cometh by hearing, and hearing by the word of\n",
            "      God.                                              Romans 10:17\n",
            " \n",
            " \n",
            "Q. But does this mean that I have to surrender everything to God?\n",
            " \n",
            "A. Yes.    God wants us to come to Him in total humility, acknowledging\n",
            "   our sinfulness and our helplessness, trusting totally in Him.\n",
            " \n",
            "      The  sacrifices  of  God  are  a broken spirit: a broken and a\n",
            "      contrite heart, O God, thou wilt not despise.      Psalm 51:17\n",
            " \n",
            "   Because  we  are sinners we love our sins.  Therefore, we must begin\n",
            "   to pray to God for an intense  hatred  of  our  sins.    And  if  we\n",
            "   sincerely desire salvation, we will also begin to turn from our sins\n",
            "   as  God  strengthens  us.    We know that our sins are sending us to\n",
            "   Hell.\n",
            " \n",
            "      Unto  you  first God, having raised up his Son Jesus, sent him\n",
            "      to bless you, in turning  away  every  one  of  you  from  his\n",
            "      iniquities.                                          Acts 3:26\n",
            " \n",
            " \n",
            "Q. Doesn't  the  Bible teach that I must attend church regularly and be\n",
            "   baptized?  Will these save me?\n",
            " \n",
            "A. If  possible,  we should do these things, but they will not save us.\n",
            "   No work of any kind can secure our salvation.   Salvation  is  God's\n",
            "   sovereign gift of grace given according to His mercy and good pleas-\n",
            "   ure.  Salvation is\n",
            " \n",
            "      Not of works, lest any man should boast.         Ephesians 2:9\n",
            " \n",
            " \n",
            "Q. What else will happen at the end of the world?\n",
            " \n",
            "A. Those  who have trusted in Jesus as their Savior will be transformed\n",
            "   into their glorious eternal bodies and will be with Christ  forever-\n",
            "   more.\n",
            " \n",
            "      For  the  Lord himself shall descend from heaven with a shout,\n",
            "      with the voice of the archangel, and with the  trump  of  God:\n",
            "      and  the  dead  in Christ shall rise first:  Then we which are\n",
            "      alive  and remain shall be caught up together with them in the\n",
            "      clouds,  to meet the Lord in the air:  and so shall we ever be\n",
            "      with the Lord.                         1 Thessalonians 4:16-17\n",
            " \n",
            " \n",
            "Q. What will happen to the earth at that time?\n",
            " \n",
            "A. God  will destroy the entire universe by fire and create new heavens\n",
            "   and a new earth where Christ will reign with His believers  forever-\n",
            "   more.\n",
            " \n",
            "      But  the day of the Lord will come as a thief in the night; in\n",
            "      the which the heavens shall pass away with a great noise,  and\n",
            "      the  elements shall melt with fervent heat, the earth also and\n",
            "      the   works  that  are  therein  shall  be  burned  up.    ...\n",
            "      Nevertheless  we,  according  to  his  promise,  look  for new\n",
            "      heavens and a new earth, wherein dwelleth righteousness.\n",
            "                                                     2 Peter 3:10,13\n",
            " \n",
            " \n",
            "Q. Does  the  Bible  give us any idea of when the end of the earth will\n",
            "   come?\n",
            " \n",
            "A. Yes!    The end will come when Christ has saved all whom He plans to\n",
            "   save.\n",
            " \n",
            "      And  this  gospel  of the kingdom shall be preached in all the\n",
            "      world for a witness unto all nations; and then shall  the  end\n",
            "      come.                                            Matthew 24:14\n",
            " \n",
            " \n",
            "Q. Can we know how close to the end of the world we might be?\n",
            " \n",
            "A. Yes!   God gives much information in the Bible concerning the timing\n",
            "   of the history of the world and tells us that while the Day  of  the\n",
            "   Lord  will come as a thief in the night for the unsaved, it will not\n",
            "   come  as  a  thief for the believers.  There is much evidence in the\n",
            "   Bible  that  the  end  of  the world and the return of Christ may be\n",
            "   very, very close.* All the time clues in the Bible point to this.\n",
            " \n",
            "      For  when  they  shall  say,  Peace  and  safety;  then sudden\n",
            "      destruction cometh upon them, as travail  upon  a  woman  with\n",
            "      child; and they shall not escape.          1 Thessalonians 5:3\n",
            " \n",
            "      Surely  the  Lord  GOD  will  do nothing, but he revealeth his\n",
            "      secret unto his servants the prophets.                Amos 3:7\n",
            " \n",
            " \n",
            "Q. But that means Judgment Day is almost here.\n",
            " \n",
            "A. Yes,  it  does.    God  warned  ancient Nineveh that He was going to\n",
            "   destroy that great city and He gave them forty days warning.\n",
            " \n",
            "      And Jonah began to enter into the city a day's journey, and he\n",
            "      cried,  and  said,  Yet  forty  days,  and  Nineveh  shall  be\n",
            "      overthrown.                                          Jonah 3:4\n",
            " \n",
            " \n",
            "Q. What did the people of Nineveh do?\n",
            " \n",
            "A. From  the  king on down they humbled themselves before God, repented\n",
            "   of their sins, and cried to God for mercy.\n",
            " \n",
            "      But  let  man  and  beast  be  covered with sackcloth, and cry\n",
            "      mightily unto God: yea, let them turn every one from his  evil\n",
            "      way,  and  from  the violence that is in their hands.  Who can\n",
            "      tell  if  God  will  turn  and  repent, and turn away from his\n",
            "      fierce anger, that we perish not?                  Jonah 3:8-9\n",
            " \n",
            " \n",
            "Q. Did God hear their prayers?\n",
            " \n",
            "A. Yes.  God saved a great many people of Nineveh.\n",
            " \n",
            " \n",
            "Q. Can  I still cry to God for mercy so that I will not come into judg-\n",
            "   ment?\n",
            " \n",
            "A. Yes.   There is still time to become saved even though that time has\n",
            "   become very short.\n",
            " \n",
            "      How  shall  we escape, if we neglect so great salvation; which\n",
            "      at the first began to be spoken by the Lord, and was confirmed\n",
            "      unto us by them that heard him;                    Hebrews 2:3\n",
            " \n",
            "      In  God is my salvation and my glory: the rock of my strength,\n",
            "      and my refuge, is in God.   Trust in  him  at  all  times;  ye\n",
            "      people,  pour  out  your heart before him: God is a refuge for\n",
            "      us.                                               Psalm 62:7-8\n",
            " \n",
            " \n",
            " \n",
            " \n",
            "            A R E  Y O U  R E A D Y  T O  M E E T  G O D ?\n",
            " \n",
            " \n",
            " \n",
            "A  book  entitled  1994?,  written by Harold Camping, presents Biblical\n",
            "information that we may be very near the end of time.  For  information\n",
            "on  how to obtain a copy or to receive a free program guide and list of\n",
            "radio  stations on which you can hear our Gospel programs, please write\n",
            "to Family Radio, Oakland, California, 94621 (The United States of Amer-\n",
            "ica), or call 1-800-543-1495.\n",
            " \n",
            "               ----------------------------------------\n",
            " \n",
            " \n",
            "The  foregoing  is a copy of the \"Does God Love You?\" tract printed by,\n",
            "and available free of charge from, Family Radio.   A  number  of  minor\n",
            "changes  have  been  made to its layout to facilitate computer printing\n",
            "and  distribution.  The only change to the text itself is the paragraph\n",
            "which  describes  the  way in which Biblical passages appear within the\n",
            "text.    In  the  original  tract they appear in italic lettering; they\n",
            "appear here as indented paragraphs.\n",
            " \n",
            " \n",
            "I have read Mr. Camping's book, compared it with what the Bible actual-\n",
            "ly  says, find it to be the most credible research with respect to what\n",
            "the  future holds that I have ever come across, and agree with him that\n",
            "there  is just too much data to ignore.  While none of us is guaranteed\n",
            "one  more  second  of  life, and while we, therefore, should take these\n",
            "matters  very seriously regardless of when Christ will actually return,\n",
            "it  would appear that our natural tendency to postpone caring about our\n",
            "eternal  destiny  until we feel that our death is imminent is even more\n",
            "senseless  now  because,  in  all  likelihood, the law of averages with\n",
            "respect  to life expectancy no longer applies.  If you wish to obtain a\n",
            "copy  of  this book so that you can check out these facts for yourself,\n",
            "you may find the following information helpful:\n",
            " \n",
            "      title:       1994?\n",
            "      author:      Harold Camping\n",
            "      publisher:   Vantage Press\n",
            "      distributor: Baker and Taylor\n",
            "      ISBN:        0-533-10368-1\n",
            " \n",
            " \n",
            "I  have  chosen  to share this tract with you because I whole-heartedly\n",
            "agree with everything it declares and feel that now, perhaps more  than\n",
            "ever  before,  this information must be made known.  To paraphrase Acts\n",
            "20:27,  it  does not shun to declare unto us all the counsel of God.  I\n",
            "am  always  willing  to  discuss  the  eternal truths of the Bible with\n",
            "anyone who is interested as I believe them to be the only issues of any\n",
            "real  importance since we will spend, comparatively speaking, so little\n",
            "time  on this side of the grave and so much on the other.  Feel free to\n",
            "get in touch with me at any time:\n",
            " \n",
            "      e-mail: davem@bnr.ca\n",
            "      office: 1-613-765-4671\n",
            "      home:   1-613-726-0014\n"
          ]
        }
      ],
      "source": [
        "print('Document closest to Cluster 1:\\n', train.data[1126])"
      ]
    },
    {
      "cell_type": "markdown",
      "metadata": {
        "id": "pNjieLak7CuX"
      },
      "source": [
        "# DBScan"
      ]
    },
    {
      "cell_type": "code",
      "execution_count": null,
      "metadata": {
        "id": "3JGQLePqQgvs",
        "colab": {
          "base_uri": "https://localhost:8080/"
        },
        "outputId": "b15d4eb5-6fda-4e40-ab45-10a327dde705"
      },
      "outputs": [
        {
          "output_type": "stream",
          "name": "stdout",
          "text": [
            "Purity: 0.5 , 2 :: 0.40350877192982454\n",
            "Purity: 0.5 , 4 :: 0.30195681511470984\n",
            "Purity: 0.5 , 6 :: 0.26214574898785425\n",
            "Purity: 0.5 , 8 :: 0.24932523616734142\n",
            "Purity: 0.5 , 10 :: 0.2344804318488529\n",
            "Purity: 0.5 , 12 :: 0.2341430499325236\n",
            "Purity: 0.5 , 14 :: 0.2321187584345479\n",
            "Purity: 0.5 , 16 :: 0.22705802968960864\n",
            "Purity: 0.5 , 18 :: 0.22705802968960864\n",
            "Purity: 0.55 , 2 :: 0.46390013495276655\n",
            "Purity: 0.55 , 4 :: 0.354251012145749\n",
            "Purity: 0.55 , 6 :: 0.29790823211875844\n",
            "Purity: 0.55 , 8 :: 0.26855600539811064\n",
            "Purity: 0.55 , 10 :: 0.2506747638326586\n",
            "Purity: 0.55 , 12 :: 0.24527665317139002\n",
            "Purity: 0.55 , 14 :: 0.2408906882591093\n",
            "Purity: 0.55 , 16 :: 0.23515519568151147\n",
            "Purity: 0.55 , 18 :: 0.23515519568151147\n",
            "Purity: 0.6000000000000001 , 2 :: 0.5293522267206477\n",
            "Purity: 0.6000000000000001 , 4 :: 0.4247638326585695\n",
            "Purity: 0.6000000000000001 , 6 :: 0.3690958164642375\n",
            "Purity: 0.6000000000000001 , 8 :: 0.3181511470985155\n",
            "Purity: 0.6000000000000001 , 10 :: 0.28036437246963564\n",
            "Purity: 0.6000000000000001 , 12 :: 0.25877192982456143\n",
            "Purity: 0.6000000000000001 , 14 :: 0.2516869095816464\n",
            "Purity: 0.6000000000000001 , 16 :: 0.2516869095816464\n",
            "Purity: 0.6000000000000001 , 18 :: 0.24696356275303644\n",
            "Purity: 0.6500000000000001 , 2 :: 0.4183535762483131\n",
            "Purity: 0.6500000000000001 , 4 :: 0.4898785425101215\n",
            "Purity: 0.6500000000000001 , 6 :: 0.446693657219973\n",
            "Purity: 0.6500000000000001 , 8 :: 0.4139676113360324\n",
            "Purity: 0.6500000000000001 , 10 :: 0.3562753036437247\n",
            "Purity: 0.6500000000000001 , 12 :: 0.3083670715249663\n",
            "Purity: 0.6500000000000001 , 14 :: 0.28711201079622134\n",
            "Purity: 0.6500000000000001 , 16 :: 0.2759784075573549\n",
            "Purity: 0.6500000000000001 , 18 :: 0.26956815114709853\n",
            "Purity: 0.7000000000000002 , 2 :: 0.2921727395411606\n",
            "Purity: 0.7000000000000002 , 4 :: 0.26619433198380565\n",
            "Purity: 0.7000000000000002 , 6 :: 0.2941970310391363\n",
            "Purity: 0.7000000000000002 , 8 :: 0.3282726045883941\n",
            "Purity: 0.7000000000000002 , 10 :: 0.3815789473684211\n",
            "Purity: 0.7000000000000002 , 12 :: 0.45883940620782726\n",
            "Purity: 0.7000000000000002 , 14 :: 0.4001349527665317\n",
            "Purity: 0.7000000000000002 , 16 :: 0.3714574898785425\n",
            "Purity: 0.7000000000000002 , 18 :: 0.354251012145749\n",
            "Purity: 0.7500000000000002 , 2 :: 0.22941970310391363\n",
            "Purity: 0.7500000000000002 , 4 :: 0.2257085020242915\n",
            "Purity: 0.7500000000000002 , 6 :: 0.22941970310391363\n",
            "Purity: 0.7500000000000002 , 8 :: 0.2412280701754386\n",
            "Purity: 0.7500000000000002 , 10 :: 0.26855600539811064\n",
            "Purity: 0.7500000000000002 , 12 :: 0.2726045883940621\n",
            "Purity: 0.7500000000000002 , 14 :: 0.3282726045883941\n",
            "Purity: 0.7500000000000002 , 16 :: 0.3184885290148448\n",
            "Purity: 0.7500000000000002 , 18 :: 0.4483805668016194\n",
            "Purity: 0.8000000000000003 , 2 :: 0.2054655870445344\n",
            "Purity: 0.8000000000000003 , 4 :: 0.2054655870445344\n",
            "Purity: 0.8000000000000003 , 6 :: 0.20715249662618085\n",
            "Purity: 0.8000000000000003 , 8 :: 0.2101889338731444\n",
            "Purity: 0.8000000000000003 , 10 :: 0.21524966261808368\n",
            "Purity: 0.8000000000000003 , 12 :: 0.2216599190283401\n",
            "Purity: 0.8000000000000003 , 14 :: 0.22435897435897437\n",
            "Purity: 0.8000000000000003 , 16 :: 0.23110661268556004\n",
            "Purity: 0.8000000000000003 , 18 :: 0.23144399460188933\n",
            "Purity: 0.8500000000000003 , 2 :: 0.20647773279352227\n",
            "Purity: 0.8500000000000003 , 4 :: 0.20647773279352227\n",
            "Purity: 0.8500000000000003 , 6 :: 0.20647773279352227\n",
            "Purity: 0.8500000000000003 , 8 :: 0.20647773279352227\n",
            "Purity: 0.8500000000000003 , 10 :: 0.20647773279352227\n",
            "Purity: 0.8500000000000003 , 12 :: 0.20647773279352227\n",
            "Purity: 0.8500000000000003 , 14 :: 0.20647773279352227\n",
            "Purity: 0.8500000000000003 , 16 :: 0.20647773279352227\n",
            "Purity: 0.8500000000000003 , 18 :: 0.20647773279352227\n"
          ]
        }
      ],
      "source": [
        "features = TfidfVectorizer(ngram_range=(1,2), stop_words= 'english', lowercase=True, max_features=2000, max_df=0.9)\n",
        "train.vecs = features.fit_transform(train.data)\n",
        "eps_range = np.arange(0.5,0.9,0.05)\n",
        "max_purity = 0\n",
        "for i in range(len(eps_range)):\n",
        "    for j in range(2, 20, 2):\n",
        "        clusterer = sklearn.cluster.DBSCAN(eps=eps_range[i], min_samples=j, metric='cosine')\n",
        "        clusts = clusterer.fit_predict(train.vecs)\n",
        "        score = purity_score(clusts, train.target)\n",
        "        print('Purity:', eps_range[i], \",\", j, \"::\",  score)\n",
        "        if( score > max_purity):\n",
        "            opt_eps = eps_range[i]\n",
        "            opt_min_sample = j \n",
        "            max_purity = score\n",
        "\n"
      ]
    },
    {
      "cell_type": "code",
      "execution_count": null,
      "metadata": {
        "id": "XpVlBxSzobTc",
        "colab": {
          "base_uri": "https://localhost:8080/",
          "height": 394
        },
        "outputId": "587f4d87-725a-42bd-8f16-8b01640b335a"
      },
      "outputs": [
        {
          "output_type": "execute_result",
          "data": {
            "text/plain": [
              "(array([2869.,    0.,    0.,    0.,    0.,   73.,    0.,    0.,    0.,\n",
              "          22.]),\n",
              " array([-1. , -0.8, -0.6, -0.4, -0.2,  0. ,  0.2,  0.4,  0.6,  0.8,  1. ]),\n",
              " <a list of 10 Patch objects>)"
            ]
          },
          "metadata": {},
          "execution_count": 105
        },
        {
          "output_type": "display_data",
          "data": {
            "text/plain": [
              "<Figure size 1440x360 with 1 Axes>"
            ],
            "image/png": "[encoded data removed]"
          },
          "metadata": {
            "needs_background": "light"
          }
        }
      ],
      "source": [
        "opt_min_sample = 10\n",
        "opt_eps = 0.5\n",
        "\n",
        "clusterer = sklearn.cluster.DBSCAN(eps=opt_eps, min_samples=opt_min_sample, metric='cosine')\n",
        "clusts = clusterer.fit_predict(train.vecs)\n",
        "plt.hist(clusts)"
      ]
    },
    {
      "cell_type": "code",
      "execution_count": null,
      "metadata": {
        "id": "tckcaH5aobTc",
        "colab": {
          "base_uri": "https://localhost:8080/",
          "height": 341
        },
        "outputId": "fbb2b811-d86a-4fd3-b4dd-b1cb45ba8f7b"
      },
      "outputs": [
        {
          "output_type": "stream",
          "name": "stdout",
          "text": [
            "Purity: 0.2344804318488529\n"
          ]
        },
        {
          "output_type": "display_data",
          "data": {
            "text/plain": [
              "<Figure size 1440x360 with 1 Axes>"
            ],
            "image/png": "[encoded data removed]"
          },
          "metadata": {
            "needs_background": "light"
          }
        }
      ],
      "source": [
        "\n",
        "cluster_purity(clusts, train.target)\n",
        "print('Purity:', purity_score(clusts, train.target))"
      ]
    },
    {
      "cell_type": "code",
      "execution_count": null,
      "metadata": {
        "id": "IxktIiSSobTc",
        "colab": {
          "base_uri": "https://localhost:8080/"
        },
        "outputId": "0e88139a-c6fb-41e1-90c7-9166552caff6"
      },
      "outputs": [
        {
          "output_type": "execute_result",
          "data": {
            "text/plain": [
              "(0.5, 10)"
            ]
          },
          "metadata": {},
          "execution_count": 107
        }
      ],
      "source": [
        "opt_eps, opt_min_sample"
      ]
    },
    {
      "cell_type": "code",
      "execution_count": null,
      "metadata": {
        "id": "W8jgBhKroXXa",
        "scrolled": true,
        "colab": {
          "base_uri": "https://localhost:8080/",
          "height": 341
        },
        "outputId": "64f998f7-936f-487e-fa97-64bdada736eb"
      },
      "outputs": [
        {
          "output_type": "stream",
          "name": "stdout",
          "text": [
            "Purity: 0.2344804318488529\n"
          ]
        },
        {
          "output_type": "display_data",
          "data": {
            "text/plain": [
              "<Figure size 1440x360 with 1 Axes>"
            ],
            "image/png": "[encoded data removed]"
          },
          "metadata": {
            "needs_background": "light"
          }
        }
      ],
      "source": [
        "clusterer = sklearn.cluster.DBSCAN(eps=opt_eps, min_samples=opt_min_sample, metric='cosine')\n",
        "clusts = clusterer.fit_predict(train.vecs)\n",
        "plt.hist(clusts)\n",
        "\n",
        "cluster_purity(clusts, train.target)\n",
        "print('Purity:', purity_score(clusts, train.target))"
      ]
    },
    {
      "cell_type": "markdown",
      "metadata": {
        "id": "eLv2EeVy7GQR"
      },
      "source": [
        "# Agglomerative Clustering"
      ]
    },
    {
      "cell_type": "code",
      "execution_count": null,
      "metadata": {
        "id": "QomRPrvgmLAm"
      },
      "outputs": [],
      "source": [
        "num_points = 500\n",
        "data = train.data[:num_points]\n",
        "target= train.target[:num_points]\n",
        "features = TfidfVectorizer(ngram_range=(1,2), stop_words= 'english', lowercase=True, max_features=300)\n",
        "vecs = features.fit_transform(data)\n",
        "clusterer = sklearn.cluster.AgglomerativeClustering(affinity='euclidean', linkage=\"ward\")\n",
        "clusts = np.array(clusterer.fit_predict(vecs.toarray()))"
      ]
    },
    {
      "cell_type": "code",
      "execution_count": null,
      "metadata": {
        "id": "iSdpktrcnYec"
      },
      "outputs": [],
      "source": [
        "def clustering_from_tree(clusterer, i):\n",
        "  n_samples = clusterer.n_leaves_\n",
        "  nodes = clusterer.children_\n",
        "  pclusts = np.arange(n_samples)\n",
        "  def label_clust(nid, label):\n",
        "    if nid < n_samples:\n",
        "      pclusts[nid] = label\n",
        "    else:\n",
        "      lchild = nodes[nid-n_samples][0]\n",
        "      label_clust(lchild, label)\n",
        "      rchild = nodes[nid-n_samples][1]\n",
        "      label_clust(rchild, label)\n",
        "\n",
        "  #simulate the clustering\n",
        "  for j in range(i):\n",
        "    lchild = nodes[j][0]\n",
        "    label_clust(lchild, n_samples+j)\n",
        "    rchild = nodes[j][1]\n",
        "    label_clust(rchild, n_samples+j)\n",
        "  return pclusts\n",
        "\n"
      ]
    },
    {
      "cell_type": "code",
      "execution_count": null,
      "metadata": {
        "id": "IDg0fERTobTd",
        "colab": {
          "base_uri": "https://localhost:8080/",
          "height": 338
        },
        "outputId": "d9babf53-8025-4688-97d1-5fd9f8f24e53"
      },
      "outputs": [
        {
          "output_type": "stream",
          "name": "stdout",
          "text": [
            "Number of clusters 30\n"
          ]
        },
        {
          "output_type": "display_data",
          "data": {
            "text/plain": [
              "<Figure size 1440x360 with 1 Axes>"
            ],
            "image/png": "[encoded data removed]"
          },
          "metadata": {
            "needs_background": "light"
          }
        }
      ],
      "source": [
        "clusts = clustering_from_tree(clusterer, 20)\n",
        "plt.hist([str(c) for c in clusts])\n",
        "print(\"Number of clusters\", len(list(set(clusts))))"
      ]
    },
    {
      "cell_type": "code",
      "execution_count": null,
      "metadata": {
        "id": "tvHNMOrdnaBQ",
        "colab": {
          "base_uri": "https://localhost:8080/",
          "height": 342
        },
        "outputId": "97579989-4c25-41e5-9451-580eefb917d6"
      },
      "outputs": [
        {
          "output_type": "stream",
          "name": "stdout",
          "text": [
            "Purity: 0.82\n"
          ]
        },
        {
          "output_type": "display_data",
          "data": {
            "text/plain": [
              "<Figure size 1440x360 with 1 Axes>"
            ],
            "image/png": "[encoded data removed]"
          },
          "metadata": {
            "needs_background": "light"
          }
        }
      ],
      "source": [
        "cluster_purity(clusts, target)\n",
        "print('Purity:', purity_score(clusts, target))"
      ]
    },
    {
      "cell_type": "code",
      "execution_count": null,
      "metadata": {
        "id": "RLuXnGWQobTe"
      },
      "outputs": [],
      "source": [
        "clusts = clustering_from_tree(clusterer, 480)\n",
        "plt.hist([str(c) for c in clusts])\n",
        "print(\"Number of clusters\", len(list(set(clusts))))"
      ]
    },
    {
      "cell_type": "code",
      "execution_count": null,
      "metadata": {
        "id": "jntxD-qEobTe"
      },
      "outputs": [],
      "source": [
        "cluster_purity(clusts, target)\n",
        "print('Purity:', purity_score(clusts, target))"
      ]
    },
    {
      "cell_type": "code",
      "execution_count": null,
      "metadata": {
        "id": "DiBUrsLdpIKM",
        "colab": {
          "base_uri": "https://localhost:8080/",
          "height": 352
        },
        "outputId": "c2211d19-95eb-4674-980b-2493de8485fe"
      },
      "outputs": [
        {
          "output_type": "execute_result",
          "data": {
            "text/plain": [
              "Text(0, 0.5, 'Purity')"
            ]
          },
          "metadata": {},
          "execution_count": 120
        },
        {
          "output_type": "display_data",
          "data": {
            "text/plain": [
              "<Figure size 1440x360 with 1 Axes>"
            ],
            "image/png": "[encoded data removed]"
          },
          "metadata": {
            "needs_background": "light"
          }
        }
      ],
      "source": [
        "from matplotlib.ticker import (MultipleLocator, AutoMinorLocator)\n",
        "\n",
        "numcs = []\n",
        "purities = []\n",
        "for i in range(num_points):\n",
        "  clusts = clustering_from_tree(clusterer, i)\n",
        "  numc = len(list(set(clusts)))\n",
        "  numcs.append(numc)\n",
        "  purities.append(purity_score(clusts, target))\n",
        "    \n",
        "fig, ax = plt.subplots()\n",
        "ax.plot(range(num_points), purities)\n",
        "\n",
        "# For the minor ticks, use no labels; default NullFormatter.\n",
        "ax.xaxis.set_minor_locator(MultipleLocator(5))\n",
        "ax.yaxis.set_minor_locator(MultipleLocator(5))\n",
        "ax.set_xlabel('500-Num Clusters')\n",
        "ax.set_ylabel('Purity')"
      ]
    },
    {
      "cell_type": "code",
      "execution_count": null,
      "metadata": {
        "id": "woAe2Z3WobTe"
      },
      "outputs": [],
      "source": [
        "import scipy.cluster.hierarchy as sch"
      ]
    },
    {
      "cell_type": "code",
      "execution_count": null,
      "metadata": {
        "id": "oikVCVyPobTe",
        "colab": {
          "base_uri": "https://localhost:8080/"
        },
        "outputId": "230591dc-ab77-4bc6-e2dd-20fb8494cc2d"
      },
      "outputs": [
        {
          "output_type": "stream",
          "name": "stdout",
          "text": [
            "[0 0 1 0 0 1 0 0 0 0 0 0 0 0 1 0 0 0 0 0 1 0 0 0 0 0 0 0 0 0 0 0 0 0 0 0 0\n",
            " 0 0 0 0 0 0 0 0 0 0 0 0 0]\n"
          ]
        }
      ],
      "source": [
        "print(clusterer.fit_predict(vecs.toarray()))"
      ]
    },
    {
      "cell_type": "code",
      "execution_count": null,
      "metadata": {
        "id": "7MKmVWR-obTf",
        "colab": {
          "base_uri": "https://localhost:8080/",
          "height": 320
        },
        "outputId": "475453ca-f006-4beb-8054-a09b0ae60cfd"
      },
      "outputs": [
        {
          "output_type": "display_data",
          "data": {
            "text/plain": [
              "<Figure size 504x360 with 1 Axes>"
            ],
            "image/png": "[encoded data removed]"
          },
          "metadata": {
            "needs_background": "light"
          }
        }
      ],
      "source": [
        "plt.figure(figsize=(7,5))\n",
        "dend = sch.dendrogram(sch.linkage(vecs.toarray(), method='ward'))\n",
        "plt.show()"
      ]
    },
    {
      "cell_type": "code",
      "execution_count": null,
      "metadata": {
        "id": "smD-ZQWMobTf"
      },
      "outputs": [],
      "source": []
    }
  ],
  "metadata": {
    "colab": {
      "provenance": []
    },
    "kernelspec": {
      "display_name": "Python 3",
      "language": "python",
      "name": "python3"
    },
    "language_info": {
      "codemirror_mode": {
        "name": "ipython",
        "version": 3
      },
      "file_extension": ".py",
      "mimetype": "text/x-python",
      "name": "python",
      "nbconvert_exporter": "python",
      "pygments_lexer": "ipython3",
      "version": "3.7.1"
    }
  },
  "nbformat": 4,
  "nbformat_minor": 0
}