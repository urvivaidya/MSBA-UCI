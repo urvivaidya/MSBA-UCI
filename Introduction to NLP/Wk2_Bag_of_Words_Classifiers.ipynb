{
 "cells": [
  {
   "cell_type": "markdown",
   "metadata": {
    "id": "wmpodQkfokCX"
   },
   "source": [
    "## Import packages\n",
    "Make sure you installed ***sklearn***, ***matplotlib*** and ***numpy*** if you use your local machine"
   ]
  },
  {
   "cell_type": "code",
   "execution_count": null,
   "metadata": {
    "id": "gxD_3fs1tX_E"
   },
   "outputs": [],
   "source": [
    "import matplotlib.pyplot as plt\n",
    "import numpy as np\n",
    "import sklearn\n",
    "from sklearn import datasets\n",
    "from sklearn.ensemble import RandomForestClassifier\n",
    "from sklearn.feature_extraction.text import CountVectorizer\n",
    "from sklearn.linear_model import LogisticRegression\n",
    "from sklearn.metrics import confusion_matrix, precision_score, precision_recall_curve, recall_score, f1_score\n",
    "from sklearn.naive_bayes import MultinomialNB\n",
    "from sklearn.svm import SVC"
   ]
  },
  {
   "cell_type": "markdown",
   "metadata": {
    "id": "U0vF7uNdox7d"
   },
   "source": [
    "## Prepare dataset\n",
    "The 20 newsgroups text dataset: [Details](http://scikit-learn.org/stable/datasets/twenty_newsgroups.html)"
   ]
  },
  {
   "cell_type": "code",
   "execution_count": null,
   "metadata": {
    "id": "CPSdjUHDoSnf"
   },
   "outputs": [],
   "source": [
    "dataset = sklearn.datasets.fetch_20newsgroups()"
   ]
  },
  {
   "cell_type": "markdown",
   "metadata": {
    "id": "vjcfft1TrVn-"
   },
   "source": [
    "### See some examples and classes"
   ]
  },
  {
   "cell_type": "code",
   "execution_count": null,
   "metadata": {
    "colab": {
     "base_uri": "https://localhost:8080/"
    },
    "id": "kdAbjYQH_IvG",
    "outputId": "342edc39-611d-4f27-817f-5cfe5b24b73d"
   },
   "outputs": [
    {
     "name": "stdout",
     "output_type": "stream",
     "text": [
      "From: lerxst@wam.umd.edu (where's my thing)\n",
      "Subject: WHAT car is this!?\n",
      "Nntp-Posting-Host: rac3.wam.umd.edu\n",
      "Organization: University of Maryland, College Park\n",
      "Lines: 15\n",
      "\n",
      " I was wondering if anyone out there could enlighten me on this car I saw\n",
      "the other day. It was a 2-door sports car, looked to be from the late 60s/\n",
      "early 70s. It was called a Bricklin. The doors were really small. In addition,\n",
      "the front bumper was separate from the rest of the body. This is \n",
      "all I know. If anyone can tellme a model name, engine specs, years\n",
      "of production, where this car is made, history, or whatever info you\n",
      "have on this funky looking car, please e-mail.\n",
      "\n",
      "Thanks,\n",
      "- IL\n",
      "   ---- brought to you by your neighborhood Lerxst ----\n",
      "\n",
      "\n",
      "\n",
      "\n",
      "\n",
      "From: guykuo@carson.u.washington.edu (Guy Kuo)\n",
      "Subject: SI Clock Poll - Final Call\n",
      "Summary: Final call for SI clock reports\n",
      "Keywords: SI,acceleration,clock,upgrade\n",
      "Article-I.D.: shelley.1qvfo9INNc3s\n",
      "Organization: University of Washington\n",
      "Lines: 11\n",
      "NNTP-Posting-Host: carson.u.washington.edu\n",
      "\n",
      "A fair number of brave souls who upgraded their SI clock oscillator have\n",
      "shared their experiences for this poll. Please send a brief message detailing\n",
      "your experiences with the procedure. Top speed attained, CPU rated speed,\n",
      "add on cards and adapters, heat sinks, hour of usage per day, floppy disk\n",
      "functionality with 800 and 1.4 m floppies are especially requested.\n",
      "\n",
      "I will be summarizing in the next two days, so please add to the network\n",
      "knowledge base if you have done the clock upgrade and haven't answered this\n",
      "poll. Thanks.\n",
      "\n",
      "Guy Kuo <guykuo@u.washington.edu>\n",
      "\n",
      "From: jgreen@amber (Joe Green)\n",
      "Subject: Re: Weitek P9000 ?\n",
      "Organization: Harris Computer Systems Division\n",
      "Lines: 14\n",
      "Distribution: world\n",
      "NNTP-Posting-Host: amber.ssd.csd.harris.com\n",
      "X-Newsreader: TIN [version 1.1 PL9]\n",
      "\n",
      "Robert J.C. Kyanko (rob@rjck.UUCP) wrote:\n",
      "> abraxis@iastate.edu writes in article <abraxis.734340159@class1.iastate.edu>:\n",
      "> > Anyone know about the Weitek P9000 graphics chip?\n",
      "> As far as the low-level stuff goes, it looks pretty nice.  It's got this\n",
      "> quadrilateral fill command that requires just the four points.\n",
      "\n",
      "Do you have Weitek's address/phone number?  I'd like to get some information\n",
      "about this chip.\n",
      "\n",
      "--\n",
      "Joe Green\t\t\t\tHarris Corporation\n",
      "jgreen@csd.harris.com\t\t\tComputer Systems Division\n",
      "\"The only thing that really scares me is a person with no sense of humor.\"\n",
      "\t\t\t\t\t\t-- Jonathan Winters\n",
      "\n"
     ]
    }
   ],
   "source": [
    "print(dataset.data[0])\n",
    "print(dataset.data[1])\n",
    "print(dataset.data[3])"
   ]
  },
  {
   "cell_type": "code",
   "execution_count": null,
   "metadata": {
    "colab": {
     "base_uri": "https://localhost:8080/"
    },
    "id": "fAksBXutsDbA",
    "outputId": "6e283121-cdad-4173-e77e-b839360ca36d"
   },
   "outputs": [
    {
     "data": {
      "text/plain": [
       "['alt.atheism',\n",
       " 'comp.graphics',\n",
       " 'comp.os.ms-windows.misc',\n",
       " 'comp.sys.ibm.pc.hardware',\n",
       " 'comp.sys.mac.hardware',\n",
       " 'comp.windows.x',\n",
       " 'misc.forsale',\n",
       " 'rec.autos',\n",
       " 'rec.motorcycles',\n",
       " 'rec.sport.baseball',\n",
       " 'rec.sport.hockey',\n",
       " 'sci.crypt',\n",
       " 'sci.electronics',\n",
       " 'sci.med',\n",
       " 'sci.space',\n",
       " 'soc.religion.christian',\n",
       " 'talk.politics.guns',\n",
       " 'talk.politics.mideast',\n",
       " 'talk.politics.misc',\n",
       " 'talk.religion.misc']"
      ]
     },
     "execution_count": 4,
     "metadata": {},
     "output_type": "execute_result"
    }
   ],
   "source": [
    "dataset.target_names"
   ]
  },
  {
   "cell_type": "markdown",
   "metadata": {
    "id": "Ozf7I_JxabrV"
   },
   "source": [
    "## Count Vectorizer\n",
    "Convert a list of text documents to a matrix of token (word) frequencies ([Details](http://scikit-learn.org/stable/modules/generated/sklearn.feature_extraction.text.CountVectorizer.html))\n",
    "\n",
    "Example"
   ]
  },
  {
   "cell_type": "code",
   "execution_count": null,
   "metadata": {
    "id": "W_SVr6Px_IvI"
   },
   "outputs": [],
   "source": [
    "example_docs=[\n",
    "       \"One Cent, Two Cents, Old Cent, New Cent: All About Money (Cat in the Hat's Learning Library\",\n",
    "       \"Inside Your Outside: All About the Human Body (Cat in the Hat's Learning Library)\",\n",
    "       \"Oh, The Things You Can Do That Are Good for You: All About Staying Healthy (Cat in the Hat's Learning Library)\",\n",
    "       \"On Beyond Bugs: All About Insects (Cat in the Hat's Learning Library)\",\n",
    "       \"There's No Place Like Space: All About Our Solar System (Cat in the Hat's Learning Library)\" \n",
    "      ]"
   ]
  },
  {
   "cell_type": "code",
   "execution_count": null,
   "metadata": {
    "colab": {
     "base_uri": "https://localhost:8080/"
    },
    "id": "8pvZbkR3_IvJ",
    "outputId": "90a2157a-8175-4640-df59-e1af66325625"
   },
   "outputs": [
    {
     "data": {
      "text/plain": [
       "CountVectorizer()"
      ]
     },
     "execution_count": 6,
     "metadata": {},
     "output_type": "execute_result"
    }
   ],
   "source": [
    "#Create the transform\n",
    "vectorizer = CountVectorizer()\n",
    "\n",
    "#Tokenize and build vocab\n",
    "vectorizer.fit(example_docs)"
   ]
  },
  {
   "cell_type": "code",
   "execution_count": null,
   "metadata": {
    "colab": {
     "base_uri": "https://localhost:8080/"
    },
    "id": "WH4CO41d_IvJ",
    "outputId": "cff62f8f-0a58-45fe-ace4-d27cede4d027"
   },
   "outputs": [
    {
     "name": "stdout",
     "output_type": "stream",
     "text": [
      "{'one': 28, 'cent': 8, 'two': 40, 'cents': 9, 'old': 26, 'new': 23, 'all': 1, 'about': 0, 'money': 22, 'cat': 7, 'in': 16, 'the': 37, 'hat': 13, 'learning': 19, 'library': 20, 'inside': 18, 'your': 42, 'outside': 30, 'human': 15, 'body': 4, 'oh': 25, 'things': 39, 'you': 41, 'can': 6, 'do': 10, 'that': 36, 'are': 2, 'good': 12, 'for': 11, 'staying': 34, 'healthy': 14, 'on': 27, 'beyond': 3, 'bugs': 5, 'insects': 17, 'there': 38, 'no': 24, 'place': 31, 'like': 21, 'space': 33, 'our': 29, 'solar': 32, 'system': 35}\n"
     ]
    }
   ],
   "source": [
    "#Summarize\n",
    "print(vectorizer.vocabulary_)"
   ]
  },
  {
   "cell_type": "code",
   "execution_count": null,
   "metadata": {
    "id": "a1MWnlg5_IvK"
   },
   "outputs": [],
   "source": [
    "### Create vector representation of documents"
   ]
  },
  {
   "cell_type": "code",
   "execution_count": null,
   "metadata": {
    "colab": {
     "base_uri": "https://localhost:8080/"
    },
    "id": "gwbnkWRh_IvK",
    "outputId": "a5e8df14-a1e8-410a-e539-d75b0943ea23",
    "scrolled": true
   },
   "outputs": [
    {
     "name": "stdout",
     "output_type": "stream",
     "text": [
      "[[1 1 0 0 0 0 0 1 3 1 0 0 0 1 0 0 1 0 0 1 1 0 1 1 0 0 1 0 1 0 0 0 0 0 0 0\n",
      "  0 1 0 0 1 0 0]\n",
      " [1 1 0 0 1 0 0 1 0 0 0 0 0 1 0 1 1 0 1 1 1 0 0 0 0 0 0 0 0 0 1 0 0 0 0 0\n",
      "  0 2 0 0 0 0 1]\n",
      " [1 1 1 0 0 0 1 1 0 0 1 1 1 1 1 0 1 0 0 1 1 0 0 0 0 1 0 0 0 0 0 0 0 0 1 0\n",
      "  1 2 0 1 0 2 0]\n",
      " [1 1 0 1 0 1 0 1 0 0 0 0 0 1 0 0 1 1 0 1 1 0 0 0 0 0 0 1 0 0 0 0 0 0 0 0\n",
      "  0 1 0 0 0 0 0]\n",
      " [1 1 0 0 0 0 0 1 0 0 0 0 0 1 0 0 1 0 0 1 1 1 0 0 1 0 0 0 0 1 0 1 1 1 0 1\n",
      "  0 1 1 0 0 0 0]]\n"
     ]
    }
   ],
   "source": [
    "X = vectorizer.transform(example_docs)\n",
    "print(X.toarray())"
   ]
  },
  {
   "cell_type": "code",
   "execution_count": null,
   "metadata": {
    "id": "My4YLgjQ_IvK"
   },
   "outputs": [],
   "source": [
    "## Plot Histogram"
   ]
  },
  {
   "cell_type": "code",
   "execution_count": null,
   "metadata": {
    "colab": {
     "base_uri": "https://localhost:8080/",
     "height": 279
    },
    "id": "GVQY6rN3_IvL",
    "outputId": "6903193e-2521-4dad-958d-4e434432dba7"
   },
   "outputs": [
    {
     "data": {
      "image/png": "[encoded data removed]",
      "text/plain": [
       "<Figure size 432x288 with 1 Axes>"
      ]
     },
     "metadata": {
      "needs_background": "light"
     },
     "output_type": "display_data"
    }
   ],
   "source": [
    "sum_mat = np.sum(X, axis=0)\n",
    "freqs = np.sort(sum_mat).T[::-1]\n",
    "plt.plot(list(range(1, sum_mat.shape[1] + 1)), freqs)\n",
    "plt.xlabel('Rank')\n",
    "plt.ylabel('Frequency')\n",
    "plt.show()"
   ]
  },
  {
   "cell_type": "code",
   "execution_count": null,
   "metadata": {
    "colab": {
     "base_uri": "https://localhost:8080/",
     "height": 283
    },
    "id": "g3rDm2P8_IvL",
    "outputId": "3c12225f-bb3c-4054-8915-c49ae0ca0fc7"
   },
   "outputs": [
    {
     "data": {
      "image/png": "[encoded data removed]",
      "text/plain": [
       "<Figure size 432x288 with 1 Axes>"
      ]
     },
     "metadata": {
      "needs_background": "light"
     },
     "output_type": "display_data"
    }
   ],
   "source": [
    "plt.loglog(list(range(1, sum_mat.shape[1] + 1)), freqs)\n",
    "plt.xlabel('Rank')\n",
    "plt.ylabel('Frequency')\n",
    "plt.show()"
   ]
  },
  {
   "cell_type": "markdown",
   "metadata": {
    "id": "HgUadu4Y_IvM"
   },
   "source": [
    "## Count Vectorizer\n",
    "- load a scikit-learn dataset (20 newsgroups)\n",
    "- run count vectorizer on it\n",
    "- plot histograms of counts etc.\n",
    "- vary the parameters of Cvectorizer, show how histograms change"
   ]
  },
  {
   "cell_type": "markdown",
   "metadata": {
    "id": "OFJVuvK5rNGl"
   },
   "source": [
    "### Split into train and test datasets\n",
    "Here, 70% of the original data are used for training models, and the rest are for test"
   ]
  },
  {
   "cell_type": "code",
   "execution_count": null,
   "metadata": {
    "id": "VRawyKlArLYF"
   },
   "outputs": [],
   "source": [
    "class Dataset:\n",
    "  def __init__(self, dataset, start_idx, end_idx):\n",
    "    self.data = dataset.data[start_idx:end_idx]\n",
    "    self.labels = dataset.target[start_idx:end_idx]\n",
    "    self.vecs = None\n",
    "\n",
    "    \n",
    "def split_dataset(dataset, train_rate=0.7):\n",
    "  data_size = len(dataset.data)\n",
    "  train_last_idx = int(train_rate * data_size)\n",
    "  train = Dataset(dataset, 0, train_last_idx)\n",
    "  test = Dataset(dataset, train_last_idx, data_size)\n",
    "  return train, test"
   ]
  },
  {
   "cell_type": "code",
   "execution_count": null,
   "metadata": {
    "colab": {
     "base_uri": "https://localhost:8080/"
    },
    "id": "QMUKgxbyvQOB",
    "outputId": "c49e85f6-3fff-4693-c22e-637d3048eb7d"
   },
   "outputs": [
    {
     "name": "stdout",
     "output_type": "stream",
     "text": [
      "train data size: 7919\n",
      "test data size: 3395\n"
     ]
    }
   ],
   "source": [
    "train, test = split_dataset(dataset)\n",
    "print('train data size:', len(train.data))\n",
    "print('test data size:', len(test.data))"
   ]
  },
  {
   "cell_type": "markdown",
   "metadata": {
    "id": "6KKlKxec_IvN"
   },
   "source": [
    "### Create the vector representation of training and testing data"
   ]
  },
  {
   "cell_type": "code",
   "execution_count": null,
   "metadata": {
    "id": "BHGi7l_g_IvN"
   },
   "outputs": [],
   "source": [
    "#Encode documents\n",
    "vectorizer = CountVectorizer(max_features=2500, max_df=0.8, min_df=30)\n",
    "vectorizer.fit(train.data)\n",
    "train.vecs = vectorizer.transform(train.data)\n",
    "test.vecs = vectorizer.transform(test.data)"
   ]
  },
  {
   "cell_type": "code",
   "execution_count": null,
   "metadata": {
    "id": "zL2bB4whJjvW"
   },
   "outputs": [],
   "source": []
  },
  {
   "cell_type": "markdown",
   "metadata": {
    "id": "0l2P7B7HxFgm"
   },
   "source": [
    "### Convert word to index and vice versa"
   ]
  },
  {
   "cell_type": "code",
   "execution_count": null,
   "metadata": {
    "id": "Jti4MuGTxEQa"
   },
   "outputs": [],
   "source": [
    "def word2idx(word, vocab_dict):\n",
    "  index = vocab_dict[word] if word in vocab_dict.keys() else 'Not Found'\n",
    "  print(word, ' -> ', index)\n",
    "\n",
    "\n",
    "def idx2word(index, vocabs):\n",
    "  word = vocabs[index] if 0 <= index < len(vocabs) else 'Not Found'\n",
    "  print(index, ' -> ', word)"
   ]
  },
  {
   "cell_type": "code",
   "execution_count": null,
   "metadata": {
    "colab": {
     "base_uri": "https://localhost:8080/"
    },
    "id": "K1qiwx8xyslo",
    "outputId": "6c84653d-4852-42f9-fc8a-0107e5b337eb"
   },
   "outputs": [
    {
     "name": "stdout",
     "output_type": "stream",
     "text": [
      "display  ->  581\n",
      "4926  ->  Not Found\n",
      "google  ->  Not Found\n",
      "1  ->  000\n"
     ]
    },
    {
     "name": "stderr",
     "output_type": "stream",
     "text": [
      "/usr/local/lib/python3.8/dist-packages/sklearn/utils/deprecation.py:87: FutureWarning: Function get_feature_names is deprecated; get_feature_names is deprecated in 1.0 and will be removed in 1.2. Please use get_feature_names_out instead.\n",
      "  warnings.warn(msg, category=FutureWarning)\n"
     ]
    }
   ],
   "source": [
    "vocab_dict = vectorizer.vocabulary_\n",
    "vocabs = vectorizer.get_feature_names()\n",
    "\n",
    "word2idx('display', vocab_dict)\n",
    "idx2word(4926, vocabs)\n",
    "\n",
    "word2idx('google', vocab_dict)\n",
    "idx2word(1, vocabs)"
   ]
  },
  {
   "cell_type": "markdown",
   "metadata": {
    "id": "L8Ga3BoD4Xs6"
   },
   "source": [
    "### See vocaburary size"
   ]
  },
  {
   "cell_type": "code",
   "execution_count": null,
   "metadata": {
    "colab": {
     "base_uri": "https://localhost:8080/"
    },
    "id": "GZgwRHrS4juy",
    "outputId": "c71c71ea-df48-4a0c-c7b0-137fa115fc64"
   },
   "outputs": [
    {
     "name": "stdout",
     "output_type": "stream",
     "text": [
      "Vocaburary Size: 2000\n"
     ]
    }
   ],
   "source": [
    "print('Vocaburary Size:', len(vocab_dict))"
   ]
  },
  {
   "cell_type": "code",
   "execution_count": null,
   "metadata": {
    "id": "6uWu-D1R6Dqo"
   },
   "outputs": [],
   "source": [
    "def sentence2vec(sentence, vectorizer):\n",
    "  vec = vectorizer.transform([sentence])\n",
    "  vocabs = vectorizer.get_feature_names()\n",
    "  print('\\\"', sentence, '\\\" -> ')\n",
    "  print(vec)\n",
    "  for idx in vec.indices:\n",
    "    print(idx, vocabs[idx])"
   ]
  },
  {
   "cell_type": "code",
   "execution_count": null,
   "metadata": {
    "id": "QSIk1mvnF03p"
   },
   "outputs": [],
   "source": []
  },
  {
   "cell_type": "code",
   "execution_count": null,
   "metadata": {
    "colab": {
     "base_uri": "https://localhost:8080/"
    },
    "id": "60kP-8IP7uzA",
    "outputId": "5553c4e2-7eec-4030-8286-4a83ef134801"
   },
   "outputs": [
    {
     "name": "stdout",
     "output_type": "stream",
     "text": [
      "\" A fair fair number of brave \" -> \n",
      "  (0, 697)\t2\n",
      "  (0, 1252)\t1\n",
      "697 fair\n",
      "1252 number\n"
     ]
    }
   ],
   "source": [
    "sentence2vec('A fair fair number of brave', vectorizer)"
   ]
  },
  {
   "cell_type": "code",
   "execution_count": null,
   "metadata": {
    "colab": {
     "base_uri": "https://localhost:8080/"
    },
    "id": "gCEhKvGI_IvP",
    "outputId": "00a18e68-21b1-4d5f-c91b-707efcd3cab2"
   },
   "outputs": [
    {
     "name": "stdout",
     "output_type": "stream",
     "text": [
      "anteaters  ->  Not Found\n"
     ]
    }
   ],
   "source": [
    "word2idx('anteaters', vocab_dict)"
   ]
  },
  {
   "cell_type": "code",
   "execution_count": null,
   "metadata": {
    "colab": {
     "base_uri": "https://localhost:8080/",
     "height": 279
    },
    "id": "ChzQiXuseWwn",
    "outputId": "02962419-8e42-489d-98f2-f9a6868c2cd9"
   },
   "outputs": [
    {
     "data": {
      "image/png": "[encoded data removed]",
      "text/plain": [
       "<Figure size 432x288 with 1 Axes>"
      ]
     },
     "metadata": {
      "needs_background": "light"
     },
     "output_type": "display_data"
    }
   ],
   "source": [
    "sum_mat = np.sum(train.vecs, axis=0)\n",
    "freqs = np.sort(sum_mat).T[::-1]\n",
    "plt.plot(list(range(1, sum_mat.shape[1] + 1)), freqs)\n",
    "plt.xlabel('Rank')\n",
    "plt.ylabel('Frequency')\n",
    "plt.show()"
   ]
  },
  {
   "cell_type": "code",
   "execution_count": null,
   "metadata": {
    "colab": {
     "base_uri": "https://localhost:8080/",
     "height": 283
    },
    "id": "ep96T2k688q6",
    "outputId": "64141864-11f9-411d-9f9e-09c1d64a62df"
   },
   "outputs": [
    {
     "data": {
      "image/png": "[encoded data removed]",
      "text/plain": [
       "<Figure size 432x288 with 1 Axes>"
      ]
     },
     "metadata": {
      "needs_background": "light"
     },
     "output_type": "display_data"
    }
   ],
   "source": [
    "plt.loglog(list(range(1, sum_mat.shape[1] + 1)), freqs)\n",
    "plt.xlabel('Rank')\n",
    "plt.ylabel('Frequency')\n",
    "plt.show()"
   ]
  },
  {
   "cell_type": "markdown",
   "metadata": {
    "id": "YY6gRBCTWq-4"
   },
   "source": [
    "### Play with Vectorizer parameters\n",
    "Back to CountVectorizer() to try other values for the parameters.\n",
    "\n"
   ]
  },
  {
   "cell_type": "markdown",
   "metadata": {
    "id": "I6eoVMSoat33"
   },
   "source": [
    "## Classification\n",
    "\n",
    "- train and predict on train+test data\n",
    "- compute different metrics (train and test)\n",
    "- contigency table\n",
    "- compute PR curve\n",
    "- change parameters of CVectorizer, see how metrics/curves change\n",
    "- change parameters of classifier (like regularization), see how metrics/curves change.. like overfitting"
   ]
  },
  {
   "cell_type": "code",
   "execution_count": null,
   "metadata": {
    "id": "KlT8JNM2SJbm"
   },
   "outputs": [],
   "source": [
    "def evaluate(preds, labels, print_details=True):\n",
    "  f1 = f1_score(labels, preds, average='micro')\n",
    "  if print_details:\n",
    "    print('Precision:', precision_score(labels, preds, average=None))  #Computes precision\n",
    "    print('Recall:', recall_score(labels, preds, average=None))        #Computes recall\n",
    "    print('F1 score:', f1_score(labels, preds, average=None))          #Computes f1_score\n",
    "  print('Avg. F1 score:', f1)\n",
    "  \n",
    "  \n",
    "def plot_confusion_matrix(preds, labels, class_size):\n",
    "  cnf_mat = confusion_matrix(labels, preds)                            #Computes confusion_matrix\n",
    "  cnf_mat = cnf_mat.astype('float') / cnf_mat.sum(axis=1)[:, np.newaxis]\n",
    "  plt.imshow(cnf_mat, interpolation='nearest', cmap=plt.cm.Blues)\n",
    "  plt.xticks(np.arange(class_size), np.arange(1, class_size + 1))\n",
    "  plt.yticks(np.arange(class_size), np.arange(1, class_size + 1))\n",
    "  plt.xlabel('True Label')\n",
    "  plt.ylabel('Predicted Label')\n",
    "  plt.title('Confusion Matrix')\n",
    "  plt.colorbar()\n",
    "  plt.show()\n",
    "  \n",
    "  \n",
    "def plot_pr_curves(probs, labels, class_size):\n",
    "  for i in range(class_size):\n",
    "    p,r,threshs = precision_recall_curve(labels==i, probs[:,i])\n",
    "    plt.plot(r, p, label=dataset.target_names[i])\n",
    "  plt.show()"
   ]
  },
  {
   "cell_type": "code",
   "execution_count": null,
   "metadata": {
    "id": "XltpsSpTBZ9I"
   },
   "outputs": [],
   "source": [
    "def training(model, train, class_size, print_details=True):\n",
    "  model.fit(train.vecs, train.labels)\n",
    "  train_preds = model.predict(train.vecs)\n",
    "  if print_details:\n",
    "    dev_probs = model.predict_proba(train.vecs)\n",
    "    plot_pr_curves(dev_probs, train.labels, class_size)\n",
    "  evaluate(train_preds, train.labels, print_details)\n",
    "  \n",
    "\n",
    "def testing(model, test, class_size, print_details=True):\n",
    "  test_preds = model.predict(test.vecs)\n",
    "  if print_details:\n",
    "    test_probs = model.predict_proba(test.vecs)\n",
    "    plot_pr_curves(test_probs, test.labels, class_size)\n",
    "  evaluate(test_preds, test.labels, print_details)\n",
    "  plot_confusion_matrix(test_preds, test.labels, class_size)"
   ]
  },
  {
   "cell_type": "code",
   "execution_count": null,
   "metadata": {
    "id": "AGgVCITKJXxw"
   },
   "outputs": [],
   "source": [
    "vectorizer = CountVectorizer(max_features=2500, max_df=0.8, min_df=20, stop_words = 'english')\n",
    "vectorizer.fit(train.data)\n",
    "train.vecs = vectorizer.transform(train.data)\n",
    "test.vecs = vectorizer.transform(test.data)"
   ]
  },
  {
   "cell_type": "code",
   "execution_count": null,
   "metadata": {
    "id": "UdsHDG6bJYxS"
   },
   "outputs": [],
   "source": []
  },
  {
   "cell_type": "code",
   "execution_count": null,
   "metadata": {
    "id": "YRz3QsP9JZlf"
   },
   "outputs": [],
   "source": []
  },
  {
   "cell_type": "markdown",
   "metadata": {
    "id": "BQmgdRHPrxaE"
   },
   "source": [
    "### Logistic Regression"
   ]
  },
  {
   "cell_type": "code",
   "execution_count": null,
   "metadata": {
    "colab": {
     "base_uri": "https://localhost:8080/"
    },
    "id": "xsmCUA56bZRB",
    "outputId": "f0e73b26-9a9c-4abc-f65b-d94346ba3459"
   },
   "outputs": [
    {
     "name": "stdout",
     "output_type": "stream",
     "text": [
      "Avg. F1 score: 0.9834575072610178\n"
     ]
    },
    {
     "name": "stderr",
     "output_type": "stream",
     "text": [
      "/usr/local/lib/python3.8/dist-packages/sklearn/linear_model/_logistic.py:814: ConvergenceWarning: lbfgs failed to converge (status=1):\n",
      "STOP: TOTAL NO. of ITERATIONS REACHED LIMIT.\n",
      "\n",
      "Increase the number of iterations (max_iter) or scale the data as shown in:\n",
      "    https://scikit-learn.org/stable/modules/preprocessing.html\n",
      "Please also refer to the documentation for alternative solver options:\n",
      "    https://scikit-learn.org/stable/modules/linear_model.html#logistic-regression\n",
      "  n_iter_i = _check_optimize_result(\n"
     ]
    }
   ],
   "source": [
    "model = LogisticRegression(C=0.1)\n",
    "training(model, train, len(dataset.target_names), print_details=False)"
   ]
  },
  {
   "cell_type": "code",
   "execution_count": null,
   "metadata": {
    "colab": {
     "base_uri": "https://localhost:8080/",
     "height": 777
    },
    "id": "yerp0mfBTiLc",
    "outputId": "b7958bbf-d1a3-49ce-9d44-912a85115983"
   },
   "outputs": [
    {
     "data": {
      "image/png": "[encoded data removed]",
      "text/plain": [
       "<Figure size 432x288 with 1 Axes>"
      ]
     },
     "metadata": {
      "needs_background": "light"
     },
     "output_type": "display_data"
    },
    {
     "name": "stdout",
     "output_type": "stream",
     "text": [
      "Precision: [0.86842105 0.75449102 0.7752809  0.72839506 0.76646707 0.76331361\n",
      " 0.75634518 0.84042553 0.85798817 0.80446927 0.90163934 0.93220339\n",
      " 0.71891892 0.84393064 0.93582888 0.80769231 0.90123457 0.92857143\n",
      " 0.8880597  0.88888889]\n",
      "Recall: [0.88590604 0.73684211 0.77094972 0.69822485 0.8        0.79141104\n",
      " 0.84659091 0.83157895 0.84795322 0.84705882 0.87765957 0.92696629\n",
      " 0.78235294 0.84883721 0.87939698 0.93333333 0.88484848 0.92307692\n",
      " 0.77272727 0.6557377 ]\n",
      "F1 score: [0.87707641 0.74556213 0.77310924 0.71299094 0.78287462 0.77710843\n",
      " 0.79892761 0.83597884 0.85294118 0.8252149  0.88948787 0.92957746\n",
      " 0.74929577 0.84637681 0.90673575 0.86597938 0.89296636 0.92581602\n",
      " 0.82638889 0.75471698]\n",
      "Avg. F1 score: 0.8306332842415317\n"
     ]
    },
    {
     "data": {
      "image/png": "[encoded data removed]",
      "text/plain": [
       "<Figure size 432x288 with 2 Axes>"
      ]
     },
     "metadata": {
      "needs_background": "light"
     },
     "output_type": "display_data"
    }
   ],
   "source": [
    "testing(model, test, len(dataset.target_names))"
   ]
  },
  {
   "cell_type": "markdown",
   "metadata": {
    "id": "37igN5rJfJUw"
   },
   "source": [
    "#### Let's tune vectorizer's parameters\n",
    "Details are given [here](http://scikit-learn.org/stable/modules/generated/sklearn.feature_extraction.text.CountVectorizer.html)  \n",
    "e.g.\n",
    "```\n",
    "vectorizer = CountVectorizer(min_df=20) # min_df=1 by default\n",
    "```\n"
   ]
  },
  {
   "cell_type": "markdown",
   "metadata": {
    "id": "zwVsOYLJh9dm"
   },
   "source": [
    "#### Let's tune regularization parameter\n",
    "Details are given [here](http://scikit-learn.org/stable/modules/generated/sklearn.linear_model.LogisticRegression.html)  \n",
    "e.g.\n",
    "```\n",
    "model = LogisticRegression(C=0.1) # C=1.0 by default\n",
    "```\n"
   ]
  },
  {
   "cell_type": "markdown",
   "metadata": {
    "id": "oSji_qImbarf"
   },
   "source": [
    "## Compare multiple classifiers\n",
    "\n",
    "- We use NB, SVM and RF\n",
    "- See the performance with the default parameters  \n",
    "- Compare it with those with tuned parameters\n",
    "- Which model performs best in this problem?"
   ]
  },
  {
   "cell_type": "markdown",
   "metadata": {
    "id": "Ab41KOr5YyKE"
   },
   "source": [
    "### Naive Bayes\n",
    "Multinomial Naive Bayes with a smoothing parameter (*alpha*)"
   ]
  },
  {
   "cell_type": "code",
   "execution_count": null,
   "metadata": {
    "colab": {
     "base_uri": "https://localhost:8080/"
    },
    "id": "8QnNrS6Xb4fS",
    "outputId": "65679222-4805-44d8-990d-df06a9a3e759"
   },
   "outputs": [
    {
     "name": "stdout",
     "output_type": "stream",
     "text": [
      "Avg. F1 score: 0.8439196868291451\n"
     ]
    }
   ],
   "source": [
    "model = MultinomialNB()\n",
    "training(model, train, len(dataset.target_names), False)"
   ]
  },
  {
   "cell_type": "code",
   "execution_count": null,
   "metadata": {
    "colab": {
     "base_uri": "https://localhost:8080/",
     "height": 313
    },
    "id": "RHejctt3BKtC",
    "outputId": "6b950e08-7016-40f4-9a09-e10393e968a6"
   },
   "outputs": [
    {
     "name": "stdout",
     "output_type": "stream",
     "text": [
      "Avg. F1 score: 0.7823269513991163\n"
     ]
    },
    {
     "data": {
      "image/png": "[encoded data removed]",
      "text/plain": [
       "<Figure size 432x288 with 2 Axes>"
      ]
     },
     "metadata": {
      "needs_background": "light"
     },
     "output_type": "display_data"
    }
   ],
   "source": [
    "testing(model, test, len(dataset.target_names), False)"
   ]
  },
  {
   "cell_type": "markdown",
   "metadata": {
    "id": "gMfEmMkna02A"
   },
   "source": [
    "#### Let's tune a smoothing parameter\n",
    "Details are given [here](http://scikit-learn.org/stable/modules/generated/sklearn.naive_bayes.MultinomialNB.html#sklearn.naive_bayes.MultinomialNB)\n",
    "\n",
    "e.g.\n",
    "```\n",
    "model = MultinomialNB(alpha=0.1) # alpha=1.0 by default\n",
    "```\n",
    "\n"
   ]
  },
  {
   "cell_type": "markdown",
   "metadata": {
    "id": "vDgK-M0dDz9G"
   },
   "source": [
    "### Support Vector Machine\n",
    "Support Vector Machine with penalty parameter *C*"
   ]
  },
  {
   "cell_type": "code",
   "execution_count": null,
   "metadata": {
    "colab": {
     "base_uri": "https://localhost:8080/",
     "height": 339
    },
    "id": "Vkxdvd6oC2-s",
    "outputId": "b8bf6871-f6fa-47ff-a75a-79292b0e2d8c"
   },
   "outputs": [
    {
     "ename": "KeyboardInterrupt",
     "evalue": "ignored",
     "output_type": "error",
     "traceback": [
      "\u001b[0;31m---------------------------------------------------------------------------\u001b[0m",
      "\u001b[0;31mKeyboardInterrupt\u001b[0m                         Traceback (most recent call last)",
      "\u001b[0;32m<ipython-input-25-c5b3188eaeac>\u001b[0m in \u001b[0;36m<module>\u001b[0;34m\u001b[0m\n\u001b[1;32m      1\u001b[0m \u001b[0mmodel\u001b[0m \u001b[0;34m=\u001b[0m \u001b[0mSVC\u001b[0m\u001b[0;34m(\u001b[0m\u001b[0mC\u001b[0m\u001b[0;34m=\u001b[0m\u001b[0;36m0.5\u001b[0m\u001b[0;34m)\u001b[0m\u001b[0;34m\u001b[0m\u001b[0;34m\u001b[0m\u001b[0m\n\u001b[0;32m----> 2\u001b[0;31m \u001b[0mtraining\u001b[0m\u001b[0;34m(\u001b[0m\u001b[0mmodel\u001b[0m\u001b[0;34m,\u001b[0m \u001b[0mtrain\u001b[0m\u001b[0;34m,\u001b[0m \u001b[0mlen\u001b[0m\u001b[0;34m(\u001b[0m\u001b[0mdataset\u001b[0m\u001b[0;34m.\u001b[0m\u001b[0mtarget_names\u001b[0m\u001b[0;34m)\u001b[0m\u001b[0;34m,\u001b[0m \u001b[0;32mFalse\u001b[0m\u001b[0;34m)\u001b[0m\u001b[0;34m\u001b[0m\u001b[0;34m\u001b[0m\u001b[0m\n\u001b[0m",
      "\u001b[0;32m<ipython-input-20-a6b7c8d6cdfe>\u001b[0m in \u001b[0;36mtraining\u001b[0;34m(model, train, class_size, print_details)\u001b[0m\n\u001b[1;32m      1\u001b[0m \u001b[0;32mdef\u001b[0m \u001b[0mtraining\u001b[0m\u001b[0;34m(\u001b[0m\u001b[0mmodel\u001b[0m\u001b[0;34m,\u001b[0m \u001b[0mtrain\u001b[0m\u001b[0;34m,\u001b[0m \u001b[0mclass_size\u001b[0m\u001b[0;34m,\u001b[0m \u001b[0mprint_details\u001b[0m\u001b[0;34m=\u001b[0m\u001b[0;32mTrue\u001b[0m\u001b[0;34m)\u001b[0m\u001b[0;34m:\u001b[0m\u001b[0;34m\u001b[0m\u001b[0;34m\u001b[0m\u001b[0m\n\u001b[1;32m      2\u001b[0m   \u001b[0mmodel\u001b[0m\u001b[0;34m.\u001b[0m\u001b[0mfit\u001b[0m\u001b[0;34m(\u001b[0m\u001b[0mtrain\u001b[0m\u001b[0;34m.\u001b[0m\u001b[0mvecs\u001b[0m\u001b[0;34m,\u001b[0m \u001b[0mtrain\u001b[0m\u001b[0;34m.\u001b[0m\u001b[0mlabels\u001b[0m\u001b[0;34m)\u001b[0m\u001b[0;34m\u001b[0m\u001b[0;34m\u001b[0m\u001b[0m\n\u001b[0;32m----> 3\u001b[0;31m   \u001b[0mtrain_preds\u001b[0m \u001b[0;34m=\u001b[0m \u001b[0mmodel\u001b[0m\u001b[0;34m.\u001b[0m\u001b[0mpredict\u001b[0m\u001b[0;34m(\u001b[0m\u001b[0mtrain\u001b[0m\u001b[0;34m.\u001b[0m\u001b[0mvecs\u001b[0m\u001b[0;34m)\u001b[0m\u001b[0;34m\u001b[0m\u001b[0;34m\u001b[0m\u001b[0m\n\u001b[0m\u001b[1;32m      4\u001b[0m   \u001b[0;32mif\u001b[0m \u001b[0mprint_details\u001b[0m\u001b[0;34m:\u001b[0m\u001b[0;34m\u001b[0m\u001b[0;34m\u001b[0m\u001b[0m\n\u001b[1;32m      5\u001b[0m     \u001b[0mdev_probs\u001b[0m \u001b[0;34m=\u001b[0m \u001b[0mmodel\u001b[0m\u001b[0;34m.\u001b[0m\u001b[0mpredict_proba\u001b[0m\u001b[0;34m(\u001b[0m\u001b[0mtrain\u001b[0m\u001b[0;34m.\u001b[0m\u001b[0mvecs\u001b[0m\u001b[0;34m)\u001b[0m\u001b[0;34m\u001b[0m\u001b[0;34m\u001b[0m\u001b[0m\n",
      "\u001b[0;32m/usr/local/lib/python3.8/dist-packages/sklearn/svm/_base.py\u001b[0m in \u001b[0;36mpredict\u001b[0;34m(self, X)\u001b[0m\n\u001b[1;32m    789\u001b[0m             \u001b[0my\u001b[0m \u001b[0;34m=\u001b[0m \u001b[0mnp\u001b[0m\u001b[0;34m.\u001b[0m\u001b[0margmax\u001b[0m\u001b[0;34m(\u001b[0m\u001b[0mself\u001b[0m\u001b[0;34m.\u001b[0m\u001b[0mdecision_function\u001b[0m\u001b[0;34m(\u001b[0m\u001b[0mX\u001b[0m\u001b[0;34m)\u001b[0m\u001b[0;34m,\u001b[0m \u001b[0maxis\u001b[0m\u001b[0;34m=\u001b[0m\u001b[0;36m1\u001b[0m\u001b[0;34m)\u001b[0m\u001b[0;34m\u001b[0m\u001b[0;34m\u001b[0m\u001b[0m\n\u001b[1;32m    790\u001b[0m         \u001b[0;32melse\u001b[0m\u001b[0;34m:\u001b[0m\u001b[0;34m\u001b[0m\u001b[0;34m\u001b[0m\u001b[0m\n\u001b[0;32m--> 791\u001b[0;31m             \u001b[0my\u001b[0m \u001b[0;34m=\u001b[0m \u001b[0msuper\u001b[0m\u001b[0;34m(\u001b[0m\u001b[0;34m)\u001b[0m\u001b[0;34m.\u001b[0m\u001b[0mpredict\u001b[0m\u001b[0;34m(\u001b[0m\u001b[0mX\u001b[0m\u001b[0;34m)\u001b[0m\u001b[0;34m\u001b[0m\u001b[0;34m\u001b[0m\u001b[0m\n\u001b[0m\u001b[1;32m    792\u001b[0m         \u001b[0;32mreturn\u001b[0m \u001b[0mself\u001b[0m\u001b[0;34m.\u001b[0m\u001b[0mclasses_\u001b[0m\u001b[0;34m.\u001b[0m\u001b[0mtake\u001b[0m\u001b[0;34m(\u001b[0m\u001b[0mnp\u001b[0m\u001b[0;34m.\u001b[0m\u001b[0masarray\u001b[0m\u001b[0;34m(\u001b[0m\u001b[0my\u001b[0m\u001b[0;34m,\u001b[0m \u001b[0mdtype\u001b[0m\u001b[0;34m=\u001b[0m\u001b[0mnp\u001b[0m\u001b[0;34m.\u001b[0m\u001b[0mintp\u001b[0m\u001b[0;34m)\u001b[0m\u001b[0;34m)\u001b[0m\u001b[0;34m\u001b[0m\u001b[0;34m\u001b[0m\u001b[0m\n\u001b[1;32m    793\u001b[0m \u001b[0;34m\u001b[0m\u001b[0m\n",
      "\u001b[0;32m/usr/local/lib/python3.8/dist-packages/sklearn/svm/_base.py\u001b[0m in \u001b[0;36mpredict\u001b[0;34m(self, X)\u001b[0m\n\u001b[1;32m    414\u001b[0m         \u001b[0mX\u001b[0m \u001b[0;34m=\u001b[0m \u001b[0mself\u001b[0m\u001b[0;34m.\u001b[0m\u001b[0m_validate_for_predict\u001b[0m\u001b[0;34m(\u001b[0m\u001b[0mX\u001b[0m\u001b[0;34m)\u001b[0m\u001b[0;34m\u001b[0m\u001b[0;34m\u001b[0m\u001b[0m\n\u001b[1;32m    415\u001b[0m         \u001b[0mpredict\u001b[0m \u001b[0;34m=\u001b[0m \u001b[0mself\u001b[0m\u001b[0;34m.\u001b[0m\u001b[0m_sparse_predict\u001b[0m \u001b[0;32mif\u001b[0m \u001b[0mself\u001b[0m\u001b[0;34m.\u001b[0m\u001b[0m_sparse\u001b[0m \u001b[0;32melse\u001b[0m \u001b[0mself\u001b[0m\u001b[0;34m.\u001b[0m\u001b[0m_dense_predict\u001b[0m\u001b[0;34m\u001b[0m\u001b[0;34m\u001b[0m\u001b[0m\n\u001b[0;32m--> 416\u001b[0;31m         \u001b[0;32mreturn\u001b[0m \u001b[0mpredict\u001b[0m\u001b[0;34m(\u001b[0m\u001b[0mX\u001b[0m\u001b[0;34m)\u001b[0m\u001b[0;34m\u001b[0m\u001b[0;34m\u001b[0m\u001b[0m\n\u001b[0m\u001b[1;32m    417\u001b[0m \u001b[0;34m\u001b[0m\u001b[0m\n\u001b[1;32m    418\u001b[0m     \u001b[0;32mdef\u001b[0m \u001b[0m_dense_predict\u001b[0m\u001b[0;34m(\u001b[0m\u001b[0mself\u001b[0m\u001b[0;34m,\u001b[0m \u001b[0mX\u001b[0m\u001b[0;34m)\u001b[0m\u001b[0;34m:\u001b[0m\u001b[0;34m\u001b[0m\u001b[0;34m\u001b[0m\u001b[0m\n",
      "\u001b[0;32m/usr/local/lib/python3.8/dist-packages/sklearn/svm/_base.py\u001b[0m in \u001b[0;36m_sparse_predict\u001b[0;34m(self, X)\u001b[0m\n\u001b[1;32m    460\u001b[0m         \u001b[0mC\u001b[0m \u001b[0;34m=\u001b[0m \u001b[0;36m0.0\u001b[0m  \u001b[0;31m# C is not useful here\u001b[0m\u001b[0;34m\u001b[0m\u001b[0;34m\u001b[0m\u001b[0m\n\u001b[1;32m    461\u001b[0m \u001b[0;34m\u001b[0m\u001b[0m\n\u001b[0;32m--> 462\u001b[0;31m         return libsvm_sparse.libsvm_sparse_predict(\n\u001b[0m\u001b[1;32m    463\u001b[0m             \u001b[0mX\u001b[0m\u001b[0;34m.\u001b[0m\u001b[0mdata\u001b[0m\u001b[0;34m,\u001b[0m\u001b[0;34m\u001b[0m\u001b[0;34m\u001b[0m\u001b[0m\n\u001b[1;32m    464\u001b[0m             \u001b[0mX\u001b[0m\u001b[0;34m.\u001b[0m\u001b[0mindices\u001b[0m\u001b[0;34m,\u001b[0m\u001b[0;34m\u001b[0m\u001b[0;34m\u001b[0m\u001b[0m\n",
      "\u001b[0;31mKeyboardInterrupt\u001b[0m: "
     ]
    }
   ],
   "source": [
    "model = SVC(C=0.5)\n",
    "training(model, train, len(dataset.target_names), False)"
   ]
  },
  {
   "cell_type": "code",
   "execution_count": null,
   "metadata": {
    "id": "zxqbVa9fDGvc"
   },
   "outputs": [],
   "source": [
    "testing(model, test, len(dataset.target_names), False)"
   ]
  },
  {
   "cell_type": "markdown",
   "metadata": {
    "id": "b1f1cfTMboI6"
   },
   "source": [
    "#### Let's tune some parameters\n",
    "Details are given [here](http://scikit-learn.org/stable/modules/generated/sklearn.svm.SVC.html)\n",
    "\n",
    "e.g.\n",
    "```\n",
    "model = SVC(C=0.1) # C=1.0 by default\n",
    "# or\n",
    "model = SVC(kernel='linear') # kernel='rbf' by default\n",
    "# or combine them\n",
    "model = SVC(C=0.1, kernel='linear')\n",
    "```\n",
    "\n"
   ]
  },
  {
   "cell_type": "markdown",
   "metadata": {
    "id": "S7YB-a1wD3Ke"
   },
   "source": [
    "### Random Forest\n",
    "Random Forest Classifier"
   ]
  },
  {
   "cell_type": "code",
   "execution_count": null,
   "metadata": {
    "colab": {
     "base_uri": "https://localhost:8080/"
    },
    "id": "mgB7JvujD3jG",
    "outputId": "9879c363-972c-4a1e-e42f-e20f0217898e"
   },
   "outputs": [
    {
     "name": "stdout",
     "output_type": "stream",
     "text": [
      "Avg. F1 score: 1.0\n"
     ]
    }
   ],
   "source": [
    "model = RandomForestClassifier(max_depth=150)\n",
    "training(model, train, len(dataset.target_names), False)"
   ]
  },
  {
   "cell_type": "code",
   "execution_count": null,
   "metadata": {
    "colab": {
     "base_uri": "https://localhost:8080/",
     "height": 313
    },
    "id": "VAwAFP9yD9XA",
    "outputId": "63beff21-308a-46aa-8c85-e06ecc2a8ee0"
   },
   "outputs": [
    {
     "name": "stdout",
     "output_type": "stream",
     "text": [
      "Avg. F1 score: 0.7958762886597938\n"
     ]
    },
    {
     "data": {
      "image/png": "[encoded data removed]",
      "text/plain": [
       "<Figure size 432x288 with 2 Axes>"
      ]
     },
     "metadata": {
      "needs_background": "light"
     },
     "output_type": "display_data"
    }
   ],
   "source": [
    "testing(model, test, len(dataset.target_names), False)"
   ]
  },
  {
   "cell_type": "markdown",
   "metadata": {
    "id": "4YUjKWg2gNJg"
   },
   "source": [
    "#### Let's tune some parameters\n",
    "Details are given [here](http://scikit-learn.org/stable/modules/generated/sklearn.ensemble.RandomForestClassifier.html)\n",
    "\n",
    "e.g.\n",
    "```\n",
    "model = RandomForestClassifier(max_depth=30) # max_depth=None by default (i.e. no limit)\n",
    "# or\n",
    "model = RandomForestClassifier(n_estimators=20) # n_estimators=10 by default\n",
    "# or combine them\n",
    "model = RandomForestClassifier(max_depth=30, n_estimators=20)\n",
    "```\n",
    "\n"
   ]
  }
 ],
 "metadata": {
  "colab": {
   "provenance": []
  },
  "kernelspec": {
   "display_name": "Python 3 (ipykernel)",
   "language": "python",
   "name": "python3"
  },
  "language_info": {
   "codemirror_mode": {
    "name": "ipython",
    "version": 3
   },
   "file_extension": ".py",
   "mimetype": "text/x-python",
   "name": "python",
   "nbconvert_exporter": "python",
   "pygments_lexer": "ipython3",
   "version": "3.11.1"
  }
 },
 "nbformat": 4,
 "nbformat_minor": 1
}
