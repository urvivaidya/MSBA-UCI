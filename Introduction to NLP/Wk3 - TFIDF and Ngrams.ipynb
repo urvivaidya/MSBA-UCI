{
 "cells": [
  {
   "cell_type": "markdown",
   "metadata": {
    "id": "wmpodQkfokCX"
   },
   "source": [
    "## Import packages\n",
    "Make sure you installed ***sklearn***, ***matplotlib*** and ***numpy*** if you use your local machine"
   ]
  },
  {
   "cell_type": "code",
   "execution_count": 1,
   "metadata": {
    "id": "gxD_3fs1tX_E"
   },
   "outputs": [],
   "source": [
    "import matplotlib.pyplot as plt\n",
    "import numpy as np\n",
    "import pandas as pd\n",
    "import sklearn\n",
    "from sklearn import datasets\n",
    "from sklearn.feature_extraction.text import CountVectorizer\n",
    "from sklearn.feature_extraction.text import TfidfVectorizer\n",
    "from sklearn.metrics import confusion_matrix, precision_score, precision_recall_curve, recall_score, f1_score\n",
    "from sklearn.naive_bayes import MultinomialNB\n",
    "from sklearn.linear_model import LogisticRegression\n",
    "from sklearn.metrics.pairwise import cosine_similarity"
   ]
  },
  {
   "cell_type": "markdown",
   "metadata": {
    "id": "U0vF7uNdox7d"
   },
   "source": [
    "## Prepare dataset (same as last time)\n",
    "The 20 newsgroups text dataset: [Details](https://scikit-learn.org/0.19/datasets/twenty_newsgroups.html)"
   ]
  },
  {
   "cell_type": "code",
   "execution_count": 2,
   "metadata": {
    "colab": {
     "base_uri": "https://localhost:8080/"
    },
    "executionInfo": {
     "elapsed": 13800,
     "status": "ok",
     "timestamp": 1649968425516,
     "user": {
      "displayName": "Vibhanshu Abhishek",
      "userId": "07860302646046904287"
     },
     "user_tz": 420
    },
    "id": "CPSdjUHDoSnf",
    "outputId": "3d978a2b-50ff-4cb6-e7b6-30060057fb10"
   },
   "outputs": [
    {
     "name": "stdout",
     "output_type": "stream",
     "text": [
      "train data size: 7919\n",
      "test data size: 3395\n"
     ]
    }
   ],
   "source": [
    "dataset = sklearn.datasets.fetch_20newsgroups()\n",
    "class Dataset:\n",
    "  def __init__(self, dataset, start_idx, end_idx):\n",
    "    self.data = dataset.data[start_idx:end_idx]\n",
    "    self.labels = dataset.target[start_idx:end_idx]\n",
    "    self.vecs = None\n",
    "\n",
    "    \n",
    "def split_dataset(dataset, train_rate=0.7):\n",
    "  data_size = len(dataset.data)\n",
    "  train_last_idx = int(train_rate * data_size)\n",
    "  train = Dataset(dataset, 0, train_last_idx)\n",
    "  test = Dataset(dataset, train_last_idx, data_size)\n",
    "  return train, test\n",
    "\n",
    "train, test = split_dataset(dataset)\n",
    "print('train data size:', len(train.data))\n",
    "print('test data size:', len(test.data))"
   ]
  },
  {
   "cell_type": "code",
   "execution_count": 3,
   "metadata": {
    "id": "F8YJ7pPHxRex"
   },
   "outputs": [
    {
     "name": "stdout",
     "output_type": "stream",
     "text": [
      "[ 7  4  4 ...  5 16 18]\n"
     ]
    }
   ],
   "source": [
    "print(train.labels)"
   ]
  },
  {
   "cell_type": "markdown",
   "metadata": {
    "id": "Ozf7I_JxabrV"
   },
   "source": [
    "## NGrams\n",
    "Convert a list of text documents to a matrix of token frequencies ([Details](http://scikit-learn.org/stable/modules/generated/sklearn.feature_extraction.text.CountVectorizer.html))"
   ]
  },
  {
   "cell_type": "code",
   "execution_count": 4,
   "metadata": {
    "colab": {
     "base_uri": "https://localhost:8080/"
    },
    "executionInfo": {
     "elapsed": 37764,
     "status": "ok",
     "timestamp": 1649968527008,
     "user": {
      "displayName": "Vibhanshu Abhishek",
      "userId": "07860302646046904287"
     },
     "user_tz": 420
    },
    "id": "cdWaBVSrarpn",
    "outputId": "4e4e5628-c533-4694-f5c1-e3675e858b42"
   },
   "outputs": [
    {
     "name": "stdout",
     "output_type": "stream",
     "text": [
      "Fitting vectorizers\n"
     ]
    },
    {
     "data": {
      "text/plain": [
       "[CountVectorizer(),\n",
       " CountVectorizer(ngram_range=(2, 2)),\n",
       " CountVectorizer(ngram_range=(3, 3)),\n",
       " CountVectorizer(ngram_range=(1, 3))]"
      ]
     },
     "execution_count": 4,
     "metadata": {},
     "output_type": "execute_result"
    }
   ],
   "source": [
    "unigram = CountVectorizer(ngram_range=(1,1))\n",
    "bigram = CountVectorizer(ngram_range=(2,2))\n",
    "trigram = CountVectorizer(ngram_range=(3,3))\n",
    "#fourgram = CountVectorizer(ngram_range=(4,4))\n",
    "combined = CountVectorizer(ngram_range=(1,3))\n",
    "vectorizers = [unigram, bigram, trigram, combined]\n",
    "print(\"Fitting vectorizers\")\n",
    "[vectorizer.fit(train.data) for vectorizer in vectorizers]"
   ]
  },
  {
   "cell_type": "markdown",
   "metadata": {
    "id": "W-sLSO-xgvA0"
   },
   "source": [
    "### See vocabulary size\n",
    "Q: Which one has the largest vocabulary size, **unigram**, **bigram**, **trigram**, or **combined**?"
   ]
  },
  {
   "cell_type": "code",
   "execution_count": 5,
   "metadata": {
    "colab": {
     "base_uri": "https://localhost:8080/"
    },
    "executionInfo": {
     "elapsed": 307,
     "status": "ok",
     "timestamp": 1649968618744,
     "user": {
      "displayName": "Vibhanshu Abhishek",
      "userId": "07860302646046904287"
     },
     "user_tz": 420
    },
    "id": "gSNZEMx4gn-2",
    "outputId": "d842dadd-63e2-4d70-c7d5-50c5131853e9"
   },
   "outputs": [
    {
     "name": "stdout",
     "output_type": "stream",
     "text": [
      "Vocabulary Size: 107212\n",
      "Vocabulary Size: 825425\n",
      "Vocabulary Size: 1514525\n",
      "Vocabulary Size: 2447162\n"
     ]
    }
   ],
   "source": [
    "for vectorizer in vectorizers:\n",
    "  print('Vocabulary Size:', len(vectorizer.vocabulary_))"
   ]
  },
  {
   "cell_type": "markdown",
   "metadata": {
    "id": "ztDYYEPsmbt8"
   },
   "source": [
    "### See vocabulary distribution\n",
    "Q: Do you remember the name of the law?"
   ]
  },
  {
   "cell_type": "code",
   "execution_count": 6,
   "metadata": {
    "id": "4fYPvOhAmMDe"
   },
   "outputs": [],
   "source": [
    "def show_distribution(vectorizer, train):\n",
    "  vecs = vectorizer.transform(train.data)\n",
    "  sum_mat = np.sum(vecs, axis=0)\n",
    "  freqs = np.sort(sum_mat).T[::-1]\n",
    "  plt.plot(list(range(1, sum_mat.shape[1] + 1)), freqs)\n",
    "  plt.xlabel('Rank')\n",
    "  plt.ylabel('Frequency')\n",
    "  plt.show()\n",
    "  \n",
    "  plt.loglog(list(range(1, sum_mat.shape[1] + 1)), freqs)\n",
    "  plt.xlabel('Rank')\n",
    "  plt.ylabel('Frequency')\n",
    "  plt.show()"
   ]
  },
  {
   "cell_type": "code",
   "execution_count": 7,
   "metadata": {
    "id": "ByGJcm7SnJW-"
   },
   "outputs": [
    {
     "data": {
      "image/png": "[encoded data removed]",
      "text/plain": [
       "<Figure size 640x480 with 1 Axes>"
      ]
     },
     "metadata": {},
     "output_type": "display_data"
    },
    {
     "data": {
      "image/png": "[encoded data removed]",
      "text/plain": [
       "<Figure size 640x480 with 1 Axes>"
      ]
     },
     "metadata": {},
     "output_type": "display_data"
    }
   ],
   "source": [
    "show_distribution(unigram, train) # try bigram, trigram and combined as well"
   ]
  },
  {
   "cell_type": "markdown",
   "metadata": {
    "id": "0l2P7B7HxFgm"
   },
   "source": [
    "### Convert word (ngram) to index and vice versa"
   ]
  },
  {
   "cell_type": "code",
   "execution_count": 8,
   "metadata": {
    "id": "Jti4MuGTxEQa"
   },
   "outputs": [],
   "source": [
    "def ngram2idx(ngram, vocab_dict):\n",
    "  index = vocab_dict[ngram] if ngram in vocab_dict.keys() else 'Not Found'\n",
    "  print(ngram, ' -> ', index)\n",
    "\n",
    "\n",
    "def idx2ngram(index, vocabs):\n",
    "  ngram = vocabs[index] if 0 <= index < len(vocabs) else 'Not Found'\n",
    "  print(index, ' -> ', ngram)"
   ]
  },
  {
   "cell_type": "code",
   "execution_count": 9,
   "metadata": {
    "colab": {
     "base_uri": "https://localhost:8080/"
    },
    "executionInfo": {
     "elapsed": 278,
     "status": "ok",
     "timestamp": 1649968678490,
     "user": {
      "displayName": "Vibhanshu Abhishek",
      "userId": "07860302646046904287"
     },
     "user_tz": 420
    },
    "id": "K1qiwx8xyslo",
    "outputId": "1a15f118-53a9-4279-ffea-d5d585f3e8ce"
   },
   "outputs": [
    {
     "name": "stdout",
     "output_type": "stream",
     "text": [
      "we are  ->  Not Found\n",
      "783807  ->  Not Found\n",
      "to microsoft  ->  Not Found\n",
      "736413  ->  Not Found\n"
     ]
    }
   ],
   "source": [
    "vectorizer = unigram # change to bigram or trigram\n",
    "vocab_dict = vectorizer.vocabulary_\n",
    "vocabs = vectorizer.get_feature_names_out()\n",
    "\n",
    "ngram2idx('we are', vocab_dict)\n",
    "idx2ngram(783807, vocabs)\n",
    "\n",
    "ngram2idx('to microsoft', vocab_dict)\n",
    "idx2ngram(736413, vocabs)"
   ]
  },
  {
   "cell_type": "markdown",
   "metadata": {
    "id": "6NC7zleE6GSo"
   },
   "source": [
    "### Convert sentence to vector"
   ]
  },
  {
   "cell_type": "code",
   "execution_count": 10,
   "metadata": {
    "id": "6uWu-D1R6Dqo"
   },
   "outputs": [],
   "source": [
    "def sentence2vec(sentence, vectorizer):\n",
    "  vec = vectorizer.transform([sentence])\n",
    "  vocabs = vectorizer.get_feature_names_out()\n",
    "  print('\\\"', sentence, '\\\" -> ')\n",
    "  print(vec)\n",
    "  for idx in vec.indices:\n",
    "    print(idx, vocabs[idx])\n",
    "  print()"
   ]
  },
  {
   "cell_type": "code",
   "execution_count": 11,
   "metadata": {
    "colab": {
     "base_uri": "https://localhost:8080/"
    },
    "executionInfo": {
     "elapsed": 7974,
     "status": "ok",
     "timestamp": 1649968697025,
     "user": {
      "displayName": "Vibhanshu Abhishek",
      "userId": "07860302646046904287"
     },
     "user_tz": 420
    },
    "id": "60kP-8IP7uzA",
    "outputId": "406d87ac-070b-4449-e54e-6d40d50a1ebe"
   },
   "outputs": [
    {
     "name": "stdout",
     "output_type": "stream",
     "text": [
      "\" We are going to microsoft \" -> \n",
      "  (0, 23184)\t1\n",
      "  (0, 48917)\t1\n",
      "  (0, 67270)\t1\n",
      "  (0, 95302)\t1\n",
      "  (0, 101951)\t1\n",
      "23184 are\n",
      "48917 going\n",
      "67270 microsoft\n",
      "95302 to\n",
      "101951 we\n",
      "\n",
      "\" We are going to microsoft \" -> \n",
      "  (0, 109903)\t1\n",
      "  (0, 328698)\t1\n",
      "  (0, 736413)\t1\n",
      "  (0, 783807)\t1\n",
      "109903 are going\n",
      "328698 going to\n",
      "736413 to microsoft\n",
      "783807 we are\n",
      "\n",
      "\" We are going to microsoft \" -> \n",
      "  (0, 171354)\t1\n",
      "  (0, 1424292)\t1\n",
      "171354 are going to\n",
      "1424292 we are going\n",
      "\n",
      "\" We are going to microsoft \" -> \n",
      "  (0, 300895)\t1\n",
      "  (0, 304432)\t1\n",
      "  (0, 304443)\t1\n",
      "  (0, 919583)\t1\n",
      "  (0, 919995)\t1\n",
      "  (0, 1336821)\t1\n",
      "  (0, 2147049)\t1\n",
      "  (0, 2166280)\t1\n",
      "  (0, 2309753)\t1\n",
      "  (0, 2309963)\t1\n",
      "  (0, 2310052)\t1\n",
      "300895 are\n",
      "304432 are going\n",
      "304443 are going to\n",
      "919583 going\n",
      "919995 going to\n",
      "1336821 microsoft\n",
      "2147049 to\n",
      "2166280 to microsoft\n",
      "2309753 we\n",
      "2309963 we are\n",
      "2310052 we are going\n",
      "\n"
     ]
    }
   ],
   "source": [
    "for vectorizer in vectorizers:\n",
    "  sentence2vec('We are going to microsoft', vectorizer)"
   ]
  },
  {
   "cell_type": "markdown",
   "metadata": {
    "id": "zrA6rJUtal3U"
   },
   "source": [
    "## TFIDF Weights"
   ]
  },
  {
   "cell_type": "markdown",
   "metadata": {
    "id": "JLH6NPdVqQEA"
   },
   "source": [
    "### Tutorial with unigram\n",
    "Convert a collection of raw documents to a matrix of TF-IDF features. ([Details](https://scikit-learn.org/stable/modules/generated/sklearn.feature_extraction.text.TfidfVectorizer.html))"
   ]
  },
  {
   "cell_type": "code",
   "execution_count": 12,
   "metadata": {
    "id": "lT2L8XpAxRe4"
   },
   "outputs": [],
   "source": [
    "example_docs=[\n",
    "       \"One Cent, Two Cents, Old Cent, New Cent: All About Money (Cat in the Hat's Learning Library\",\n",
    "       \"Inside Your Outside: All About the Human Body (Cat in the Hat's Learning Library)\",\n",
    "       \"Oh, The Things You Can Do That Are Good for You: All About Staying Healthy (Cat in the Hat's Learning Library)\",\n",
    "       \"On Beyond Bugs: All About Insects (Cat in the Hat's Learning Library)\",\n",
    "       \"There's No Place Like Space: All About Our Solar System (Cat in the Hat's Learning Library)\" \n",
    "      ]"
   ]
  },
  {
   "cell_type": "code",
   "execution_count": 13,
   "metadata": {
    "colab": {
     "base_uri": "https://localhost:8080/"
    },
    "executionInfo": {
     "elapsed": 301,
     "status": "ok",
     "timestamp": 1649970351477,
     "user": {
      "displayName": "Vibhanshu Abhishek",
      "userId": "07860302646046904287"
     },
     "user_tz": 420
    },
    "id": "VRzM6QDMxRe4",
    "outputId": "fe7daf99-b218-40bc-ee1c-44e7edbfaf18"
   },
   "outputs": [
    {
     "data": {
      "text/html": [
       "<style>#sk-container-id-1 {color: black;background-color: white;}#sk-container-id-1 pre{padding: 0;}#sk-container-id-1 div.sk-toggleable {background-color: white;}#sk-container-id-1 label.sk-toggleable__label {cursor: pointer;display: block;width: 100%;margin-bottom: 0;padding: 0.3em;box-sizing: border-box;text-align: center;}#sk-container-id-1 label.sk-toggleable__label-arrow:before {content: \"▸\";float: left;margin-right: 0.25em;color: #696969;}#sk-container-id-1 label.sk-toggleable__label-arrow:hover:before {color: black;}#sk-container-id-1 div.sk-estimator:hover label.sk-toggleable__label-arrow:before {color: black;}#sk-container-id-1 div.sk-toggleable__content {max-height: 0;max-width: 0;overflow: hidden;text-align: left;background-color: #f0f8ff;}#sk-container-id-1 div.sk-toggleable__content pre {margin: 0.2em;color: black;border-radius: 0.25em;background-color: #f0f8ff;}#sk-container-id-1 input.sk-toggleable__control:checked~div.sk-toggleable__content {max-height: 200px;max-width: 100%;overflow: auto;}#sk-container-id-1 input.sk-toggleable__control:checked~label.sk-toggleable__label-arrow:before {content: \"▾\";}#sk-container-id-1 div.sk-estimator input.sk-toggleable__control:checked~label.sk-toggleable__label {background-color: #d4ebff;}#sk-container-id-1 div.sk-label input.sk-toggleable__control:checked~label.sk-toggleable__label {background-color: #d4ebff;}#sk-container-id-1 input.sk-hidden--visually {border: 0;clip: rect(1px 1px 1px 1px);clip: rect(1px, 1px, 1px, 1px);height: 1px;margin: -1px;overflow: hidden;padding: 0;position: absolute;width: 1px;}#sk-container-id-1 div.sk-estimator {font-family: monospace;background-color: #f0f8ff;border: 1px dotted black;border-radius: 0.25em;box-sizing: border-box;margin-bottom: 0.5em;}#sk-container-id-1 div.sk-estimator:hover {background-color: #d4ebff;}#sk-container-id-1 div.sk-parallel-item::after {content: \"\";width: 100%;border-bottom: 1px solid gray;flex-grow: 1;}#sk-container-id-1 div.sk-label:hover label.sk-toggleable__label {background-color: #d4ebff;}#sk-container-id-1 div.sk-serial::before {content: \"\";position: absolute;border-left: 1px solid gray;box-sizing: border-box;top: 0;bottom: 0;left: 50%;z-index: 0;}#sk-container-id-1 div.sk-serial {display: flex;flex-direction: column;align-items: center;background-color: white;padding-right: 0.2em;padding-left: 0.2em;position: relative;}#sk-container-id-1 div.sk-item {position: relative;z-index: 1;}#sk-container-id-1 div.sk-parallel {display: flex;align-items: stretch;justify-content: center;background-color: white;position: relative;}#sk-container-id-1 div.sk-item::before, #sk-container-id-1 div.sk-parallel-item::before {content: \"\";position: absolute;border-left: 1px solid gray;box-sizing: border-box;top: 0;bottom: 0;left: 50%;z-index: -1;}#sk-container-id-1 div.sk-parallel-item {display: flex;flex-direction: column;z-index: 1;position: relative;background-color: white;}#sk-container-id-1 div.sk-parallel-item:first-child::after {align-self: flex-end;width: 50%;}#sk-container-id-1 div.sk-parallel-item:last-child::after {align-self: flex-start;width: 50%;}#sk-container-id-1 div.sk-parallel-item:only-child::after {width: 0;}#sk-container-id-1 div.sk-dashed-wrapped {border: 1px dashed gray;margin: 0 0.4em 0.5em 0.4em;box-sizing: border-box;padding-bottom: 0.4em;background-color: white;}#sk-container-id-1 div.sk-label label {font-family: monospace;font-weight: bold;display: inline-block;line-height: 1.2em;}#sk-container-id-1 div.sk-label-container {text-align: center;}#sk-container-id-1 div.sk-container {/* jupyter's `normalize.less` sets `[hidden] { display: none; }` but bootstrap.min.css set `[hidden] { display: none !important; }` so we also need the `!important` here to be able to override the default hidden behavior on the sphinx rendered scikit-learn.org. See: https://github.com/scikit-learn/scikit-learn/issues/21755 */display: inline-block !important;position: relative;}#sk-container-id-1 div.sk-text-repr-fallback {display: none;}</style><div id=\"sk-container-id-1\" class=\"sk-top-container\"><div class=\"sk-text-repr-fallback\"><pre>CountVectorizer()</pre><b>In a Jupyter environment, please rerun this cell to show the HTML representation or trust the notebook. <br />On GitHub, the HTML representation is unable to render, please try loading this page with nbviewer.org.</b></div><div class=\"sk-container\" hidden><div class=\"sk-item\"><div class=\"sk-estimator sk-toggleable\"><input class=\"sk-toggleable__control sk-hidden--visually\" id=\"sk-estimator-id-1\" type=\"checkbox\" checked><label for=\"sk-estimator-id-1\" class=\"sk-toggleable__label sk-toggleable__label-arrow\">CountVectorizer</label><div class=\"sk-toggleable__content\"><pre>CountVectorizer()</pre></div></div></div></div></div>"
      ],
      "text/plain": [
       "CountVectorizer()"
      ]
     },
     "execution_count": 13,
     "metadata": {},
     "output_type": "execute_result"
    }
   ],
   "source": [
    "bow =  CountVectorizer()\n",
    "bow.fit(example_docs)"
   ]
  },
  {
   "cell_type": "code",
   "execution_count": 14,
   "metadata": {
    "colab": {
     "base_uri": "https://localhost:8080/"
    },
    "executionInfo": {
     "elapsed": 300,
     "status": "ok",
     "timestamp": 1649970355695,
     "user": {
      "displayName": "Vibhanshu Abhishek",
      "userId": "07860302646046904287"
     },
     "user_tz": 420
    },
    "id": "ip0CXA8_yPLH",
    "outputId": "9838c24f-9e8f-43f8-d195-2afddc3757c4"
   },
   "outputs": [
    {
     "data": {
      "text/html": [
       "<style>#sk-container-id-2 {color: black;background-color: white;}#sk-container-id-2 pre{padding: 0;}#sk-container-id-2 div.sk-toggleable {background-color: white;}#sk-container-id-2 label.sk-toggleable__label {cursor: pointer;display: block;width: 100%;margin-bottom: 0;padding: 0.3em;box-sizing: border-box;text-align: center;}#sk-container-id-2 label.sk-toggleable__label-arrow:before {content: \"▸\";float: left;margin-right: 0.25em;color: #696969;}#sk-container-id-2 label.sk-toggleable__label-arrow:hover:before {color: black;}#sk-container-id-2 div.sk-estimator:hover label.sk-toggleable__label-arrow:before {color: black;}#sk-container-id-2 div.sk-toggleable__content {max-height: 0;max-width: 0;overflow: hidden;text-align: left;background-color: #f0f8ff;}#sk-container-id-2 div.sk-toggleable__content pre {margin: 0.2em;color: black;border-radius: 0.25em;background-color: #f0f8ff;}#sk-container-id-2 input.sk-toggleable__control:checked~div.sk-toggleable__content {max-height: 200px;max-width: 100%;overflow: auto;}#sk-container-id-2 input.sk-toggleable__control:checked~label.sk-toggleable__label-arrow:before {content: \"▾\";}#sk-container-id-2 div.sk-estimator input.sk-toggleable__control:checked~label.sk-toggleable__label {background-color: #d4ebff;}#sk-container-id-2 div.sk-label input.sk-toggleable__control:checked~label.sk-toggleable__label {background-color: #d4ebff;}#sk-container-id-2 input.sk-hidden--visually {border: 0;clip: rect(1px 1px 1px 1px);clip: rect(1px, 1px, 1px, 1px);height: 1px;margin: -1px;overflow: hidden;padding: 0;position: absolute;width: 1px;}#sk-container-id-2 div.sk-estimator {font-family: monospace;background-color: #f0f8ff;border: 1px dotted black;border-radius: 0.25em;box-sizing: border-box;margin-bottom: 0.5em;}#sk-container-id-2 div.sk-estimator:hover {background-color: #d4ebff;}#sk-container-id-2 div.sk-parallel-item::after {content: \"\";width: 100%;border-bottom: 1px solid gray;flex-grow: 1;}#sk-container-id-2 div.sk-label:hover label.sk-toggleable__label {background-color: #d4ebff;}#sk-container-id-2 div.sk-serial::before {content: \"\";position: absolute;border-left: 1px solid gray;box-sizing: border-box;top: 0;bottom: 0;left: 50%;z-index: 0;}#sk-container-id-2 div.sk-serial {display: flex;flex-direction: column;align-items: center;background-color: white;padding-right: 0.2em;padding-left: 0.2em;position: relative;}#sk-container-id-2 div.sk-item {position: relative;z-index: 1;}#sk-container-id-2 div.sk-parallel {display: flex;align-items: stretch;justify-content: center;background-color: white;position: relative;}#sk-container-id-2 div.sk-item::before, #sk-container-id-2 div.sk-parallel-item::before {content: \"\";position: absolute;border-left: 1px solid gray;box-sizing: border-box;top: 0;bottom: 0;left: 50%;z-index: -1;}#sk-container-id-2 div.sk-parallel-item {display: flex;flex-direction: column;z-index: 1;position: relative;background-color: white;}#sk-container-id-2 div.sk-parallel-item:first-child::after {align-self: flex-end;width: 50%;}#sk-container-id-2 div.sk-parallel-item:last-child::after {align-self: flex-start;width: 50%;}#sk-container-id-2 div.sk-parallel-item:only-child::after {width: 0;}#sk-container-id-2 div.sk-dashed-wrapped {border: 1px dashed gray;margin: 0 0.4em 0.5em 0.4em;box-sizing: border-box;padding-bottom: 0.4em;background-color: white;}#sk-container-id-2 div.sk-label label {font-family: monospace;font-weight: bold;display: inline-block;line-height: 1.2em;}#sk-container-id-2 div.sk-label-container {text-align: center;}#sk-container-id-2 div.sk-container {/* jupyter's `normalize.less` sets `[hidden] { display: none; }` but bootstrap.min.css set `[hidden] { display: none !important; }` so we also need the `!important` here to be able to override the default hidden behavior on the sphinx rendered scikit-learn.org. See: https://github.com/scikit-learn/scikit-learn/issues/21755 */display: inline-block !important;position: relative;}#sk-container-id-2 div.sk-text-repr-fallback {display: none;}</style><div id=\"sk-container-id-2\" class=\"sk-top-container\"><div class=\"sk-text-repr-fallback\"><pre>CountVectorizer(ngram_range=(1, 2))</pre><b>In a Jupyter environment, please rerun this cell to show the HTML representation or trust the notebook. <br />On GitHub, the HTML representation is unable to render, please try loading this page with nbviewer.org.</b></div><div class=\"sk-container\" hidden><div class=\"sk-item\"><div class=\"sk-estimator sk-toggleable\"><input class=\"sk-toggleable__control sk-hidden--visually\" id=\"sk-estimator-id-2\" type=\"checkbox\" checked><label for=\"sk-estimator-id-2\" class=\"sk-toggleable__label sk-toggleable__label-arrow\">CountVectorizer</label><div class=\"sk-toggleable__content\"><pre>CountVectorizer(ngram_range=(1, 2))</pre></div></div></div></div></div>"
      ],
      "text/plain": [
       "CountVectorizer(ngram_range=(1, 2))"
      ]
     },
     "execution_count": 14,
     "metadata": {},
     "output_type": "execute_result"
    }
   ],
   "source": [
    "bowbigram = CountVectorizer(ngram_range=(1,2))\n",
    "bowbigram.fit(example_docs)"
   ]
  },
  {
   "cell_type": "code",
   "execution_count": 15,
   "metadata": {
    "id": "WdNkO6P7xin_"
   },
   "outputs": [],
   "source": [
    "Y = bow.transform(example_docs)\n",
    "Y1 = bowbigram.transform(example_docs)"
   ]
  },
  {
   "cell_type": "code",
   "execution_count": 16,
   "metadata": {
    "colab": {
     "base_uri": "https://localhost:8080/"
    },
    "executionInfo": {
     "elapsed": 293,
     "status": "ok",
     "timestamp": 1649970381650,
     "user": {
      "displayName": "Vibhanshu Abhishek",
      "userId": "07860302646046904287"
     },
     "user_tz": 420
    },
    "id": "Pv2HNK-Ox3Nu",
    "outputId": "c42b5a59-b8eb-4b2f-95ae-350c17d55a46"
   },
   "outputs": [
    {
     "name": "stdout",
     "output_type": "stream",
     "text": [
      "Unigram\n",
      "\n",
      "[[1 1 0 0 0 0 0 1 3 1 0 0 0 1 0 0 1 0 0 1 1 0 1 1 0 0 1 0 1 0 0 0 0 0 0 0\n",
      "  0 1 0 0 1 0 0]\n",
      " [1 1 0 0 1 0 0 1 0 0 0 0 0 1 0 1 1 0 1 1 1 0 0 0 0 0 0 0 0 0 1 0 0 0 0 0\n",
      "  0 2 0 0 0 0 1]\n",
      " [1 1 1 0 0 0 1 1 0 0 1 1 1 1 1 0 1 0 0 1 1 0 0 0 0 1 0 0 0 0 0 0 0 0 1 0\n",
      "  1 2 0 1 0 2 0]\n",
      " [1 1 0 1 0 1 0 1 0 0 0 0 0 1 0 0 1 1 0 1 1 0 0 0 0 0 0 1 0 0 0 0 0 0 0 0\n",
      "  0 1 0 0 0 0 0]\n",
      " [1 1 0 0 0 0 0 1 0 0 0 0 0 1 0 0 1 0 0 1 1 1 0 0 1 0 0 0 0 1 0 1 1 1 0 1\n",
      "  0 1 1 0 0 0 0]]\n",
      "Unigram+Bigram\n",
      "\n",
      "[[1 0 1 0 0 0 1 1 0 0 0 0 0 0 0 0 0 0 1 1 3 1 1 1 1 1 0 0 0 0 0 0 1 1 0 0\n",
      "  0 0 1 1 0 0 0 0 1 1 1 0 0 1 1 1 1 0 0 0 0 1 1 0 0 1 1 0 0 0 0 0 0 0 0 0\n",
      "  0 0 0 0 0 0 0 1 1 0 0 0 0 0 0 1 1 0 0 0 0 0]\n",
      " [1 0 0 0 0 1 1 1 0 0 0 0 1 1 0 0 0 0 1 1 0 0 0 0 0 0 0 0 0 0 0 0 1 1 0 0\n",
      "  1 1 1 1 0 0 1 1 1 1 1 0 0 0 0 0 0 0 0 0 0 0 0 0 0 0 0 0 0 1 1 0 0 0 0 0\n",
      "  0 0 0 0 0 0 0 2 1 1 0 0 0 0 0 0 0 0 0 0 1 1]\n",
      " [1 0 0 0 1 0 1 1 1 1 0 0 0 0 0 0 1 1 1 1 0 0 0 0 0 0 1 1 1 1 1 1 1 1 1 1\n",
      "  0 0 1 1 0 0 0 0 1 1 1 0 0 0 0 0 0 0 0 1 1 0 0 0 0 0 0 0 0 0 0 0 0 0 0 0\n",
      "  0 1 1 0 0 1 1 2 1 0 1 0 0 1 1 0 0 2 1 1 0 0]\n",
      " [1 1 0 0 0 0 1 1 0 0 1 1 0 0 1 1 0 0 1 1 0 0 0 0 0 0 0 0 0 0 0 0 1 1 0 0\n",
      "  0 0 1 1 1 1 0 0 1 1 1 0 0 0 0 0 0 0 0 0 0 0 0 1 1 0 0 0 0 0 0 0 0 0 0 0\n",
      "  0 0 0 0 0 0 0 1 1 0 0 0 0 0 0 0 0 0 0 0 0 0]\n",
      " [1 0 0 1 0 0 1 1 0 0 0 0 0 0 0 0 0 0 1 1 0 0 0 0 0 0 0 0 0 0 0 0 1 1 0 0\n",
      "  0 0 1 1 0 0 0 0 1 1 1 1 1 0 0 0 0 1 1 0 0 0 0 0 0 0 0 1 1 0 0 1 1 1 1 1\n",
      "  1 0 0 1 1 0 0 1 1 0 0 1 1 0 0 0 0 0 0 0 0 0]]\n"
     ]
    }
   ],
   "source": [
    "print(\"Unigram\\n\")\n",
    "print(Y.toarray())\n",
    "print(\"Unigram+Bigram\\n\")\n",
    "print(Y1.toarray())"
   ]
  },
  {
   "cell_type": "code",
   "execution_count": 17,
   "metadata": {
    "colab": {
     "base_uri": "https://localhost:8080/"
    },
    "executionInfo": {
     "elapsed": 299,
     "status": "ok",
     "timestamp": 1649970445436,
     "user": {
      "displayName": "Vibhanshu Abhishek",
      "userId": "07860302646046904287"
     },
     "user_tz": 420
    },
    "id": "RfKOMob0xRe4",
    "outputId": "c7d5ca41-d8a7-4d6d-c5c9-23036ebbd195"
   },
   "outputs": [
    {
     "data": {
      "text/html": [
       "<style>#sk-container-id-3 {color: black;background-color: white;}#sk-container-id-3 pre{padding: 0;}#sk-container-id-3 div.sk-toggleable {background-color: white;}#sk-container-id-3 label.sk-toggleable__label {cursor: pointer;display: block;width: 100%;margin-bottom: 0;padding: 0.3em;box-sizing: border-box;text-align: center;}#sk-container-id-3 label.sk-toggleable__label-arrow:before {content: \"▸\";float: left;margin-right: 0.25em;color: #696969;}#sk-container-id-3 label.sk-toggleable__label-arrow:hover:before {color: black;}#sk-container-id-3 div.sk-estimator:hover label.sk-toggleable__label-arrow:before {color: black;}#sk-container-id-3 div.sk-toggleable__content {max-height: 0;max-width: 0;overflow: hidden;text-align: left;background-color: #f0f8ff;}#sk-container-id-3 div.sk-toggleable__content pre {margin: 0.2em;color: black;border-radius: 0.25em;background-color: #f0f8ff;}#sk-container-id-3 input.sk-toggleable__control:checked~div.sk-toggleable__content {max-height: 200px;max-width: 100%;overflow: auto;}#sk-container-id-3 input.sk-toggleable__control:checked~label.sk-toggleable__label-arrow:before {content: \"▾\";}#sk-container-id-3 div.sk-estimator input.sk-toggleable__control:checked~label.sk-toggleable__label {background-color: #d4ebff;}#sk-container-id-3 div.sk-label input.sk-toggleable__control:checked~label.sk-toggleable__label {background-color: #d4ebff;}#sk-container-id-3 input.sk-hidden--visually {border: 0;clip: rect(1px 1px 1px 1px);clip: rect(1px, 1px, 1px, 1px);height: 1px;margin: -1px;overflow: hidden;padding: 0;position: absolute;width: 1px;}#sk-container-id-3 div.sk-estimator {font-family: monospace;background-color: #f0f8ff;border: 1px dotted black;border-radius: 0.25em;box-sizing: border-box;margin-bottom: 0.5em;}#sk-container-id-3 div.sk-estimator:hover {background-color: #d4ebff;}#sk-container-id-3 div.sk-parallel-item::after {content: \"\";width: 100%;border-bottom: 1px solid gray;flex-grow: 1;}#sk-container-id-3 div.sk-label:hover label.sk-toggleable__label {background-color: #d4ebff;}#sk-container-id-3 div.sk-serial::before {content: \"\";position: absolute;border-left: 1px solid gray;box-sizing: border-box;top: 0;bottom: 0;left: 50%;z-index: 0;}#sk-container-id-3 div.sk-serial {display: flex;flex-direction: column;align-items: center;background-color: white;padding-right: 0.2em;padding-left: 0.2em;position: relative;}#sk-container-id-3 div.sk-item {position: relative;z-index: 1;}#sk-container-id-3 div.sk-parallel {display: flex;align-items: stretch;justify-content: center;background-color: white;position: relative;}#sk-container-id-3 div.sk-item::before, #sk-container-id-3 div.sk-parallel-item::before {content: \"\";position: absolute;border-left: 1px solid gray;box-sizing: border-box;top: 0;bottom: 0;left: 50%;z-index: -1;}#sk-container-id-3 div.sk-parallel-item {display: flex;flex-direction: column;z-index: 1;position: relative;background-color: white;}#sk-container-id-3 div.sk-parallel-item:first-child::after {align-self: flex-end;width: 50%;}#sk-container-id-3 div.sk-parallel-item:last-child::after {align-self: flex-start;width: 50%;}#sk-container-id-3 div.sk-parallel-item:only-child::after {width: 0;}#sk-container-id-3 div.sk-dashed-wrapped {border: 1px dashed gray;margin: 0 0.4em 0.5em 0.4em;box-sizing: border-box;padding-bottom: 0.4em;background-color: white;}#sk-container-id-3 div.sk-label label {font-family: monospace;font-weight: bold;display: inline-block;line-height: 1.2em;}#sk-container-id-3 div.sk-label-container {text-align: center;}#sk-container-id-3 div.sk-container {/* jupyter's `normalize.less` sets `[hidden] { display: none; }` but bootstrap.min.css set `[hidden] { display: none !important; }` so we also need the `!important` here to be able to override the default hidden behavior on the sphinx rendered scikit-learn.org. See: https://github.com/scikit-learn/scikit-learn/issues/21755 */display: inline-block !important;position: relative;}#sk-container-id-3 div.sk-text-repr-fallback {display: none;}</style><div id=\"sk-container-id-3\" class=\"sk-top-container\"><div class=\"sk-text-repr-fallback\"><pre>TfidfVectorizer()</pre><b>In a Jupyter environment, please rerun this cell to show the HTML representation or trust the notebook. <br />On GitHub, the HTML representation is unable to render, please try loading this page with nbviewer.org.</b></div><div class=\"sk-container\" hidden><div class=\"sk-item\"><div class=\"sk-estimator sk-toggleable\"><input class=\"sk-toggleable__control sk-hidden--visually\" id=\"sk-estimator-id-3\" type=\"checkbox\" checked><label for=\"sk-estimator-id-3\" class=\"sk-toggleable__label sk-toggleable__label-arrow\">TfidfVectorizer</label><div class=\"sk-toggleable__content\"><pre>TfidfVectorizer()</pre></div></div></div></div></div>"
      ],
      "text/plain": [
       "TfidfVectorizer()"
      ]
     },
     "execution_count": 17,
     "metadata": {},
     "output_type": "execute_result"
    }
   ],
   "source": [
    "tfidf = TfidfVectorizer()\n",
    "tfidf.fit(example_docs)"
   ]
  },
  {
   "cell_type": "code",
   "execution_count": 18,
   "metadata": {
    "colab": {
     "base_uri": "https://localhost:8080/"
    },
    "executionInfo": {
     "elapsed": 344,
     "status": "ok",
     "timestamp": 1649970453279,
     "user": {
      "displayName": "Vibhanshu Abhishek",
      "userId": "07860302646046904287"
     },
     "user_tz": 420
    },
    "id": "64gR09G9xRe5",
    "outputId": "81e5af4f-4f6e-427a-c92a-dc65ec7e2a6f"
   },
   "outputs": [
    {
     "name": "stdout",
     "output_type": "stream",
     "text": [
      "[[0.1161985  0.1161985  0.         0.         0.         0.\n",
      "  0.         0.1161985  0.73156679 0.2438556  0.         0.\n",
      "  0.         0.1161985  0.         0.         0.1161985  0.\n",
      "  0.         0.1161985  0.1161985  0.         0.2438556  0.2438556\n",
      "  0.         0.         0.2438556  0.         0.2438556  0.\n",
      "  0.         0.         0.         0.         0.         0.\n",
      "  0.         0.1161985  0.         0.         0.2438556  0.\n",
      "  0.        ]\n",
      " [0.17402264 0.17402264 0.         0.         0.36520606 0.\n",
      "  0.         0.17402264 0.         0.         0.         0.\n",
      "  0.         0.17402264 0.         0.36520606 0.17402264 0.\n",
      "  0.36520606 0.17402264 0.17402264 0.         0.         0.\n",
      "  0.         0.         0.         0.         0.         0.\n",
      "  0.36520606 0.         0.         0.         0.         0.\n",
      "  0.         0.34804529 0.         0.         0.         0.\n",
      "  0.36520606]\n",
      " [0.11731593 0.11731593 0.24620066 0.         0.         0.\n",
      "  0.24620066 0.11731593 0.         0.         0.24620066 0.24620066\n",
      "  0.24620066 0.11731593 0.24620066 0.         0.11731593 0.\n",
      "  0.         0.11731593 0.11731593 0.         0.         0.\n",
      "  0.         0.24620066 0.         0.         0.         0.\n",
      "  0.         0.         0.         0.         0.24620066 0.\n",
      "  0.24620066 0.23463186 0.         0.24620066 0.         0.49240131\n",
      "  0.        ]\n",
      " [0.19757794 0.19757794 0.         0.4146395  0.         0.4146395\n",
      "  0.         0.19757794 0.         0.         0.         0.\n",
      "  0.         0.19757794 0.         0.         0.19757794 0.4146395\n",
      "  0.         0.19757794 0.19757794 0.         0.         0.\n",
      "  0.         0.         0.         0.4146395  0.         0.\n",
      "  0.         0.         0.         0.         0.         0.\n",
      "  0.         0.19757794 0.         0.         0.         0.\n",
      "  0.        ]\n",
      " [0.15208639 0.15208639 0.         0.         0.         0.\n",
      "  0.         0.15208639 0.         0.         0.         0.\n",
      "  0.         0.15208639 0.         0.         0.15208639 0.\n",
      "  0.         0.15208639 0.15208639 0.31917038 0.         0.\n",
      "  0.31917038 0.         0.         0.         0.         0.31917038\n",
      "  0.         0.31917038 0.31917038 0.31917038 0.         0.31917038\n",
      "  0.         0.15208639 0.31917038 0.         0.         0.\n",
      "  0.        ]]\n"
     ]
    }
   ],
   "source": [
    "X = tfidf.transform(example_docs)\n",
    "print(X.toarray())"
   ]
  },
  {
   "cell_type": "code",
   "execution_count": 19,
   "metadata": {
    "id": "rMlgspPtxRe5"
   },
   "outputs": [
    {
     "data": {
      "text/plain": [
       "('your', 42)"
      ]
     },
     "execution_count": 19,
     "metadata": {},
     "output_type": "execute_result"
    }
   ],
   "source": [
    "('about', 0)\n",
    "('all', 1)\n",
    "('are', 2)\n",
    "('beyond', 3)\n",
    "('body', 4)\n",
    "('bugs', 5)\n",
    "('can', 6)\n",
    "('cat', 7)\n",
    "('cent', 8)\n",
    "('cents', 9)\n",
    "('do', 10)\n",
    "('for', 11)\n",
    "('good', 12)\n",
    "('hat', 13)\n",
    "('healthy', 14)\n",
    "('human', 15)\n",
    "('in', 16)\n",
    "('insects', 17)\n",
    "('inside', 18)\n",
    "('learning', 19)\n",
    "('library', 20)\n",
    "('like', 21)\n",
    "('money', 22)\n",
    "('new', 23)\n",
    "('no', 24)\n",
    "('oh', 25)\n",
    "('old', 26)\n",
    "('on', 27)\n",
    "('one', 28)\n",
    "('our', 29)\n",
    "('outside', 30)\n",
    "('place', 31)\n",
    "('solar', 32)\n",
    "('space', 33)\n",
    "('staying', 34)\n",
    "('system', 35)\n",
    "('that', 36)\n",
    "('the', 37)\n",
    "('there', 38)\n",
    "('things', 39)\n",
    "('two', 40)\n",
    "('you', 41)\n",
    "('your', 42)"
   ]
  },
  {
   "cell_type": "code",
   "execution_count": 20,
   "metadata": {
    "colab": {
     "base_uri": "https://localhost:8080/"
    },
    "executionInfo": {
     "elapsed": 434,
     "status": "ok",
     "timestamp": 1649970699665,
     "user": {
      "displayName": "Vibhanshu Abhishek",
      "userId": "07860302646046904287"
     },
     "user_tz": 420
    },
    "id": "cMfAGXpWxRe6",
    "outputId": "743774cd-3e6c-4c33-a03e-e3d3c9d8f773"
   },
   "outputs": [
    {
     "name": "stdout",
     "output_type": "stream",
     "text": [
      "[[1.         0.18199053 0.12268742 0.18366608 0.14137768]\n",
      " [0.18199053 1.         0.22457191 0.30944732 0.23819829]\n",
      " [0.12268742 0.22457191 1.         0.20861136 0.16057941]\n",
      " [0.18366608 0.30944732 0.20861136 1.         0.24039133]\n",
      " [0.14137768 0.23819829 0.16057941 0.24039133 1.        ]]\n"
     ]
    }
   ],
   "source": [
    "print(cosine_similarity(X))"
   ]
  },
  {
   "cell_type": "code",
   "execution_count": 21,
   "metadata": {
    "colab": {
     "base_uri": "https://localhost:8080/"
    },
    "executionInfo": {
     "elapsed": 411,
     "status": "ok",
     "timestamp": 1649970707096,
     "user": {
      "displayName": "Vibhanshu Abhishek",
      "userId": "07860302646046904287"
     },
     "user_tz": 420
    },
    "id": "fkR72cy8xRe6",
    "outputId": "4796373c-d14a-4b1c-c705-8053009d64a7"
   },
   "outputs": [
    {
     "name": "stdout",
     "output_type": "stream",
     "text": [
      "[[1.         0.46915743 0.37532595 0.48154341 0.41702883]\n",
      " [0.46915743 1.         0.55       0.64951905 0.5625    ]\n",
      " [0.37532595 0.55       1.         0.51961524 0.45      ]\n",
      " [0.48154341 0.64951905 0.51961524 1.         0.57735027]\n",
      " [0.41702883 0.5625     0.45       0.57735027 1.        ]]\n"
     ]
    }
   ],
   "source": [
    "print(cosine_similarity(Y))"
   ]
  },
  {
   "cell_type": "code",
   "execution_count": 22,
   "metadata": {
    "id": "jiWMaAfp1KBc"
   },
   "outputs": [
    {
     "name": "stdout",
     "output_type": "stream",
     "text": [
      "[[1.         0.18199053 0.12268742 0.18366608 0.14137768]\n",
      " [0.18199053 1.         0.22457191 0.30944732 0.23819829]\n",
      " [0.12268742 0.22457191 1.         0.20861136 0.16057941]\n",
      " [0.18366608 0.30944732 0.20861136 1.         0.24039133]\n",
      " [0.14137768 0.23819829 0.16057941 0.24039133 1.        ]]\n"
     ]
    }
   ],
   "source": [
    "print(cosine_similarity(X))"
   ]
  },
  {
   "cell_type": "code",
   "execution_count": 23,
   "metadata": {
    "id": "A_-oVf_S1rGR"
   },
   "outputs": [
    {
     "name": "stdout",
     "output_type": "stream",
     "text": [
      "[[1.         0.46915743 0.37532595 0.48154341 0.41702883]\n",
      " [0.46915743 1.         0.55       0.64951905 0.5625    ]\n",
      " [0.37532595 0.55       1.         0.51961524 0.45      ]\n",
      " [0.48154341 0.64951905 0.51961524 1.         0.57735027]\n",
      " [0.41702883 0.5625     0.45       0.57735027 1.        ]]\n"
     ]
    }
   ],
   "source": [
    "print(cosine_similarity(Y))"
   ]
  },
  {
   "cell_type": "markdown",
   "metadata": {
    "id": "Q_R2NqfHxRe6"
   },
   "source": [
    "## Create TFIDF vectors for newsgroup articles"
   ]
  },
  {
   "cell_type": "code",
   "execution_count": 24,
   "metadata": {
    "colab": {
     "base_uri": "https://localhost:8080/"
    },
    "executionInfo": {
     "elapsed": 3377,
     "status": "ok",
     "timestamp": 1649971140209,
     "user": {
      "displayName": "Vibhanshu Abhishek",
      "userId": "07860302646046904287"
     },
     "user_tz": 420
    },
    "id": "pKeax8ata-yc",
    "outputId": "8870247b-5e78-4830-e07f-8cab7ae249e9"
   },
   "outputs": [
    {
     "data": {
      "text/html": [
       "<style>#sk-container-id-4 {color: black;background-color: white;}#sk-container-id-4 pre{padding: 0;}#sk-container-id-4 div.sk-toggleable {background-color: white;}#sk-container-id-4 label.sk-toggleable__label {cursor: pointer;display: block;width: 100%;margin-bottom: 0;padding: 0.3em;box-sizing: border-box;text-align: center;}#sk-container-id-4 label.sk-toggleable__label-arrow:before {content: \"▸\";float: left;margin-right: 0.25em;color: #696969;}#sk-container-id-4 label.sk-toggleable__label-arrow:hover:before {color: black;}#sk-container-id-4 div.sk-estimator:hover label.sk-toggleable__label-arrow:before {color: black;}#sk-container-id-4 div.sk-toggleable__content {max-height: 0;max-width: 0;overflow: hidden;text-align: left;background-color: #f0f8ff;}#sk-container-id-4 div.sk-toggleable__content pre {margin: 0.2em;color: black;border-radius: 0.25em;background-color: #f0f8ff;}#sk-container-id-4 input.sk-toggleable__control:checked~div.sk-toggleable__content {max-height: 200px;max-width: 100%;overflow: auto;}#sk-container-id-4 input.sk-toggleable__control:checked~label.sk-toggleable__label-arrow:before {content: \"▾\";}#sk-container-id-4 div.sk-estimator input.sk-toggleable__control:checked~label.sk-toggleable__label {background-color: #d4ebff;}#sk-container-id-4 div.sk-label input.sk-toggleable__control:checked~label.sk-toggleable__label {background-color: #d4ebff;}#sk-container-id-4 input.sk-hidden--visually {border: 0;clip: rect(1px 1px 1px 1px);clip: rect(1px, 1px, 1px, 1px);height: 1px;margin: -1px;overflow: hidden;padding: 0;position: absolute;width: 1px;}#sk-container-id-4 div.sk-estimator {font-family: monospace;background-color: #f0f8ff;border: 1px dotted black;border-radius: 0.25em;box-sizing: border-box;margin-bottom: 0.5em;}#sk-container-id-4 div.sk-estimator:hover {background-color: #d4ebff;}#sk-container-id-4 div.sk-parallel-item::after {content: \"\";width: 100%;border-bottom: 1px solid gray;flex-grow: 1;}#sk-container-id-4 div.sk-label:hover label.sk-toggleable__label {background-color: #d4ebff;}#sk-container-id-4 div.sk-serial::before {content: \"\";position: absolute;border-left: 1px solid gray;box-sizing: border-box;top: 0;bottom: 0;left: 50%;z-index: 0;}#sk-container-id-4 div.sk-serial {display: flex;flex-direction: column;align-items: center;background-color: white;padding-right: 0.2em;padding-left: 0.2em;position: relative;}#sk-container-id-4 div.sk-item {position: relative;z-index: 1;}#sk-container-id-4 div.sk-parallel {display: flex;align-items: stretch;justify-content: center;background-color: white;position: relative;}#sk-container-id-4 div.sk-item::before, #sk-container-id-4 div.sk-parallel-item::before {content: \"\";position: absolute;border-left: 1px solid gray;box-sizing: border-box;top: 0;bottom: 0;left: 50%;z-index: -1;}#sk-container-id-4 div.sk-parallel-item {display: flex;flex-direction: column;z-index: 1;position: relative;background-color: white;}#sk-container-id-4 div.sk-parallel-item:first-child::after {align-self: flex-end;width: 50%;}#sk-container-id-4 div.sk-parallel-item:last-child::after {align-self: flex-start;width: 50%;}#sk-container-id-4 div.sk-parallel-item:only-child::after {width: 0;}#sk-container-id-4 div.sk-dashed-wrapped {border: 1px dashed gray;margin: 0 0.4em 0.5em 0.4em;box-sizing: border-box;padding-bottom: 0.4em;background-color: white;}#sk-container-id-4 div.sk-label label {font-family: monospace;font-weight: bold;display: inline-block;line-height: 1.2em;}#sk-container-id-4 div.sk-label-container {text-align: center;}#sk-container-id-4 div.sk-container {/* jupyter's `normalize.less` sets `[hidden] { display: none; }` but bootstrap.min.css set `[hidden] { display: none !important; }` so we also need the `!important` here to be able to override the default hidden behavior on the sphinx rendered scikit-learn.org. See: https://github.com/scikit-learn/scikit-learn/issues/21755 */display: inline-block !important;position: relative;}#sk-container-id-4 div.sk-text-repr-fallback {display: none;}</style><div id=\"sk-container-id-4\" class=\"sk-top-container\"><div class=\"sk-text-repr-fallback\"><pre>TfidfVectorizer()</pre><b>In a Jupyter environment, please rerun this cell to show the HTML representation or trust the notebook. <br />On GitHub, the HTML representation is unable to render, please try loading this page with nbviewer.org.</b></div><div class=\"sk-container\" hidden><div class=\"sk-item\"><div class=\"sk-estimator sk-toggleable\"><input class=\"sk-toggleable__control sk-hidden--visually\" id=\"sk-estimator-id-4\" type=\"checkbox\" checked><label for=\"sk-estimator-id-4\" class=\"sk-toggleable__label sk-toggleable__label-arrow\">TfidfVectorizer</label><div class=\"sk-toggleable__content\"><pre>TfidfVectorizer()</pre></div></div></div></div></div>"
      ],
      "text/plain": [
       "TfidfVectorizer()"
      ]
     },
     "execution_count": 24,
     "metadata": {},
     "output_type": "execute_result"
    }
   ],
   "source": [
    "tfidf = TfidfVectorizer()\n",
    "tfidf.fit(train.data)"
   ]
  },
  {
   "cell_type": "code",
   "execution_count": 25,
   "metadata": {
    "colab": {
     "base_uri": "https://localhost:8080/"
    },
    "executionInfo": {
     "elapsed": 296,
     "status": "ok",
     "timestamp": 1649971148963,
     "user": {
      "displayName": "Vibhanshu Abhishek",
      "userId": "07860302646046904287"
     },
     "user_tz": 420
    },
    "id": "E7m6bH15bccj",
    "outputId": "3148d028-24f4-4092-9cf6-c82ce7d8a0f1"
   },
   "outputs": [
    {
     "name": "stdout",
     "output_type": "stream",
     "text": [
      "the 1.0693987980198238\n",
      "man 3.7645403890569527\n",
      "microsoft 5.214972550010716\n"
     ]
    }
   ],
   "source": [
    "print('the', tfidf.idf_[tfidf.vocabulary_['the']])\n",
    "print('man', tfidf.idf_[tfidf.vocabulary_['man']])\n",
    "print('microsoft', tfidf.idf_[tfidf.vocabulary_['microsoft']])"
   ]
  },
  {
   "cell_type": "code",
   "execution_count": 26,
   "metadata": {
    "colab": {
     "base_uri": "https://localhost:8080/"
    },
    "executionInfo": {
     "elapsed": 758,
     "status": "ok",
     "timestamp": 1649971152215,
     "user": {
      "displayName": "Vibhanshu Abhishek",
      "userId": "07860302646046904287"
     },
     "user_tz": 420
    },
    "id": "IEWVNsJSb5gb",
    "outputId": "1cb0070e-9eee-4f62-9ba7-c630c6ad4465"
   },
   "outputs": [
    {
     "name": "stdout",
     "output_type": "stream",
     "text": [
      "Vocabulary Size: 107212\n",
      "\" We are going to microsoft \" -> \n",
      "  (0, 101951)\t0.34417196761665414\n",
      "  (0, 95302)\t0.1622831702359858\n",
      "  (0, 67270)\t0.765634619765414\n",
      "  (0, 48917)\t0.4590925435788398\n",
      "  (0, 23184)\t0.24134517772688163\n",
      "101951 we\n",
      "95302 to\n",
      "67270 microsoft\n",
      "48917 going\n",
      "23184 are\n",
      "\n",
      "\" We are going to microsoft \" -> \n",
      "  (0, 23184)\t1\n",
      "  (0, 48917)\t1\n",
      "  (0, 67270)\t1\n",
      "  (0, 95302)\t1\n",
      "  (0, 101951)\t1\n",
      "23184 are\n",
      "48917 going\n",
      "67270 microsoft\n",
      "95302 to\n",
      "101951 we\n",
      "\n"
     ]
    }
   ],
   "source": [
    "print('Vocabulary Size:', len(tfidf.vocabulary_))\n",
    "sentence2vec('We are going to microsoft', tfidf)\n",
    "sentence2vec('We are going to microsoft', unigram)"
   ]
  },
  {
   "cell_type": "code",
   "execution_count": 27,
   "metadata": {
    "id": "djy9VnyOrVhi"
   },
   "outputs": [
    {
     "data": {
      "image/png": "[encoded data removed]",
      "text/plain": [
       "<Figure size 640x480 with 1 Axes>"
      ]
     },
     "metadata": {},
     "output_type": "display_data"
    },
    {
     "data": {
      "image/png": "[encoded data removed]",
      "text/plain": [
       "<Figure size 640x480 with 1 Axes>"
      ]
     },
     "metadata": {},
     "output_type": "display_data"
    }
   ],
   "source": [
    "show_distribution(tfidf, train)"
   ]
  },
  {
   "cell_type": "markdown",
   "metadata": {
    "id": "lOMzcyforJrM"
   },
   "source": [
    "### Tutorial with bigram and trigram"
   ]
  },
  {
   "cell_type": "code",
   "execution_count": 28,
   "metadata": {
    "id": "aUa5CrfzcV_N"
   },
   "outputs": [],
   "source": [
    "tfidf_bigram = TfidfVectorizer(ngram_range=(2,2))\n",
    "tfidf_trigram = TfidfVectorizer(ngram_range=(3,3))\n",
    "tfidf_combined = TfidfVectorizer(ngram_range=(1,3))\n",
    "tfidf_bigram.fit(train.data)\n",
    "tfidf_trigram.fit(train.data)\n",
    "tfidf_combined.fit(train.data)\n",
    "tfidf_vectorizers = [tfidf, tfidf_bigram, tfidf_trigram, tfidf_combined]"
   ]
  },
  {
   "cell_type": "code",
   "execution_count": 29,
   "metadata": {
    "id": "52D7X_JFsiu2"
   },
   "outputs": [
    {
     "data": {
      "image/png": "[encoded data removed]",
      "text/plain": [
       "<Figure size 640x480 with 1 Axes>"
      ]
     },
     "metadata": {},
     "output_type": "display_data"
    },
    {
     "data": {
      "image/png": "[encoded data removed]",
      "text/plain": [
       "<Figure size 640x480 with 1 Axes>"
      ]
     },
     "metadata": {},
     "output_type": "display_data"
    }
   ],
   "source": [
    "show_distribution(tfidf_bigram, train)"
   ]
  },
  {
   "cell_type": "code",
   "execution_count": 30,
   "metadata": {
    "id": "f_DYEEuccf5k"
   },
   "outputs": [
    {
     "name": "stdout",
     "output_type": "stream",
     "text": [
      "Vocabulary Size: 825425\n",
      "\" We are going to microsoft \" -> \n",
      "  (0, 783807)\t0.37403683743500654\n",
      "  (0, 736413)\t0.7336470123086184\n",
      "  (0, 328698)\t0.32571753506505674\n",
      "  (0, 109903)\t0.46450682763916384\n",
      "783807 we are\n",
      "736413 to microsoft\n",
      "328698 going to\n",
      "109903 are going\n",
      "\n",
      "Vocabulary Size: 2447162\n",
      "\" We are going to microsoft \" -> \n",
      "  (0, 2310052)\t0.46430036807785535\n",
      "  (0, 2309963)\t0.2594895230780238\n",
      "  (0, 2309753)\t0.15107675883552044\n",
      "  (0, 2166280)\t0.5089704924175021\n",
      "  (0, 2147049)\t0.07123536394490301\n",
      "  (0, 1336821)\t0.33608081915392957\n",
      "  (0, 919995)\t0.225967817533126\n",
      "  (0, 919583)\t0.20152197161710347\n",
      "  (0, 304443)\t0.33233605156914814\n",
      "  (0, 304432)\t0.3222534336381154\n",
      "  (0, 300895)\t0.10594020037149467\n",
      "2310052 we are going\n",
      "2309963 we are\n",
      "2309753 we\n",
      "2166280 to microsoft\n",
      "2147049 to\n",
      "1336821 microsoft\n",
      "919995 going to\n",
      "919583 going\n",
      "304443 are going to\n",
      "304432 are going\n",
      "300895 are\n",
      "\n"
     ]
    }
   ],
   "source": [
    "print('Vocabulary Size:', len(tfidf_bigram.vocabulary_))\n",
    "sentence2vec('We are going to microsoft', tfidf_bigram)\n",
    "print('Vocabulary Size:', len(tfidf_combined.vocabulary_))\n",
    "sentence2vec('We are going to microsoft', tfidf_combined)"
   ]
  },
  {
   "cell_type": "markdown",
   "metadata": {
    "id": "YD738pOrxRe8"
   },
   "source": [
    "# Excercise 1\n",
    "1. Find two documents that are very close in the Bag-of-word space but very far apart in the TFIDF space. \n",
    "2. Find two documents that are very close in the TFIDF space but very far apart in the Bag-of-word space. "
   ]
  },
  {
   "cell_type": "code",
   "execution_count": 31,
   "metadata": {
    "id": "BoDUKbst-8EX"
   },
   "outputs": [],
   "source": [
    "tfidf_vectors = tfidf.transform(train.data)"
   ]
  },
  {
   "cell_type": "code",
   "execution_count": 32,
   "metadata": {
    "id": "4ChVEtJm_RYg"
   },
   "outputs": [],
   "source": [
    "bow = CountVectorizer()\n",
    "bow.fit(train.data)\n",
    "bow_vectors = bow.transform(train.data)"
   ]
  },
  {
   "cell_type": "code",
   "execution_count": 33,
   "metadata": {
    "id": "ShMexEnf_qul"
   },
   "outputs": [],
   "source": [
    "cos_tfidf = cosine_similarity(tfidf_vectors)\n",
    "cos_bow = cosine_similarity(bow_vectors)"
   ]
  },
  {
   "cell_type": "code",
   "execution_count": 34,
   "metadata": {},
   "outputs": [
    {
     "data": {
      "text/plain": [
       "array([[1.        , 0.04470404, 0.11153385, ..., 0.02597932, 0.04780809,\n",
       "        0.08958609],\n",
       "       [0.04470404, 1.        , 0.06288753, ..., 0.01340188, 0.03291365,\n",
       "        0.05969698],\n",
       "       [0.11153385, 0.06288753, 1.        , ..., 0.04887857, 0.06691767,\n",
       "        0.15398204],\n",
       "       ...,\n",
       "       [0.02597932, 0.01340188, 0.04887857, ..., 1.        , 0.01615664,\n",
       "        0.02895161],\n",
       "       [0.04780809, 0.03291365, 0.06691767, ..., 0.01615664, 1.        ,\n",
       "        0.07928381],\n",
       "       [0.08958609, 0.05969698, 0.15398204, ..., 0.02895161, 0.07928381,\n",
       "        1.        ]])"
      ]
     },
     "execution_count": 34,
     "metadata": {},
     "output_type": "execute_result"
    }
   ],
   "source": [
    "cos_tfidf"
   ]
  },
  {
   "cell_type": "code",
   "execution_count": 35,
   "metadata": {},
   "outputs": [
    {
     "data": {
      "text/html": [
       "<div>\n",
       "<style scoped>\n",
       "    .dataframe tbody tr th:only-of-type {\n",
       "        vertical-align: middle;\n",
       "    }\n",
       "\n",
       "    .dataframe tbody tr th {\n",
       "        vertical-align: top;\n",
       "    }\n",
       "\n",
       "    .dataframe thead th {\n",
       "        text-align: right;\n",
       "    }\n",
       "</style>\n",
       "<table border=\"1\" class=\"dataframe\">\n",
       "  <thead>\n",
       "    <tr style=\"text-align: right;\">\n",
       "      <th></th>\n",
       "      <th>0</th>\n",
       "      <th>1</th>\n",
       "      <th>2</th>\n",
       "      <th>3</th>\n",
       "      <th>4</th>\n",
       "      <th>5</th>\n",
       "      <th>6</th>\n",
       "      <th>7</th>\n",
       "      <th>8</th>\n",
       "      <th>9</th>\n",
       "      <th>...</th>\n",
       "      <th>7909</th>\n",
       "      <th>7910</th>\n",
       "      <th>7911</th>\n",
       "      <th>7912</th>\n",
       "      <th>7913</th>\n",
       "      <th>7914</th>\n",
       "      <th>7915</th>\n",
       "      <th>7916</th>\n",
       "      <th>7917</th>\n",
       "      <th>7918</th>\n",
       "    </tr>\n",
       "  </thead>\n",
       "  <tbody>\n",
       "    <tr>\n",
       "      <th>0</th>\n",
       "      <td>1.000000</td>\n",
       "      <td>0.312760</td>\n",
       "      <td>0.515140</td>\n",
       "      <td>0.321309</td>\n",
       "      <td>0.373357</td>\n",
       "      <td>0.422188</td>\n",
       "      <td>0.274676</td>\n",
       "      <td>0.305019</td>\n",
       "      <td>0.286885</td>\n",
       "      <td>0.406475</td>\n",
       "      <td>...</td>\n",
       "      <td>0.351560</td>\n",
       "      <td>0.408474</td>\n",
       "      <td>0.460319</td>\n",
       "      <td>0.460367</td>\n",
       "      <td>0.172590</td>\n",
       "      <td>0.456133</td>\n",
       "      <td>0.148333</td>\n",
       "      <td>0.176545</td>\n",
       "      <td>0.323110</td>\n",
       "      <td>0.440039</td>\n",
       "    </tr>\n",
       "    <tr>\n",
       "      <th>1</th>\n",
       "      <td>0.312760</td>\n",
       "      <td>1.000000</td>\n",
       "      <td>0.367477</td>\n",
       "      <td>0.210414</td>\n",
       "      <td>0.248730</td>\n",
       "      <td>0.330909</td>\n",
       "      <td>0.226776</td>\n",
       "      <td>0.195384</td>\n",
       "      <td>0.271607</td>\n",
       "      <td>0.307287</td>\n",
       "      <td>...</td>\n",
       "      <td>0.255369</td>\n",
       "      <td>0.322818</td>\n",
       "      <td>0.362908</td>\n",
       "      <td>0.309928</td>\n",
       "      <td>0.169692</td>\n",
       "      <td>0.318914</td>\n",
       "      <td>0.173097</td>\n",
       "      <td>0.131818</td>\n",
       "      <td>0.268403</td>\n",
       "      <td>0.390542</td>\n",
       "    </tr>\n",
       "    <tr>\n",
       "      <th>2</th>\n",
       "      <td>0.515140</td>\n",
       "      <td>0.367477</td>\n",
       "      <td>1.000000</td>\n",
       "      <td>0.357064</td>\n",
       "      <td>0.520928</td>\n",
       "      <td>0.543917</td>\n",
       "      <td>0.236981</td>\n",
       "      <td>0.363050</td>\n",
       "      <td>0.350056</td>\n",
       "      <td>0.590660</td>\n",
       "      <td>...</td>\n",
       "      <td>0.419274</td>\n",
       "      <td>0.576288</td>\n",
       "      <td>0.701592</td>\n",
       "      <td>0.597899</td>\n",
       "      <td>0.174498</td>\n",
       "      <td>0.648514</td>\n",
       "      <td>0.194558</td>\n",
       "      <td>0.162569</td>\n",
       "      <td>0.417677</td>\n",
       "      <td>0.611727</td>\n",
       "    </tr>\n",
       "    <tr>\n",
       "      <th>3</th>\n",
       "      <td>0.321309</td>\n",
       "      <td>0.210414</td>\n",
       "      <td>0.357064</td>\n",
       "      <td>1.000000</td>\n",
       "      <td>0.350795</td>\n",
       "      <td>0.301970</td>\n",
       "      <td>0.110967</td>\n",
       "      <td>0.268891</td>\n",
       "      <td>0.167640</td>\n",
       "      <td>0.334441</td>\n",
       "      <td>...</td>\n",
       "      <td>0.259218</td>\n",
       "      <td>0.225277</td>\n",
       "      <td>0.335735</td>\n",
       "      <td>0.332869</td>\n",
       "      <td>0.126649</td>\n",
       "      <td>0.301364</td>\n",
       "      <td>0.109323</td>\n",
       "      <td>0.149160</td>\n",
       "      <td>0.327076</td>\n",
       "      <td>0.327408</td>\n",
       "    </tr>\n",
       "    <tr>\n",
       "      <th>4</th>\n",
       "      <td>0.373357</td>\n",
       "      <td>0.248730</td>\n",
       "      <td>0.520928</td>\n",
       "      <td>0.350795</td>\n",
       "      <td>1.000000</td>\n",
       "      <td>0.409726</td>\n",
       "      <td>0.133669</td>\n",
       "      <td>0.357012</td>\n",
       "      <td>0.244118</td>\n",
       "      <td>0.433813</td>\n",
       "      <td>...</td>\n",
       "      <td>0.350539</td>\n",
       "      <td>0.369756</td>\n",
       "      <td>0.495199</td>\n",
       "      <td>0.458251</td>\n",
       "      <td>0.141732</td>\n",
       "      <td>0.426188</td>\n",
       "      <td>0.105351</td>\n",
       "      <td>0.107062</td>\n",
       "      <td>0.442556</td>\n",
       "      <td>0.461302</td>\n",
       "    </tr>\n",
       "    <tr>\n",
       "      <th>...</th>\n",
       "      <td>...</td>\n",
       "      <td>...</td>\n",
       "      <td>...</td>\n",
       "      <td>...</td>\n",
       "      <td>...</td>\n",
       "      <td>...</td>\n",
       "      <td>...</td>\n",
       "      <td>...</td>\n",
       "      <td>...</td>\n",
       "      <td>...</td>\n",
       "      <td>...</td>\n",
       "      <td>...</td>\n",
       "      <td>...</td>\n",
       "      <td>...</td>\n",
       "      <td>...</td>\n",
       "      <td>...</td>\n",
       "      <td>...</td>\n",
       "      <td>...</td>\n",
       "      <td>...</td>\n",
       "      <td>...</td>\n",
       "      <td>...</td>\n",
       "    </tr>\n",
       "    <tr>\n",
       "      <th>7914</th>\n",
       "      <td>0.456133</td>\n",
       "      <td>0.318914</td>\n",
       "      <td>0.648514</td>\n",
       "      <td>0.301364</td>\n",
       "      <td>0.426188</td>\n",
       "      <td>0.566536</td>\n",
       "      <td>0.244061</td>\n",
       "      <td>0.262302</td>\n",
       "      <td>0.324361</td>\n",
       "      <td>0.516140</td>\n",
       "      <td>...</td>\n",
       "      <td>0.382332</td>\n",
       "      <td>0.616562</td>\n",
       "      <td>0.688528</td>\n",
       "      <td>0.597337</td>\n",
       "      <td>0.164519</td>\n",
       "      <td>1.000000</td>\n",
       "      <td>0.143771</td>\n",
       "      <td>0.128753</td>\n",
       "      <td>0.386248</td>\n",
       "      <td>0.568155</td>\n",
       "    </tr>\n",
       "    <tr>\n",
       "      <th>7915</th>\n",
       "      <td>0.148333</td>\n",
       "      <td>0.173097</td>\n",
       "      <td>0.194558</td>\n",
       "      <td>0.109323</td>\n",
       "      <td>0.105351</td>\n",
       "      <td>0.209462</td>\n",
       "      <td>0.179124</td>\n",
       "      <td>0.133751</td>\n",
       "      <td>0.160360</td>\n",
       "      <td>0.159959</td>\n",
       "      <td>...</td>\n",
       "      <td>0.212190</td>\n",
       "      <td>0.164331</td>\n",
       "      <td>0.131382</td>\n",
       "      <td>0.161197</td>\n",
       "      <td>0.112551</td>\n",
       "      <td>0.143771</td>\n",
       "      <td>1.000000</td>\n",
       "      <td>0.092990</td>\n",
       "      <td>0.112059</td>\n",
       "      <td>0.224941</td>\n",
       "    </tr>\n",
       "    <tr>\n",
       "      <th>7916</th>\n",
       "      <td>0.176545</td>\n",
       "      <td>0.131818</td>\n",
       "      <td>0.162569</td>\n",
       "      <td>0.149160</td>\n",
       "      <td>0.107062</td>\n",
       "      <td>0.176129</td>\n",
       "      <td>0.175292</td>\n",
       "      <td>0.135052</td>\n",
       "      <td>0.126750</td>\n",
       "      <td>0.141915</td>\n",
       "      <td>...</td>\n",
       "      <td>0.218941</td>\n",
       "      <td>0.145054</td>\n",
       "      <td>0.120029</td>\n",
       "      <td>0.187795</td>\n",
       "      <td>0.079430</td>\n",
       "      <td>0.128753</td>\n",
       "      <td>0.092990</td>\n",
       "      <td>1.000000</td>\n",
       "      <td>0.129777</td>\n",
       "      <td>0.195984</td>\n",
       "    </tr>\n",
       "    <tr>\n",
       "      <th>7917</th>\n",
       "      <td>0.323110</td>\n",
       "      <td>0.268403</td>\n",
       "      <td>0.417677</td>\n",
       "      <td>0.327076</td>\n",
       "      <td>0.442556</td>\n",
       "      <td>0.445177</td>\n",
       "      <td>0.161867</td>\n",
       "      <td>0.278920</td>\n",
       "      <td>0.229115</td>\n",
       "      <td>0.370020</td>\n",
       "      <td>...</td>\n",
       "      <td>0.260011</td>\n",
       "      <td>0.378022</td>\n",
       "      <td>0.395553</td>\n",
       "      <td>0.384321</td>\n",
       "      <td>0.162354</td>\n",
       "      <td>0.386248</td>\n",
       "      <td>0.112059</td>\n",
       "      <td>0.129777</td>\n",
       "      <td>1.000000</td>\n",
       "      <td>0.363200</td>\n",
       "    </tr>\n",
       "    <tr>\n",
       "      <th>7918</th>\n",
       "      <td>0.440039</td>\n",
       "      <td>0.390542</td>\n",
       "      <td>0.611727</td>\n",
       "      <td>0.327408</td>\n",
       "      <td>0.461302</td>\n",
       "      <td>0.589639</td>\n",
       "      <td>0.268492</td>\n",
       "      <td>0.396167</td>\n",
       "      <td>0.346353</td>\n",
       "      <td>0.569609</td>\n",
       "      <td>...</td>\n",
       "      <td>0.446899</td>\n",
       "      <td>0.510822</td>\n",
       "      <td>0.604323</td>\n",
       "      <td>0.613338</td>\n",
       "      <td>0.211711</td>\n",
       "      <td>0.568155</td>\n",
       "      <td>0.224941</td>\n",
       "      <td>0.195984</td>\n",
       "      <td>0.363200</td>\n",
       "      <td>1.000000</td>\n",
       "    </tr>\n",
       "  </tbody>\n",
       "</table>\n",
       "<p>7919 rows × 7919 columns</p>\n",
       "</div>"
      ],
      "text/plain": [
       "          0         1         2         3         4         5         6     \\\n",
       "0     1.000000  0.312760  0.515140  0.321309  0.373357  0.422188  0.274676   \n",
       "1     0.312760  1.000000  0.367477  0.210414  0.248730  0.330909  0.226776   \n",
       "2     0.515140  0.367477  1.000000  0.357064  0.520928  0.543917  0.236981   \n",
       "3     0.321309  0.210414  0.357064  1.000000  0.350795  0.301970  0.110967   \n",
       "4     0.373357  0.248730  0.520928  0.350795  1.000000  0.409726  0.133669   \n",
       "...        ...       ...       ...       ...       ...       ...       ...   \n",
       "7914  0.456133  0.318914  0.648514  0.301364  0.426188  0.566536  0.244061   \n",
       "7915  0.148333  0.173097  0.194558  0.109323  0.105351  0.209462  0.179124   \n",
       "7916  0.176545  0.131818  0.162569  0.149160  0.107062  0.176129  0.175292   \n",
       "7917  0.323110  0.268403  0.417677  0.327076  0.442556  0.445177  0.161867   \n",
       "7918  0.440039  0.390542  0.611727  0.327408  0.461302  0.589639  0.268492   \n",
       "\n",
       "          7         8         9     ...      7909      7910      7911  \\\n",
       "0     0.305019  0.286885  0.406475  ...  0.351560  0.408474  0.460319   \n",
       "1     0.195384  0.271607  0.307287  ...  0.255369  0.322818  0.362908   \n",
       "2     0.363050  0.350056  0.590660  ...  0.419274  0.576288  0.701592   \n",
       "3     0.268891  0.167640  0.334441  ...  0.259218  0.225277  0.335735   \n",
       "4     0.357012  0.244118  0.433813  ...  0.350539  0.369756  0.495199   \n",
       "...        ...       ...       ...  ...       ...       ...       ...   \n",
       "7914  0.262302  0.324361  0.516140  ...  0.382332  0.616562  0.688528   \n",
       "7915  0.133751  0.160360  0.159959  ...  0.212190  0.164331  0.131382   \n",
       "7916  0.135052  0.126750  0.141915  ...  0.218941  0.145054  0.120029   \n",
       "7917  0.278920  0.229115  0.370020  ...  0.260011  0.378022  0.395553   \n",
       "7918  0.396167  0.346353  0.569609  ...  0.446899  0.510822  0.604323   \n",
       "\n",
       "          7912      7913      7914      7915      7916      7917      7918  \n",
       "0     0.460367  0.172590  0.456133  0.148333  0.176545  0.323110  0.440039  \n",
       "1     0.309928  0.169692  0.318914  0.173097  0.131818  0.268403  0.390542  \n",
       "2     0.597899  0.174498  0.648514  0.194558  0.162569  0.417677  0.611727  \n",
       "3     0.332869  0.126649  0.301364  0.109323  0.149160  0.327076  0.327408  \n",
       "4     0.458251  0.141732  0.426188  0.105351  0.107062  0.442556  0.461302  \n",
       "...        ...       ...       ...       ...       ...       ...       ...  \n",
       "7914  0.597337  0.164519  1.000000  0.143771  0.128753  0.386248  0.568155  \n",
       "7915  0.161197  0.112551  0.143771  1.000000  0.092990  0.112059  0.224941  \n",
       "7916  0.187795  0.079430  0.128753  0.092990  1.000000  0.129777  0.195984  \n",
       "7917  0.384321  0.162354  0.386248  0.112059  0.129777  1.000000  0.363200  \n",
       "7918  0.613338  0.211711  0.568155  0.224941  0.195984  0.363200  1.000000  \n",
       "\n",
       "[7919 rows x 7919 columns]"
      ]
     },
     "execution_count": 35,
     "metadata": {},
     "output_type": "execute_result"
    }
   ],
   "source": [
    "pd.DataFrame(cos_bow)"
   ]
  },
  {
   "cell_type": "code",
   "execution_count": null,
   "metadata": {},
   "outputs": [],
   "source": []
  },
  {
   "cell_type": "code",
   "execution_count": 36,
   "metadata": {
    "colab": {
     "base_uri": "https://localhost:8080/"
    },
    "executionInfo": {
     "elapsed": 559,
     "status": "ok",
     "timestamp": 1649972397492,
     "user": {
      "displayName": "Vibhanshu Abhishek",
      "userId": "07860302646046904287"
     },
     "user_tz": 420
    },
    "id": "aSo5zEq6ADGM",
    "outputId": "ac7f00bb-d45a-446d-eaf2-83e12120a020"
   },
   "outputs": [
    {
     "data": {
      "text/plain": [
       "(array([ 524, 2397]), array([2397,  524]))"
      ]
     },
     "execution_count": 36,
     "metadata": {},
     "output_type": "execute_result"
    }
   ],
   "source": [
    "diff = cos_bow - cos_tfidf \n",
    "np.where(diff==np.max(diff))"
   ]
  },
  {
   "cell_type": "code",
   "execution_count": 37,
   "metadata": {
    "colab": {
     "base_uri": "https://localhost:8080/"
    },
    "executionInfo": {
     "elapsed": 941,
     "status": "ok",
     "timestamp": 1649972449301,
     "user": {
      "displayName": "Vibhanshu Abhishek",
      "userId": "07860302646046904287"
     },
     "user_tz": 420
    },
    "id": "yDTalPA7BUrN",
    "outputId": "507b6d01-0b3b-4f0b-f570-5226d7b03751"
   },
   "outputs": [
    {
     "data": {
      "text/plain": [
       "(array([ 726, 5339]), array([5339,  726]))"
      ]
     },
     "execution_count": 37,
     "metadata": {},
     "output_type": "execute_result"
    }
   ],
   "source": [
    "diff = cos_tfidf - cos_bow\n",
    "np.where(diff==np.max(diff))"
   ]
  },
  {
   "cell_type": "markdown",
   "metadata": {
    "id": "I6eoVMSoat33"
   },
   "source": [
    "## Classification with MNB\n",
    "\n",
    "- function for training and testing given vectorizer, classifier, return eval"
   ]
  },
  {
   "cell_type": "code",
   "execution_count": 38,
   "metadata": {
    "id": "KlT8JNM2SJbm"
   },
   "outputs": [],
   "source": [
    "def classification(vectorizer, model, fit_vect=False):\n",
    "  if fit_vect:\n",
    "    vectorizer.fit(train.data)\n",
    "  train.vecs = vectorizer.transform(train.data)\n",
    "  test.vecs = vectorizer.transform(test.data)\n",
    "  model.fit(train.vecs, train.labels)\n",
    "  train_preds = model.predict(train.vecs)\n",
    "  train_f1 = f1_score(train.labels, train_preds, average='micro')\n",
    "  test_preds = model.predict(test.vecs)\n",
    "  test_f1 = f1_score(test.labels, test_preds, average='micro')\n",
    "  return train_f1, test_f1  "
   ]
  },
  {
   "cell_type": "markdown",
   "metadata": {
    "id": "nXR5rKYX4Kxc"
   },
   "source": [
    "### MNB with default parameters"
   ]
  },
  {
   "cell_type": "code",
   "execution_count": 39,
   "metadata": {
    "colab": {
     "base_uri": "https://localhost:8080/"
    },
    "executionInfo": {
     "elapsed": 10102,
     "status": "ok",
     "timestamp": 1649972531433,
     "user": {
      "displayName": "Vibhanshu Abhishek",
      "userId": "07860302646046904287"
     },
     "user_tz": 420
    },
    "id": "XltpsSpTBZ9I",
    "outputId": "80385b65-0d88-48cf-86d3-ce2e77a71d4d"
   },
   "outputs": [
    {
     "data": {
      "text/plain": [
       "(0.9963379214547291, 0.8150220913107512)"
      ]
     },
     "execution_count": 39,
     "metadata": {},
     "output_type": "execute_result"
    }
   ],
   "source": [
    "model = MultinomialNB()\n",
    "classification(tfidf_trigram, model)"
   ]
  },
  {
   "cell_type": "code",
   "execution_count": 40,
   "metadata": {},
   "outputs": [
    {
     "data": {
      "text/plain": [
       "(0.9984846571536811, 0.844182621502209)"
      ]
     },
     "execution_count": 40,
     "metadata": {},
     "output_type": "execute_result"
    }
   ],
   "source": [
    "bow_trigram = CountVectorizer(ngram_range=(3,3))\n",
    "bow_trigram.fit(train.data)\n",
    "classification(bow_trigram, model)"
   ]
  },
  {
   "cell_type": "code",
   "execution_count": 41,
   "metadata": {
    "colab": {
     "base_uri": "https://localhost:8080/"
    },
    "executionInfo": {
     "elapsed": 17740,
     "status": "ok",
     "timestamp": 1649972727228,
     "user": {
      "displayName": "Vibhanshu Abhishek",
      "userId": "07860302646046904287"
     },
     "user_tz": 420
    },
    "id": "zExY1Wm2CXb9",
    "outputId": "596455b6-fbb0-4060-9f40-1116e6e6b7b4"
   },
   "outputs": [
    {
     "data": {
      "text/plain": [
       "(0.9773961358757419, 0.8459499263622975)"
      ]
     },
     "execution_count": 41,
     "metadata": {},
     "output_type": "execute_result"
    }
   ],
   "source": [
    "model = MultinomialNB()\n",
    "classification(tfidf_combined, model)"
   ]
  },
  {
   "cell_type": "code",
   "execution_count": 42,
   "metadata": {
    "colab": {
     "base_uri": "https://localhost:8080/"
    },
    "executionInfo": {
     "elapsed": 3303,
     "status": "ok",
     "timestamp": 1649972679579,
     "user": {
      "displayName": "Vibhanshu Abhishek",
      "userId": "07860302646046904287"
     },
     "user_tz": 420
    },
    "id": "juf3i03sCmdc",
    "outputId": "0377d6a3-9ae5-4219-89aa-360291c78b94"
   },
   "outputs": [
    {
     "data": {
      "text/plain": [
       "(0.9307993433514332, 0.8273932253313696)"
      ]
     },
     "execution_count": 42,
     "metadata": {},
     "output_type": "execute_result"
    }
   ],
   "source": [
    "model = MultinomialNB()\n",
    "classification(tfidf, model)"
   ]
  },
  {
   "cell_type": "markdown",
   "metadata": {
    "id": "WIRgOPES4QdM"
   },
   "source": [
    "### Let's tune MNB (alpha)\n",
    "Naive Bayes classifier for multinomial models ([Details](https://scikit-learn.org/stable/modules/generated/sklearn.naive_bayes.MultinomialNB.html))"
   ]
  },
  {
   "cell_type": "code",
   "execution_count": 43,
   "metadata": {
    "colab": {
     "base_uri": "https://localhost:8080/",
     "height": 479
    },
    "executionInfo": {
     "elapsed": 63764,
     "status": "ok",
     "timestamp": 1649972907601,
     "user": {
      "displayName": "Vibhanshu Abhishek",
      "userId": "07860302646046904287"
     },
     "user_tz": 420
    },
    "id": "R3mxLb6HeuwO",
    "outputId": "fd66b797-9a11-489c-a701-2ce288f43f60"
   },
   "outputs": [
    {
     "name": "stderr",
     "output_type": "stream",
     "text": [
      "/Library/Frameworks/Python.framework/Versions/3.11/lib/python3.11/site-packages/sklearn/naive_bayes.py:629: FutureWarning: The default value for `force_alpha` will change to `True` in 1.4. To suppress this warning, manually set the value of `force_alpha`.\n",
      "  warnings.warn(\n",
      "/Library/Frameworks/Python.framework/Versions/3.11/lib/python3.11/site-packages/sklearn/naive_bayes.py:635: UserWarning: alpha too small will result in numeric errors, setting alpha = 1.0e-10. Use `force_alpha=True` to keep alpha unchanged.\n",
      "  warnings.warn(\n"
     ]
    },
    {
     "name": "stdout",
     "output_type": "stream",
     "text": [
      "0.0 => (0.9996211642884203, 0.8871870397643593)\n",
      "0.1 => (0.9994948857178937, 0.8827687776141384)\n",
      "0.2 => (0.9992423285768405, 0.8804123711340206)\n",
      "0.30000000000000004 => (0.9988634928652608, 0.8739322533136966)\n",
      "0.4 => (0.9983583785831545, 0.8680412371134021)\n",
      "0.5 => (0.9982321000126277, 0.8612665684830634)\n",
      "0.6000000000000001 => (0.9981058214421012, 0.8574374079528719)\n",
      "0.7000000000000001 => (0.9979795428715746, 0.8536082474226804)\n",
      "0.8 => (0.9973481500189418, 0.8512518409425626)\n",
      "0.9 => (0.9972218714484152, 0.8480117820324006)\n"
     ]
    },
    {
     "data": {
      "image/png": "[encoded data removed]",
      "text/plain": [
       "<Figure size 640x480 with 1 Axes>"
      ]
     },
     "metadata": {},
     "output_type": "display_data"
    }
   ],
   "source": [
    "arange = np.arange(0, 1, 0.1)\n",
    "results = []\n",
    "for a in arange:\n",
    "  model = MultinomialNB(alpha=a)\n",
    "  res = classification(bigram, model)\n",
    "  results.append(res)\n",
    "  print(a, '=>', res)\n",
    "  \n",
    "plt.plot(arange, results)\n",
    "plt.legend([\"Train\", \"Test\"])\n",
    "plt.show()"
   ]
  },
  {
   "cell_type": "markdown",
   "metadata": {
    "id": "YQxjyHRHNLGc"
   },
   "source": [
    "### Let's compare different n-grams with a fixed alpha for MNB"
   ]
  },
  {
   "cell_type": "code",
   "execution_count": 44,
   "metadata": {
    "colab": {
     "base_uri": "https://localhost:8080/",
     "height": 336
    },
    "executionInfo": {
     "elapsed": 37629,
     "status": "ok",
     "timestamp": 1649972994143,
     "user": {
      "displayName": "Vibhanshu Abhishek",
      "userId": "07860302646046904287"
     },
     "user_tz": 420
    },
    "id": "VwrMjBXROu5w",
    "outputId": "c75eccbb-c484-4b31-a033-e5eb1c9b7cab"
   },
   "outputs": [
    {
     "name": "stdout",
     "output_type": "stream",
     "text": [
      "unigram => (0.9857305215304962, 0.8904270986745213)\n",
      "bigram => (0.9989897714357874, 0.8686303387334315)\n",
      "trigram => (0.9997474428589468, 0.8483063328424153)\n",
      "combined => (0.9987372142947342, 0.8871870397643593)\n"
     ]
    },
    {
     "data": {
      "image/png": "[encoded data removed]",
      "text/plain": [
       "<Figure size 640x480 with 1 Axes>"
      ]
     },
     "metadata": {},
     "output_type": "display_data"
    }
   ],
   "source": [
    "vectorizer_names = ['unigram', 'bigram', 'trigram', 'combined']\n",
    "xs = list(range(len(vectorizer_names)))\n",
    "results = []\n",
    "for i in range(len(tfidf_vectorizers)):\n",
    "  model = MultinomialNB(alpha=0.1)\n",
    "  res = classification(tfidf_vectorizers[i], model)\n",
    "  results.append(res)\n",
    "  print(vectorizer_names[i], '=>', res)\n",
    "  \n",
    "plt.plot(xs, results)\n",
    "plt.xticks(xs, vectorizer_names)\n",
    "plt.legend([\"Train\", \"Test\"])\n",
    "plt.show()"
   ]
  },
  {
   "cell_type": "markdown",
   "metadata": {
    "id": "9TctwWbvyS8W"
   },
   "source": [
    "## Excercise2: Let's tune TfidfVectorizer with a fixed alpha for MNB\n",
    "Compare TfidfVectorizers with different parameters ([Details](http://scikit-learn.org/stable/modules/generated/sklearn.feature_extraction.text.TfidfVectorizer.html#sklearn.feature_extraction.text.TfidfVectorizer))  \n",
    "e.g.,\n",
    "- stop_words =‘english’(None by default)\n",
    "- min_df = 5 (1 by default)\n",
    "- sublinear_tf = True (False by default)\n",
    "- use_idf = False (True by default)\n",
    "- binary = True (False by default)"
   ]
  },
  {
   "cell_type": "code",
   "execution_count": 45,
   "metadata": {
    "colab": {
     "base_uri": "https://localhost:8080/",
     "height": 372
    },
    "executionInfo": {
     "elapsed": 30893,
     "status": "ok",
     "timestamp": 1649973096423,
     "user": {
      "displayName": "Vibhanshu Abhishek",
      "userId": "07860302646046904287"
     },
     "user_tz": 420
    },
    "id": "fL6bpDp2ySJc",
    "outputId": "82753022-ffff-416c-962d-9942f62fb686"
   },
   "outputs": [
    {
     "name": "stdout",
     "output_type": "stream",
     "text": [
      "default => (0.9992423285768405, 0.9007363770250368)\n",
      "Stopwords English => (0.9992423285768405, 0.8995581737849779)\n",
      "Sublinear T & Stopwords => (0.999116050006314, 0.9036818851251841)\n",
      "Min df 100 & Max df 0.7 => (0.9015027149892664, 0.7808541973490427)\n",
      "Min df 5 & Max df 0.7 => (0.9962116428842025, 0.8854197349042711)\n",
      "Min df 100 & Max df 0.7 & Sublinear T => (0.9049122363934841, 0.7770250368188512)\n",
      "Stopwords Max 0.5 & Sublinear => (0.999116050006314, 0.9036818851251841)\n"
     ]
    },
    {
     "data": {
      "image/png": "[encoded data removed]",
      "text/plain": [
       "<Figure size 640x480 with 1 Axes>"
      ]
     },
     "metadata": {},
     "output_type": "display_data"
    }
   ],
   "source": [
    "tfidf_vectorizers = [TfidfVectorizer(), TfidfVectorizer(stop_words =\"english\"), TfidfVectorizer(sublinear_tf=True, stop_words =\"english\"),  TfidfVectorizer(min_df=100, max_df=0.7),\n",
    "                    TfidfVectorizer(min_df=5, max_df=0.7), TfidfVectorizer(min_df=100, max_df=0.7, sublinear_tf=True), TfidfVectorizer(stop_words =\"english\", max_df=0.5, sublinear_tf = True)] # add parameters to each vectorizer\n",
    "names = ['default', 'Stopwords English', 'Sublinear T & Stopwords', 'Min df 100 & Max df 0.7', 'Min df 5 & Max df 0.7', 'Min df 100 & Max df 0.7 & Sublinear T', 'Stopwords Max 0.5 & Sublinear'] # give short names to say what you changed\n",
    "xs = list(range(len(tfidf_vectorizers)))\n",
    "results = list()\n",
    "for i in range(len(tfidf_vectorizers)):\n",
    "  tfidf_vectorizers[i].fit(train.data)\n",
    "  model = MultinomialNB(alpha=0.0001) # set a very small value\n",
    "  res = classification(tfidf_vectorizers[i], model) # we need to set fit_vect=True, but why?\n",
    "  results.append(res)\n",
    "  print(names[i], '=>', res)\n",
    "  \n",
    "plt.plot(xs, results)\n",
    "plt.xticks(xs, names)\n",
    "plt.legend([\"Train\", \"Test\"])\n",
    "plt.show()"
   ]
  },
  {
   "cell_type": "markdown",
   "metadata": {
    "id": "hJTNDfXM3rSM"
   },
   "source": [
    "### What parameter did you change to get the best test performance?"
   ]
  },
  {
   "cell_type": "markdown",
   "metadata": {
    "id": "xCLHtNWK8CAI"
   },
   "source": [
    "### [Optional] Let's tune parameters of TfidfVectorizer and MNB simultaneously\n",
    "This parameter tuning is called ***grid search***"
   ]
  },
  {
   "cell_type": "code",
   "execution_count": null,
   "metadata": {
    "colab": {
     "base_uri": "https://localhost:8080/",
     "height": 279
    },
    "executionInfo": {
     "elapsed": 477465,
     "status": "ok",
     "timestamp": 1649973750462,
     "user": {
      "displayName": "Vibhanshu Abhishek",
      "userId": "07860302646046904287"
     },
     "user_tz": 420
    },
    "id": "rsazUnuA8YpE",
    "outputId": "5a768fa2-eb30-4334-f901-4121154cc238"
   },
   "outputs": [],
   "source": [
    "min_dfs = np.arange(1, 50, 5)\n",
    "alphas = np.arange(0.001, 1.0, 0.1)\n",
    "xx, yy = np.meshgrid(alphas, min_dfs)\n",
    "f1_score_mat = np.zeros((len(min_dfs), len(alphas)))\n",
    "for i in range(len(min_dfs)):\n",
    "  tfidf_vectorizer = TfidfVectorizer(min_df=min_dfs[i])\n",
    "  for j in range(len(alphas)):\n",
    "    model = MultinomialNB(alpha=alphas[j])\n",
    "    res = classification(tfidf_vectorizer, model, fit_vect=True)\n",
    "    f1_score_mat[i][j] = res[1]\n",
    "    \n",
    "plt.contourf(alphas, min_dfs, f1_score_mat, cmap=plt.cm.viridis, levels=np.arange(0.0,1.05,0.05))\n",
    "plt.ylabel('min_df')\n",
    "plt.xlabel('alpha')\n",
    "plt.colorbar()\n",
    "plt.show()"
   ]
  }
 ],
 "metadata": {
  "colab": {
   "provenance": [
    {
     "file_id": "1JZR8Fg6h7iAGlFTjs0rx71Z6PY7cF5U5",
     "timestamp": 1523949572660
    },
    {
     "file_id": "1FRbIPYnrjZlou3Uhbk6tuyWzLRuOjqr2",
     "timestamp": 1522958614389
    }
   ]
  },
  "kernelspec": {
   "display_name": "Python 3 (ipykernel)",
   "language": "python",
   "name": "python3"
  },
  "language_info": {
   "codemirror_mode": {
    "name": "ipython",
    "version": 3
   },
   "file_extension": ".py",
   "mimetype": "text/x-python",
   "name": "python",
   "nbconvert_exporter": "python",
   "pygments_lexer": "ipython3",
   "version": "3.11.1"
  }
 },
 "nbformat": 4,
 "nbformat_minor": 1
}
