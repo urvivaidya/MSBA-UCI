{
 "cells": [
  {
   "cell_type": "code",
   "execution_count": 57,
   "id": "d4d873f8",
   "metadata": {},
   "outputs": [],
   "source": [
    "# Importing the necessary libraries\n",
    "import matplotlib.pyplot as plt\n",
    "import numpy as np\n",
    "import pandas as pd\n",
    "import sklearn\n",
    "import nltk\n",
    "import string\n",
    "string.punctuation\n",
    "from nltk.corpus import stopwords\n",
    "from nltk.stem import WordNetLemmatizer\n",
    "from sklearn.model_selection import train_test_split\n",
    "from sklearn.metrics import classification_report,confusion_matrix,accuracy_score, f1_score\n",
    "from sklearn.feature_extraction.text import CountVectorizer\n",
    "from sklearn.feature_extraction.text import TfidfVectorizer\n",
    "from sklearn.naive_bayes import MultinomialNB\n",
    "from sklearn.linear_model import LogisticRegression\n",
    "from sklearn.pipeline import Pipeline, make_pipeline\n",
    "from sklearn.ensemble import VotingClassifier\n",
    "from sklearn.tree import DecisionTreeClassifier"
   ]
  },
  {
   "cell_type": "code",
   "execution_count": 2,
   "id": "9914b652",
   "metadata": {},
   "outputs": [],
   "source": [
    "data = pd.read_csv(\"~/OneDrive/MAC/UCI MSBA Coursework/Winter 2022/BANA 275 Natural Language Processing/Weekly Activity/training data-2.csv\", index_col=None)"
   ]
  },
  {
   "cell_type": "code",
   "execution_count": 3,
   "id": "40ee137b",
   "metadata": {},
   "outputs": [
    {
     "data": {
      "text/html": [
       "<div>\n",
       "<style scoped>\n",
       "    .dataframe tbody tr th:only-of-type {\n",
       "        vertical-align: middle;\n",
       "    }\n",
       "\n",
       "    .dataframe tbody tr th {\n",
       "        vertical-align: top;\n",
       "    }\n",
       "\n",
       "    .dataframe thead th {\n",
       "        text-align: right;\n",
       "    }\n",
       "</style>\n",
       "<table border=\"1\" class=\"dataframe\">\n",
       "  <thead>\n",
       "    <tr style=\"text-align: right;\">\n",
       "      <th></th>\n",
       "      <th>index</th>\n",
       "      <th>review</th>\n",
       "      <th>lable</th>\n",
       "    </tr>\n",
       "  </thead>\n",
       "  <tbody>\n",
       "    <tr>\n",
       "      <th>0</th>\n",
       "      <td>1</td>\n",
       "      <td>Some of the filmmakers who are participating i...</td>\n",
       "      <td>negative</td>\n",
       "    </tr>\n",
       "    <tr>\n",
       "      <th>1</th>\n",
       "      <td>2</td>\n",
       "      <td>Truly unique and stunning film of Jules Verne'...</td>\n",
       "      <td>positive</td>\n",
       "    </tr>\n",
       "    <tr>\n",
       "      <th>2</th>\n",
       "      <td>3</td>\n",
       "      <td>This light-heated (for Cassavetes)love story i...</td>\n",
       "      <td>positive</td>\n",
       "    </tr>\n",
       "    <tr>\n",
       "      <th>3</th>\n",
       "      <td>4</td>\n",
       "      <td>this is indeed a treat for every Bolan fan, so...</td>\n",
       "      <td>positive</td>\n",
       "    </tr>\n",
       "    <tr>\n",
       "      <th>4</th>\n",
       "      <td>5</td>\n",
       "      <td>This movie had very few moments of real drama....</td>\n",
       "      <td>negative</td>\n",
       "    </tr>\n",
       "  </tbody>\n",
       "</table>\n",
       "</div>"
      ],
      "text/plain": [
       "   index                                             review     lable\n",
       "0      1  Some of the filmmakers who are participating i...  negative\n",
       "1      2  Truly unique and stunning film of Jules Verne'...  positive\n",
       "2      3  This light-heated (for Cassavetes)love story i...  positive\n",
       "3      4  this is indeed a treat for every Bolan fan, so...  positive\n",
       "4      5  This movie had very few moments of real drama....  negative"
      ]
     },
     "execution_count": 3,
     "metadata": {},
     "output_type": "execute_result"
    }
   ],
   "source": [
    "# lets look at the data\n",
    "data.head()"
   ]
  },
  {
   "cell_type": "code",
   "execution_count": 4,
   "id": "94293e66",
   "metadata": {},
   "outputs": [],
   "source": [
    "data = data.drop('index', axis=1)"
   ]
  },
  {
   "cell_type": "code",
   "execution_count": 5,
   "id": "b2aa723b",
   "metadata": {},
   "outputs": [
    {
     "data": {
      "text/plain": [
       "negative    20029\n",
       "positive    19971\n",
       "Name: lable, dtype: int64"
      ]
     },
     "execution_count": 5,
     "metadata": {},
     "output_type": "execute_result"
    }
   ],
   "source": [
    "#sentiment count\n",
    "data['lable'].value_counts()"
   ]
  },
  {
   "cell_type": "markdown",
   "id": "03e767db",
   "metadata": {},
   "source": [
    "### Cleaning & Preparing the data"
   ]
  },
  {
   "cell_type": "code",
   "execution_count": 6,
   "id": "3a5a8edd",
   "metadata": {},
   "outputs": [
    {
     "data": {
      "text/html": [
       "<div>\n",
       "<style scoped>\n",
       "    .dataframe tbody tr th:only-of-type {\n",
       "        vertical-align: middle;\n",
       "    }\n",
       "\n",
       "    .dataframe tbody tr th {\n",
       "        vertical-align: top;\n",
       "    }\n",
       "\n",
       "    .dataframe thead th {\n",
       "        text-align: right;\n",
       "    }\n",
       "</style>\n",
       "<table border=\"1\" class=\"dataframe\">\n",
       "  <thead>\n",
       "    <tr style=\"text-align: right;\">\n",
       "      <th></th>\n",
       "      <th>review</th>\n",
       "      <th>lable</th>\n",
       "    </tr>\n",
       "  </thead>\n",
       "  <tbody>\n",
       "    <tr>\n",
       "      <th>0</th>\n",
       "      <td>Some of the filmmakers who are participating i...</td>\n",
       "      <td>0</td>\n",
       "    </tr>\n",
       "    <tr>\n",
       "      <th>1</th>\n",
       "      <td>Truly unique and stunning film of Jules Verne'...</td>\n",
       "      <td>1</td>\n",
       "    </tr>\n",
       "    <tr>\n",
       "      <th>2</th>\n",
       "      <td>This light-heated (for Cassavetes)love story i...</td>\n",
       "      <td>1</td>\n",
       "    </tr>\n",
       "    <tr>\n",
       "      <th>3</th>\n",
       "      <td>this is indeed a treat for every Bolan fan, so...</td>\n",
       "      <td>1</td>\n",
       "    </tr>\n",
       "    <tr>\n",
       "      <th>4</th>\n",
       "      <td>This movie had very few moments of real drama....</td>\n",
       "      <td>0</td>\n",
       "    </tr>\n",
       "  </tbody>\n",
       "</table>\n",
       "</div>"
      ],
      "text/plain": [
       "                                              review  lable\n",
       "0  Some of the filmmakers who are participating i...      0\n",
       "1  Truly unique and stunning film of Jules Verne'...      1\n",
       "2  This light-heated (for Cassavetes)love story i...      1\n",
       "3  this is indeed a treat for every Bolan fan, so...      1\n",
       "4  This movie had very few moments of real drama....      0"
      ]
     },
     "execution_count": 6,
     "metadata": {},
     "output_type": "execute_result"
    }
   ],
   "source": [
    "# encoding the labels for positive and negative to binary \n",
    "data['lable'] = data['lable'].map(lambda x: 0 if x == 'negative' else 1)\n",
    "data.head()"
   ]
  },
  {
   "cell_type": "code",
   "execution_count": 7,
   "id": "0a59fa19",
   "metadata": {},
   "outputs": [],
   "source": [
    "# converting the reviews to lowercase\n",
    "data['review'] = data['review'].apply(lambda x:x.lower())\n",
    "\n",
    "# removing punctuation\n",
    "def remove_punctuation(text):\n",
    "    text_nopunt=\"\".join([c for c in text if c not in string.punctuation])\n",
    "    return text_nopunt\n",
    "\n",
    "data['review'] = data['review'].apply(lambda x : remove_punctuation(x))\n",
    "\n",
    "# removing stopwords\n",
    "stopwords = stopwords.words('english')\n",
    "\n",
    "data['review'] = data['review'].apply(lambda x: [item for item in x.split() if item not in stopwords]).apply(lambda x:\" \".join(x))\n"
   ]
  },
  {
   "cell_type": "code",
   "execution_count": 8,
   "id": "a33dacfa",
   "metadata": {},
   "outputs": [],
   "source": [
    "# Initialising the Wordnet Lemmatizer\n",
    "lemmatizer = WordNetLemmatizer()\n",
    "w_tokenizer = nltk.tokenize.WhitespaceTokenizer()\n",
    "\n",
    "# defining our lemmatizer function\n",
    "def lemmatize_text(text):\n",
    "    return [lemmatizer.lemmatize(w,\"v\") for w in w_tokenizer.tokenize(text)]\n",
    "\n",
    "# applying the lemmatizer function to our reviews\n",
    "data['review'] = data.review.apply(lambda x :' '.join(lemmatize_text(x)))"
   ]
  },
  {
   "cell_type": "markdown",
   "id": "9b7dc39c",
   "metadata": {},
   "source": [
    "### Setting up Bag of Words and TF-IDF"
   ]
  },
  {
   "cell_type": "code",
   "execution_count": 9,
   "id": "a60f3697",
   "metadata": {},
   "outputs": [],
   "source": [
    "#Dividing data into train and test dataset\n",
    "data_x = data['review']\n",
    "data_y = data['lable']\n"
   ]
  },
  {
   "cell_type": "code",
   "execution_count": 10,
   "id": "14a670e4",
   "metadata": {},
   "outputs": [],
   "source": [
    "# creating a function for our vectorizers\n",
    "def vect(train_x, vectorizer):\n",
    "    fit_vect = vectorizer.fit_transform(train_x)\n",
    "    return fit_vect\n"
   ]
  },
  {
   "cell_type": "code",
   "execution_count": 11,
   "id": "d91f1101",
   "metadata": {},
   "outputs": [],
   "source": [
    "# Bag of Words Vectorizers\n",
    "bow = CountVectorizer()\n",
    "bowbigram = CountVectorizer(ngram_range=(1,2))\n",
    "\n",
    "bow_X = vect(data_x, bow)"
   ]
  },
  {
   "cell_type": "code",
   "execution_count": 12,
   "id": "e59cc594",
   "metadata": {},
   "outputs": [],
   "source": [
    "bowbigram_X = vect(data_x, bowbigram)"
   ]
  },
  {
   "cell_type": "code",
   "execution_count": 19,
   "id": "677df0c8",
   "metadata": {},
   "outputs": [],
   "source": [
    "# TF-IDF Vectorizers\n",
    "tfidf = TfidfVectorizer(sublinear_tf=True)\n",
    "tfidf_bigram = TfidfVectorizer(sublinear_tf=True, ngram_range=(1,2))\n",
    "tfidf_trigram = TfidfVectorizer(sublinear_tf=True, ngram_range=(1,3))\n",
    "\n",
    "tfidf_X = vect(data_x, tfidf)"
   ]
  },
  {
   "cell_type": "code",
   "execution_count": 18,
   "id": "f04a1d66",
   "metadata": {},
   "outputs": [],
   "source": [
    "tfidfbi_X = vect(data_x, tfidf_bigram)"
   ]
  },
  {
   "cell_type": "code",
   "execution_count": 20,
   "id": "b957d1ad",
   "metadata": {},
   "outputs": [],
   "source": [
    "tfidftri_X = vect(data_x, tfidf_trigram)"
   ]
  },
  {
   "cell_type": "markdown",
   "id": "5ce946e3",
   "metadata": {},
   "source": [
    "### Machine Learning Models"
   ]
  },
  {
   "cell_type": "code",
   "execution_count": 43,
   "id": "adcedd06",
   "metadata": {},
   "outputs": [],
   "source": [
    "# creating a function for running models\n",
    "\n",
    "def classification(train_x, train_y, model, option):\n",
    "    \n",
    "    # Train test split\n",
    "    X_train, X_test, y_train, y_test =train_test_split(train_x,train_y,test_size=0.3,random_state=42)\n",
    "    m = model\n",
    "    ml = m.fit(X_train,y_train)\n",
    "    test_predict = m.predict(X_test)\n",
    "    acc_score = accuracy_score(y_test,test_predict)\n",
    "    train_predict = m.predict(X_train)\n",
    "    train_f1 = f1_score(y_train,train_predict, average='micro')\n",
    "    test_f1 = f1_score(y_test,test_predict, average='micro')\n",
    "    \n",
    "    \n",
    "    if option == 1:\n",
    "        print('Accuracy Score: ', acc_score)\n",
    "        #Classification report\n",
    "        report = classification_report(y_test,test_predict,target_names=['Positive','Negative'])\n",
    "        print(report)\n",
    "        #confusion matrix for bag of words\n",
    "        cm = confusion_matrix(y_test,test_predict,labels=[1,0])\n",
    "        print(cm)\n",
    "        \n",
    "        print('Training F1: ',train_f1)\n",
    "        print('Testing F1: ',test_f1)\n",
    "        \n",
    "    if option == 2:\n",
    "        return train_f1, test_f1 \n",
    "    "
   ]
  },
  {
   "cell_type": "markdown",
   "id": "5bd22cde",
   "metadata": {},
   "source": [
    "### Logistic Regression"
   ]
  },
  {
   "cell_type": "code",
   "execution_count": 33,
   "id": "d96d812b",
   "metadata": {},
   "outputs": [
    {
     "name": "stdout",
     "output_type": "stream",
     "text": [
      "Logistic Regression using Bag of Words\n",
      "Accuracy Score:  0.8836666666666667\n",
      "              precision    recall  f1-score   support\n",
      "\n",
      "    Positive       0.89      0.87      0.88      5989\n",
      "    Negative       0.88      0.90      0.89      6011\n",
      "\n",
      "    accuracy                           0.88     12000\n",
      "   macro avg       0.88      0.88      0.88     12000\n",
      "weighted avg       0.88      0.88      0.88     12000\n",
      "\n",
      "[[5381  630]\n",
      " [ 766 5223]]\n",
      "Training F1:  0.99775\n",
      "Testing F1:  0.8836666666666668\n"
     ]
    },
    {
     "name": "stderr",
     "output_type": "stream",
     "text": [
      "/Library/Frameworks/Python.framework/Versions/3.11/lib/python3.11/site-packages/sklearn/linear_model/_logistic.py:458: ConvergenceWarning: lbfgs failed to converge (status=1):\n",
      "STOP: TOTAL NO. of ITERATIONS REACHED LIMIT.\n",
      "\n",
      "Increase the number of iterations (max_iter) or scale the data as shown in:\n",
      "    https://scikit-learn.org/stable/modules/preprocessing.html\n",
      "Please also refer to the documentation for alternative solver options:\n",
      "    https://scikit-learn.org/stable/modules/linear_model.html#logistic-regression\n",
      "  n_iter_i = _check_optimize_result(\n"
     ]
    }
   ],
   "source": [
    "lr = LogisticRegression()\n",
    "# bow results\n",
    "print('Logistic Regression using Bag of Words')\n",
    "classification(bow_X, data_y, lr, 1)"
   ]
  },
  {
   "cell_type": "code",
   "execution_count": 32,
   "id": "03cf4f99",
   "metadata": {},
   "outputs": [
    {
     "name": "stdout",
     "output_type": "stream",
     "text": [
      "Logistic Regression using Bag of Words - Bigram\n",
      "Accuracy Score:  0.8979166666666667\n",
      "              precision    recall  f1-score   support\n",
      "\n",
      "    Positive       0.91      0.89      0.90      5989\n",
      "    Negative       0.89      0.91      0.90      6011\n",
      "\n",
      "    accuracy                           0.90     12000\n",
      "   macro avg       0.90      0.90      0.90     12000\n",
      "weighted avg       0.90      0.90      0.90     12000\n",
      "\n",
      "[[5471  540]\n",
      " [ 685 5304]]\n",
      "Training F1:  1.0\n",
      "Testing F1:  0.8979166666666667\n"
     ]
    },
    {
     "name": "stderr",
     "output_type": "stream",
     "text": [
      "/Library/Frameworks/Python.framework/Versions/3.11/lib/python3.11/site-packages/sklearn/linear_model/_logistic.py:458: ConvergenceWarning: lbfgs failed to converge (status=1):\n",
      "STOP: TOTAL NO. of ITERATIONS REACHED LIMIT.\n",
      "\n",
      "Increase the number of iterations (max_iter) or scale the data as shown in:\n",
      "    https://scikit-learn.org/stable/modules/preprocessing.html\n",
      "Please also refer to the documentation for alternative solver options:\n",
      "    https://scikit-learn.org/stable/modules/linear_model.html#logistic-regression\n",
      "  n_iter_i = _check_optimize_result(\n"
     ]
    }
   ],
   "source": [
    "# bowbigram results\n",
    "print('Logistic Regression using Bag of Words - Bigram')\n",
    "classification(bowbigram_X, data_y, lr, 1)"
   ]
  },
  {
   "cell_type": "code",
   "execution_count": 34,
   "id": "88565bfb",
   "metadata": {},
   "outputs": [
    {
     "name": "stdout",
     "output_type": "stream",
     "text": [
      "Logistic Regression using TF-IDF\n",
      "Accuracy Score:  0.8935833333333333\n",
      "              precision    recall  f1-score   support\n",
      "\n",
      "    Positive       0.91      0.88      0.89      5989\n",
      "    Negative       0.88      0.91      0.90      6011\n",
      "\n",
      "    accuracy                           0.89     12000\n",
      "   macro avg       0.89      0.89      0.89     12000\n",
      "weighted avg       0.89      0.89      0.89     12000\n",
      "\n",
      "[[5460  551]\n",
      " [ 726 5263]]\n",
      "Training F1:  0.93625\n",
      "Testing F1:  0.8935833333333333\n"
     ]
    }
   ],
   "source": [
    "print('Logistic Regression using TF-IDF')\n",
    "classification(tfidf_X, data_y, lr, 1)"
   ]
  },
  {
   "cell_type": "code",
   "execution_count": 35,
   "id": "50c6552b",
   "metadata": {},
   "outputs": [
    {
     "name": "stdout",
     "output_type": "stream",
     "text": [
      "Logistic Regression using TF-IDF - Bigram\n",
      "Accuracy Score:  0.89075\n",
      "              precision    recall  f1-score   support\n",
      "\n",
      "    Positive       0.90      0.87      0.89      5989\n",
      "    Negative       0.88      0.91      0.89      6011\n",
      "\n",
      "    accuracy                           0.89     12000\n",
      "   macro avg       0.89      0.89      0.89     12000\n",
      "weighted avg       0.89      0.89      0.89     12000\n",
      "\n",
      "[[5462  549]\n",
      " [ 762 5227]]\n",
      "Training F1:  0.9632142857142857\n",
      "Testing F1:  0.8907499999999999\n"
     ]
    }
   ],
   "source": [
    "print('Logistic Regression using TF-IDF - Bigram')\n",
    "classification(tfidfbi_X, data_y, lr, 1)"
   ]
  },
  {
   "cell_type": "code",
   "execution_count": 36,
   "id": "e410e389",
   "metadata": {},
   "outputs": [
    {
     "name": "stdout",
     "output_type": "stream",
     "text": [
      "Logistic Regression using TF-IDF - Trigram\n",
      "Accuracy Score:  0.8826666666666667\n",
      "              precision    recall  f1-score   support\n",
      "\n",
      "    Positive       0.90      0.86      0.88      5989\n",
      "    Negative       0.87      0.91      0.89      6011\n",
      "\n",
      "    accuracy                           0.88     12000\n",
      "   macro avg       0.88      0.88      0.88     12000\n",
      "weighted avg       0.88      0.88      0.88     12000\n",
      "\n",
      "[[5443  568]\n",
      " [ 840 5149]]\n",
      "Training F1:  0.9751785714285715\n",
      "Testing F1:  0.8826666666666667\n"
     ]
    }
   ],
   "source": [
    "print('Logistic Regression using TF-IDF - Trigram')\n",
    "classification(tfidftri_X, data_y, lr, 1)"
   ]
  },
  {
   "cell_type": "markdown",
   "id": "6e46db5c",
   "metadata": {},
   "source": [
    "### Multinomial Naive Bayes - MNB"
   ]
  },
  {
   "cell_type": "code",
   "execution_count": 37,
   "id": "8eb4002c",
   "metadata": {},
   "outputs": [
    {
     "name": "stdout",
     "output_type": "stream",
     "text": [
      "Multinomial Naive Bayes using Bag of Words\n",
      "Accuracy Score:  0.85725\n",
      "              precision    recall  f1-score   support\n",
      "\n",
      "    Positive       0.84      0.88      0.86      5989\n",
      "    Negative       0.87      0.83      0.85      6011\n",
      "\n",
      "    accuracy                           0.86     12000\n",
      "   macro avg       0.86      0.86      0.86     12000\n",
      "weighted avg       0.86      0.86      0.86     12000\n",
      "\n",
      "[[5018  993]\n",
      " [ 720 5269]]\n",
      "Training F1:  0.9193928571428571\n",
      "Testing F1:  0.85725\n"
     ]
    }
   ],
   "source": [
    "mnb = MultinomialNB()\n",
    "# bow results\n",
    "print('Multinomial Naive Bayes using Bag of Words')\n",
    "classification(bow_X, data_y, mnb, 1)"
   ]
  },
  {
   "cell_type": "code",
   "execution_count": 38,
   "id": "bd45bf15",
   "metadata": {},
   "outputs": [
    {
     "name": "stdout",
     "output_type": "stream",
     "text": [
      "Multinomial Naive Bayes using Bag of Words - Bigram\n",
      "Accuracy Score:  0.8835\n",
      "              precision    recall  f1-score   support\n",
      "\n",
      "    Positive       0.86      0.91      0.89      5989\n",
      "    Negative       0.90      0.86      0.88      6011\n",
      "\n",
      "    accuracy                           0.88     12000\n",
      "   macro avg       0.88      0.88      0.88     12000\n",
      "weighted avg       0.88      0.88      0.88     12000\n",
      "\n",
      "[[5160  851]\n",
      " [ 547 5442]]\n",
      "Training F1:  0.9971785714285715\n",
      "Testing F1:  0.8835000000000001\n"
     ]
    }
   ],
   "source": [
    "# bowbigram results\n",
    "print('Multinomial Naive Bayes using Bag of Words - Bigram')\n",
    "classification(bowbigram_X, data_y, mnb, 1)"
   ]
  },
  {
   "cell_type": "code",
   "execution_count": 39,
   "id": "f618d18d",
   "metadata": {},
   "outputs": [
    {
     "name": "stdout",
     "output_type": "stream",
     "text": [
      "Multinomial Naive Bayes using TF-IDF\n",
      "Accuracy Score:  0.8681666666666666\n",
      "              precision    recall  f1-score   support\n",
      "\n",
      "    Positive       0.85      0.89      0.87      5989\n",
      "    Negative       0.89      0.84      0.86      6011\n",
      "\n",
      "    accuracy                           0.87     12000\n",
      "   macro avg       0.87      0.87      0.87     12000\n",
      "weighted avg       0.87      0.87      0.87     12000\n",
      "\n",
      "[[5067  944]\n",
      " [ 638 5351]]\n",
      "Training F1:  0.9218214285714286\n",
      "Testing F1:  0.8681666666666666\n"
     ]
    }
   ],
   "source": [
    "print('Multinomial Naive Bayes using TF-IDF')\n",
    "classification(tfidf_X, data_y, mnb, 1)"
   ]
  },
  {
   "cell_type": "code",
   "execution_count": 40,
   "id": "589a4e2d",
   "metadata": {},
   "outputs": [
    {
     "name": "stdout",
     "output_type": "stream",
     "text": [
      "Multinomial Naive Bayes using TF-IDF - Bigram\n",
      "Accuracy Score:  0.8896666666666667\n",
      "              precision    recall  f1-score   support\n",
      "\n",
      "    Positive       0.87      0.92      0.89      5989\n",
      "    Negative       0.91      0.86      0.89      6011\n",
      "\n",
      "    accuracy                           0.89     12000\n",
      "   macro avg       0.89      0.89      0.89     12000\n",
      "weighted avg       0.89      0.89      0.89     12000\n",
      "\n",
      "[[5174  837]\n",
      " [ 487 5502]]\n",
      "Training F1:  0.9899285714285714\n",
      "Testing F1:  0.8896666666666667\n"
     ]
    }
   ],
   "source": [
    "print('Multinomial Naive Bayes using TF-IDF - Bigram')\n",
    "classification(tfidfbi_X, data_y, mnb, 1)"
   ]
  },
  {
   "cell_type": "code",
   "execution_count": 41,
   "id": "1cc53310",
   "metadata": {},
   "outputs": [
    {
     "name": "stdout",
     "output_type": "stream",
     "text": [
      "Multinomial Naive Bayes using TF-IDF - Trigram\n",
      "Accuracy Score:  0.8900833333333333\n",
      "              precision    recall  f1-score   support\n",
      "\n",
      "    Positive       0.87      0.92      0.89      5989\n",
      "    Negative       0.91      0.86      0.89      6011\n",
      "\n",
      "    accuracy                           0.89     12000\n",
      "   macro avg       0.89      0.89      0.89     12000\n",
      "weighted avg       0.89      0.89      0.89     12000\n",
      "\n",
      "[[5194  817]\n",
      " [ 502 5487]]\n",
      "Training F1:  0.9986428571428572\n",
      "Testing F1:  0.8900833333333333\n"
     ]
    }
   ],
   "source": [
    "print('Multinomial Naive Bayes using TF-IDF - Trigram')\n",
    "classification(tfidftri_X, data_y, mnb, 1)"
   ]
  },
  {
   "cell_type": "code",
   "execution_count": 44,
   "id": "b12ff397",
   "metadata": {},
   "outputs": [
    {
     "name": "stdout",
     "output_type": "stream",
     "text": [
      "Bag of Words Multinomial NB using different values for alpha\n",
      "0.0 => (0.9750714285714286, 0.7765833333333334)\n",
      "0.1 => (0.94925, 0.8535833333333334)\n",
      "0.2 => (0.9421071428571428, 0.8554999999999999)\n"
     ]
    },
    {
     "name": "stderr",
     "output_type": "stream",
     "text": [
      "/Library/Frameworks/Python.framework/Versions/3.11/lib/python3.11/site-packages/sklearn/naive_bayes.py:629: FutureWarning: The default value for `force_alpha` will change to `True` in 1.4. To suppress this warning, manually set the value of `force_alpha`.\n",
      "  warnings.warn(\n",
      "/Library/Frameworks/Python.framework/Versions/3.11/lib/python3.11/site-packages/sklearn/naive_bayes.py:635: UserWarning: alpha too small will result in numeric errors, setting alpha = 1.0e-10. Use `force_alpha=True` to keep alpha unchanged.\n",
      "  warnings.warn(\n"
     ]
    },
    {
     "name": "stdout",
     "output_type": "stream",
     "text": [
      "0.30000000000000004 => (0.9374642857142857, 0.8560833333333333)\n",
      "0.4 => (0.9331785714285714, 0.8559166666666667)\n",
      "0.5 => (0.9296785714285714, 0.8566666666666667)\n",
      "0.6000000000000001 => (0.9265714285714286, 0.8569166666666667)\n",
      "0.7000000000000001 => (0.9241428571428572, 0.8571666666666666)\n",
      "0.8 => (0.9223214285714286, 0.8571666666666666)\n",
      "0.9 => (0.92075, 0.8571666666666666)\n"
     ]
    },
    {
     "data": {
      "image/png": "[encoded data removed]",
      "text/plain": [
       "<Figure size 640x480 with 1 Axes>"
      ]
     },
     "metadata": {},
     "output_type": "display_data"
    }
   ],
   "source": [
    "print('Bag of Words Multinomial NB using different values for alpha')\n",
    "arange = np.arange(0, 1, 0.1)\n",
    "results = []\n",
    "for a in arange:\n",
    "  model = MultinomialNB(alpha=a)\n",
    "  res = classification(bow_X, data_y, model, 2)\n",
    "  results.append(res)\n",
    "  print(a, '=>', res)\n",
    "  \n",
    "plt.plot(arange, results)\n",
    "plt.legend([\"Train\", \"Test\"])\n",
    "plt.show()"
   ]
  },
  {
   "cell_type": "code",
   "execution_count": 45,
   "id": "aea195d3",
   "metadata": {},
   "outputs": [
    {
     "name": "stdout",
     "output_type": "stream",
     "text": [
      "Bag of Words - Bigram Multinomial NB using different values for alpha\n"
     ]
    },
    {
     "name": "stderr",
     "output_type": "stream",
     "text": [
      "/Library/Frameworks/Python.framework/Versions/3.11/lib/python3.11/site-packages/sklearn/naive_bayes.py:629: FutureWarning: The default value for `force_alpha` will change to `True` in 1.4. To suppress this warning, manually set the value of `force_alpha`.\n",
      "  warnings.warn(\n",
      "/Library/Frameworks/Python.framework/Versions/3.11/lib/python3.11/site-packages/sklearn/naive_bayes.py:635: UserWarning: alpha too small will result in numeric errors, setting alpha = 1.0e-10. Use `force_alpha=True` to keep alpha unchanged.\n",
      "  warnings.warn(\n"
     ]
    },
    {
     "name": "stdout",
     "output_type": "stream",
     "text": [
      "0.0 => (1.0, 0.8215833333333332)\n",
      "0.1 => (0.9998214285714285, 0.87375)\n",
      "0.2 => (0.9996428571428572, 0.8768333333333334)\n",
      "0.30000000000000004 => (0.9994285714285714, 0.8801666666666667)\n",
      "0.4 => (0.9991785714285715, 0.8805833333333334)\n",
      "0.5 => (0.999, 0.8815833333333334)\n",
      "0.6000000000000001 => (0.9986785714285714, 0.882)\n",
      "0.7000000000000001 => (0.9983214285714286, 0.8831666666666667)\n",
      "0.8 => (0.9979285714285714, 0.8835000000000001)\n",
      "0.9 => (0.9975357142857143, 0.8834166666666666)\n"
     ]
    },
    {
     "data": {
      "image/png": "[encoded data removed]",
      "text/plain": [
       "<Figure size 640x480 with 1 Axes>"
      ]
     },
     "metadata": {},
     "output_type": "display_data"
    }
   ],
   "source": [
    "print('Bag of Words - Bigram Multinomial NB using different values for alpha')\n",
    "arange = np.arange(0, 1, 0.1)\n",
    "results = []\n",
    "for a in arange:\n",
    "  model = MultinomialNB(alpha=a)\n",
    "  res = classification(bowbigram_X, data_y, model, 2)\n",
    "  results.append(res)\n",
    "  print(a, '=>', res)\n",
    "  \n",
    "plt.plot(arange, results)\n",
    "plt.legend([\"Train\", \"Test\"])\n",
    "plt.show()"
   ]
  },
  {
   "cell_type": "code",
   "execution_count": 47,
   "id": "b1a7f419",
   "metadata": {},
   "outputs": [
    {
     "name": "stdout",
     "output_type": "stream",
     "text": [
      "TF-IDF Multinomial NB using different values for alpha\n",
      "0.0 => (0.9833928571428572, 0.76725)\n",
      "0.1 => (0.9628928571428571, 0.8625833333333333)\n",
      "0.2 => (0.9541785714285714, 0.86625)\n"
     ]
    },
    {
     "name": "stderr",
     "output_type": "stream",
     "text": [
      "/Library/Frameworks/Python.framework/Versions/3.11/lib/python3.11/site-packages/sklearn/naive_bayes.py:629: FutureWarning: The default value for `force_alpha` will change to `True` in 1.4. To suppress this warning, manually set the value of `force_alpha`.\n",
      "  warnings.warn(\n",
      "/Library/Frameworks/Python.framework/Versions/3.11/lib/python3.11/site-packages/sklearn/naive_bayes.py:635: UserWarning: alpha too small will result in numeric errors, setting alpha = 1.0e-10. Use `force_alpha=True` to keep alpha unchanged.\n",
      "  warnings.warn(\n"
     ]
    },
    {
     "name": "stdout",
     "output_type": "stream",
     "text": [
      "0.30000000000000004 => (0.9459642857142857, 0.86675)\n",
      "0.4 => (0.94, 0.8688333333333332)\n",
      "0.5 => (0.9349285714285714, 0.8694166666666666)\n",
      "0.6000000000000001 => (0.9318214285714285, 0.86875)\n",
      "0.7000000000000001 => (0.9282857142857143, 0.86825)\n",
      "0.8 => (0.9259285714285714, 0.8680833333333333)\n",
      "0.9 => (0.9237142857142857, 0.868)\n"
     ]
    },
    {
     "data": {
      "image/png": "[encoded data removed]",
      "text/plain": [
       "<Figure size 640x480 with 1 Axes>"
      ]
     },
     "metadata": {},
     "output_type": "display_data"
    }
   ],
   "source": [
    "print('TF-IDF Multinomial NB using different values for alpha')\n",
    "arange = np.arange(0, 1, 0.1)\n",
    "results = []\n",
    "for a in arange:\n",
    "  model = MultinomialNB(alpha=a)\n",
    "  res = classification(tfidf_X, data_y, model, 2)\n",
    "  results.append(res)\n",
    "  print(a, '=>', res)\n",
    "  \n",
    "plt.plot(arange, results)\n",
    "plt.legend([\"Train\", \"Test\"])\n",
    "plt.show()"
   ]
  },
  {
   "cell_type": "code",
   "execution_count": 48,
   "id": "a72b605d",
   "metadata": {},
   "outputs": [
    {
     "name": "stdout",
     "output_type": "stream",
     "text": [
      "TF-IDF - Bigram Multinomial NB using different values for alpha\n",
      "0.0 => (1.0, 0.8156666666666667)\n"
     ]
    },
    {
     "name": "stderr",
     "output_type": "stream",
     "text": [
      "/Library/Frameworks/Python.framework/Versions/3.11/lib/python3.11/site-packages/sklearn/naive_bayes.py:629: FutureWarning: The default value for `force_alpha` will change to `True` in 1.4. To suppress this warning, manually set the value of `force_alpha`.\n",
      "  warnings.warn(\n",
      "/Library/Frameworks/Python.framework/Versions/3.11/lib/python3.11/site-packages/sklearn/naive_bayes.py:635: UserWarning: alpha too small will result in numeric errors, setting alpha = 1.0e-10. Use `force_alpha=True` to keep alpha unchanged.\n",
      "  warnings.warn(\n"
     ]
    },
    {
     "name": "stdout",
     "output_type": "stream",
     "text": [
      "0.1 => (0.9998928571428571, 0.8910833333333333)\n",
      "0.2 => (0.9997142857142857, 0.8928333333333334)\n",
      "0.30000000000000004 => (0.9989642857142857, 0.8930833333333333)\n",
      "0.4 => (0.9977857142857143, 0.89325)\n",
      "0.5 => (0.9967142857142857, 0.8925833333333333)\n",
      "0.6000000000000001 => (0.9957857142857143, 0.8915)\n",
      "0.7000000000000001 => (0.9944642857142857, 0.8909166666666667)\n",
      "0.8 => (0.9930357142857144, 0.89025)\n",
      "0.9 => (0.9914642857142857, 0.8896666666666667)\n"
     ]
    },
    {
     "data": {
      "image/png": "[encoded data removed]",
      "text/plain": [
       "<Figure size 640x480 with 1 Axes>"
      ]
     },
     "metadata": {},
     "output_type": "display_data"
    }
   ],
   "source": [
    "print('TF-IDF - Bigram Multinomial NB using different values for alpha')\n",
    "arange = np.arange(0, 1, 0.1)\n",
    "results = []\n",
    "for a in arange:\n",
    "  model = MultinomialNB(alpha=a)\n",
    "  res = classification(tfidfbi_X, data_y, model, 2)\n",
    "  results.append(res)\n",
    "  print(a, '=>', res)\n",
    "  \n",
    "plt.plot(arange, results)\n",
    "plt.legend([\"Train\", \"Test\"])\n",
    "plt.show()"
   ]
  },
  {
   "cell_type": "code",
   "execution_count": 49,
   "id": "14dc8fe4",
   "metadata": {},
   "outputs": [
    {
     "name": "stdout",
     "output_type": "stream",
     "text": [
      "TF-IDF - Trigram Multinomial NB using different values for alpha\n"
     ]
    },
    {
     "name": "stderr",
     "output_type": "stream",
     "text": [
      "/Library/Frameworks/Python.framework/Versions/3.11/lib/python3.11/site-packages/sklearn/naive_bayes.py:629: FutureWarning: The default value for `force_alpha` will change to `True` in 1.4. To suppress this warning, manually set the value of `force_alpha`.\n",
      "  warnings.warn(\n",
      "/Library/Frameworks/Python.framework/Versions/3.11/lib/python3.11/site-packages/sklearn/naive_bayes.py:635: UserWarning: alpha too small will result in numeric errors, setting alpha = 1.0e-10. Use `force_alpha=True` to keep alpha unchanged.\n",
      "  warnings.warn(\n"
     ]
    },
    {
     "name": "stdout",
     "output_type": "stream",
     "text": [
      "0.0 => (1.0, 0.83475)\n",
      "0.1 => (1.0, 0.8946666666666667)\n",
      "0.2 => (1.0, 0.89475)\n",
      "0.30000000000000004 => (0.9999642857142857, 0.8945)\n",
      "0.4 => (0.9998928571428571, 0.8939166666666667)\n",
      "0.5 => (0.9998928571428571, 0.8938333333333335)\n",
      "0.6000000000000001 => (0.99975, 0.8930833333333333)\n",
      "0.7000000000000001 => (0.9995357142857143, 0.8918333333333334)\n",
      "0.8 => (0.9993928571428572, 0.891)\n",
      "0.9 => (0.9991071428571429, 0.8905833333333333)\n"
     ]
    },
    {
     "data": {
      "image/png": "[encoded data removed]",
      "text/plain": [
       "<Figure size 640x480 with 1 Axes>"
      ]
     },
     "metadata": {},
     "output_type": "display_data"
    }
   ],
   "source": [
    "print('TF-IDF - Trigram Multinomial NB using different values for alpha')\n",
    "arange = np.arange(0, 1, 0.1)\n",
    "results = []\n",
    "for a in arange:\n",
    "  model = MultinomialNB(alpha=a)\n",
    "  res = classification(tfidftri_X, data_y, model, 2)\n",
    "  results.append(res)\n",
    "  print(a, '=>', res)\n",
    "  \n",
    "plt.plot(arange, results)\n",
    "plt.legend([\"Train\", \"Test\"])\n",
    "plt.show()"
   ]
  },
  {
   "cell_type": "markdown",
   "id": "04127c51",
   "metadata": {},
   "source": [
    "### Ensemble Methods"
   ]
  },
  {
   "cell_type": "code",
   "execution_count": 68,
   "id": "3d8ff2d8",
   "metadata": {},
   "outputs": [],
   "source": [
    "def ensemble(data_x, data_y, vect):\n",
    "    X_train, X_test, y_train, y_test = train_test_split(data_x, data_y, test_size=0.3, random_state=42) \n",
    "\n",
    "    dt_model = DecisionTreeClassifier(min_samples_split=0.35)\n",
    "\n",
    "    ensemble_classifier = make_pipeline(vect, VotingClassifier(estimators=[('LR', lr), ('MNB', mnb), ('DT', dt_model)], voting = 'soft',  weights=[1,1,1]))\n",
    "    ensemble_classifier.fit(X_train, y_train) \n",
    "\n",
    "    ensemble_train_preds = ensemble_classifier.predict(X_train)\n",
    "    ensemble_train_f1 = f1_score(y_train, ensemble_train_preds, average='micro')\n",
    "    ensemble_test_preds = ensemble_classifier.predict(X_test)\n",
    "    ensemble_test_f1 = f1_score(y_test, ensemble_test_preds, average='micro')\n",
    "    return ensemble_train_f1, ensemble_test_f1"
   ]
  },
  {
   "cell_type": "code",
   "execution_count": null,
   "id": "41350861",
   "metadata": {},
   "outputs": [
    {
     "name": "stderr",
     "output_type": "stream",
     "text": [
      "/Library/Frameworks/Python.framework/Versions/3.11/lib/python3.11/site-packages/sklearn/linear_model/_logistic.py:458: ConvergenceWarning: lbfgs failed to converge (status=1):\n",
      "STOP: TOTAL NO. of ITERATIONS REACHED LIMIT.\n",
      "\n",
      "Increase the number of iterations (max_iter) or scale the data as shown in:\n",
      "    https://scikit-learn.org/stable/modules/preprocessing.html\n",
      "Please also refer to the documentation for alternative solver options:\n",
      "    https://scikit-learn.org/stable/modules/linear_model.html#logistic-regression\n",
      "  n_iter_i = _check_optimize_result(\n"
     ]
    },
    {
     "name": "stdout",
     "output_type": "stream",
     "text": [
      "Bag of Words => (0.9541071428571428, 0.8870833333333333)\n"
     ]
    },
    {
     "name": "stderr",
     "output_type": "stream",
     "text": [
      "/Library/Frameworks/Python.framework/Versions/3.11/lib/python3.11/site-packages/sklearn/linear_model/_logistic.py:458: ConvergenceWarning: lbfgs failed to converge (status=1):\n",
      "STOP: TOTAL NO. of ITERATIONS REACHED LIMIT.\n",
      "\n",
      "Increase the number of iterations (max_iter) or scale the data as shown in:\n",
      "    https://scikit-learn.org/stable/modules/preprocessing.html\n",
      "Please also refer to the documentation for alternative solver options:\n",
      "    https://scikit-learn.org/stable/modules/linear_model.html#logistic-regression\n",
      "  n_iter_i = _check_optimize_result(\n"
     ]
    },
    {
     "name": "stdout",
     "output_type": "stream",
     "text": [
      "Bag of Words = Bigram => (0.9982857142857143, 0.8980833333333332)\n",
      "TF-IDF => (0.9127857142857143, 0.8803333333333333)\n",
      "TF-IDF - Bigram => (0.9476071428571429, 0.8731666666666666)\n"
     ]
    }
   ],
   "source": [
    "vectorizer_names = ['Bag of Words', 'Bag of Words = Bigram', 'TF-IDF', 'TF-IDF - Bigram', 'TF-IDF - Trigram']\n",
    "vectorizers = [bow, bowbigram, tfidf, tfidf_bigram, tfidf_trigram]\n",
    "results = []\n",
    "for i in range(len(vectorizers)):\n",
    "  res = ensemble(data_x, data_y, vectorizers[i])\n",
    "  results.append(res)\n",
    "  print(vectorizer_names[i], '=>', res)\n",
    "  \n",
    "plt.plot(vectorizer_names, results)\n",
    "plt.legend([\"Train\", \"Test\"])\n",
    "plt.show()"
   ]
  },
  {
   "cell_type": "markdown",
   "id": "831ac7b9",
   "metadata": {},
   "source": [
    "### Best Model is Ensemble using Bag of Words - Bigram giving us a test F1 score of 0.898 closely followed by Logistic Regression using Bag of Words - Bigram giving us a test F1 score of 0.897\n"
   ]
  },
  {
   "cell_type": "code",
   "execution_count": null,
   "id": "6398b269",
   "metadata": {},
   "outputs": [],
   "source": []
  },
  {
   "cell_type": "code",
   "execution_count": null,
   "id": "bd701c05",
   "metadata": {},
   "outputs": [],
   "source": []
  }
 ],
 "metadata": {
  "kernelspec": {
   "display_name": "Python 3 (ipykernel)",
   "language": "python",
   "name": "python3"
  },
  "language_info": {
   "codemirror_mode": {
    "name": "ipython",
    "version": 3
   },
   "file_extension": ".py",
   "mimetype": "text/x-python",
   "name": "python",
   "nbconvert_exporter": "python",
   "pygments_lexer": "ipython3",
   "version": "3.11.1"
  }
 },
 "nbformat": 4,
 "nbformat_minor": 5
}
